{
 "cells": [
  {
   "cell_type": "markdown",
   "id": "4cbac5ee",
   "metadata": {},
   "source": [
    "ЗАДАЧА:\n",
    "сделать бесконечй цикл для диалога с моделью в одном чате с сохранением всего этого контекста:\n",
    "+ если пользователь вводит \"/exit\", то выйти из цикла\n",
    "+ если вводит \"/clear\", то очистить историю, кроме system prompt\n",
    "+ если вводит \"/system какой-то текст\", то всё что после /system - будет системный промптом\n",
    "+ для задачи обязательно использовать rich console https://rich.readthedocs.io/en/latest/console.html\n",
    "+ и panel для красоты https://rich.readthedocs.io/en/latest/panel.html\n",
    "+ форматирование через https://rich.readthedocs.io/en/latest/markdown.html"
   ]
  },
  {
   "cell_type": "code",
   "execution_count": 220,
   "id": "da6e8a67",
   "metadata": {},
   "outputs": [
    {
     "data": {
      "text/plain": [
       "True"
      ]
     },
     "execution_count": 220,
     "metadata": {},
     "output_type": "execute_result"
    }
   ],
   "source": [
    "from rich.console import Console\n",
    "from rich.panel import Panel\n",
    "from rich.markdown import Markdown\n",
    "from rich import box\n",
    "\n",
    "from openai import OpenAI\n",
    "\n",
    "from enum import Enum\n",
    "\n",
    "from pydantic import SecretStr, HttpUrl, BaseModel\n",
    "from pydantic_settings import SettingsConfigDict, BaseSettings\n",
    "\n",
    "import dotenv\n",
    "\n",
    "dotenv.load_dotenv(dotenv.find_dotenv())"
   ]
  },
  {
   "cell_type": "code",
   "execution_count": 221,
   "id": "925288ac",
   "metadata": {},
   "outputs": [],
   "source": [
    "console = Console(color_system=\"standard\")"
   ]
  },
  {
   "cell_type": "code",
   "execution_count": null,
   "id": "db7f4cab",
   "metadata": {},
   "outputs": [],
   "source": [
    "class OpenAISettings(BaseSettings):\n",
    "  \n",
    "  openai_api_key: SecretStr\n",
    "  openai_base_url: HttpUrl\n",
    "  \n",
    "  model: str = \"GigaChat/GigaChat-2-Max\"\n",
    "  \n",
    "  model_config = SettingsConfigDict(env_file=\".env\")\n",
    "  \n",
    "configs = OpenAISettings()"
   ]
  },
  {
   "cell_type": "code",
   "execution_count": 223,
   "id": "f3045139",
   "metadata": {},
   "outputs": [],
   "source": [
    "class RoleModel(Enum):\n",
    "  SYSTEM = \"system\"\n",
    "  USER = \"user\"\n",
    "  ASSISTANT = \"assistant\"\n",
    "class MessageModel(BaseModel):\n",
    "  role: str\n",
    "  content: str"
   ]
  },
  {
   "cell_type": "code",
   "execution_count": 224,
   "id": "7bf1a452",
   "metadata": {},
   "outputs": [],
   "source": [
    "def display_message_with_formatting(*, role: RoleModel, content: str) -> None:\n",
    "  \n",
    "      if role == \"user\":\n",
    "        style = \"bold blue\"\n",
    "        border_style = \"blue\"\n",
    "      elif role == \"assistant\":\n",
    "          style = \"bold green\"\n",
    "          border_style = \"green\"\n",
    "          content = Markdown(content)\n",
    "      elif role == \"system\":\n",
    "          style = \"bold yellow\"\n",
    "          border_style = \"yellow\"\n",
    "      else:\n",
    "          style = \"\"\n",
    "          border_style = \"white\"\n",
    "\n",
    "      console.print(\n",
    "          Panel(\n",
    "              content,\n",
    "              title=f\"[{style}]{role}\",\n",
    "              title_align=\"center\",\n",
    "              border_style=border_style,\n",
    "              box=box.ROUNDED,\n",
    "              expand=False,\n",
    "          )\n",
    "      )"
   ]
  },
  {
   "cell_type": "code",
   "execution_count": 225,
   "id": "6edd7da3",
   "metadata": {},
   "outputs": [],
   "source": [
    "def get_client() -> OpenAI:\n",
    "    settings = OpenAISettings()\n",
    "    client = OpenAI(\n",
    "        api_key=settings.openai_api_key.get_secret_value(),\n",
    "        base_url=str(settings.openai_base_url),\n",
    "    )\n",
    "    return client"
   ]
  },
  {
   "cell_type": "code",
   "execution_count": 226,
   "id": "73c4a28d",
   "metadata": {},
   "outputs": [],
   "source": [
    "def chat_completion(*, model: str, messages: list) -> list[MessageModel]:\n",
    "  client = get_client()\n",
    "  \n",
    "  completion = client.chat.completions.create(\n",
    "    model=model, \n",
    "    temperature=1, \n",
    "    max_tokens=2000, \n",
    "    messages=messages\n",
    "  )\n",
    "  \n",
    "  content = completion.choices[0].message.content.strip()\n",
    "  new_message = MessageModel(role=RoleModel.ASSISTANT, content=content)\n",
    "  \n",
    "  display_message_with_formatting(role=RoleModel.ASSISTANT.value, content=content)\n",
    "\n",
    "  messages.append(new_message.model_dump())\n",
    "  \n",
    "  return messages"
   ]
  },
  {
   "cell_type": "code",
   "execution_count": 227,
   "id": "488e4d5c",
   "metadata": {},
   "outputs": [],
   "source": [
    "def handle_user_input(*, user_input: str, messages: list[MessageModel]) -> tuple[list[MessageModel], bool]:\n",
    "\n",
    "  if user_input.lower().startswith(\"/exit\"):\n",
    "    console.print(Panel(\"Exit from loop - /exit command\", style=\"red\", expand=False))\n",
    "    return [], False\n",
    "  elif user_input.lower().startswith(\"/clear\"):\n",
    "    console.print(Panel(\"Clear all messages history - /clear command\", style=\"yellow\", expand=False))\n",
    "    messages = [message for message in messages if message[\"role\"] == \"system\"]\n",
    "  elif user_input.lower().startswith(\"/system\"):\n",
    "    console.print(Panel(\"Set new system prompt - /system command\", style=\"yellow\", expand=False))\n",
    "    system_prompt = user_input.replace(\"/system\", \"\").strip()\n",
    "    system_message = MessageModel(role=\"system\", content=system_prompt)\n",
    "    if not len(messages):\n",
    "      messages.append(system_message.model_dump())\n",
    "    else:\n",
    "      for index, message in enumerate(messages):\n",
    "        if message[\"role\"] == \"system\":\n",
    "          messages[index] = system_message.model_dump()\n",
    "  else:\n",
    "    console.print(Panel(\"Add new message in messages history\", style=\"green\", expand=False))\n",
    "    new_message = MessageModel(role=RoleModel.USER, content=user_input)\n",
    "    messages.append(new_message.model_dump())\n",
    "    \n",
    "  return messages, True"
   ]
  },
  {
   "cell_type": "code",
   "execution_count": 228,
   "id": "c9e5651b",
   "metadata": {},
   "outputs": [
    {
     "data": {
      "text/html": [
       "<pre style=\"white-space:pre;overflow-x:auto;line-height:normal;font-family:Menlo,'DejaVu Sans Mono',consolas,'Courier New',monospace\"><span style=\"color: #808000; text-decoration-color: #808000\">╭─────────────────────────────────────────╮</span>\n",
       "<span style=\"color: #808000; text-decoration-color: #808000\">│ Set new system prompt - /system command │</span>\n",
       "<span style=\"color: #808000; text-decoration-color: #808000\">╰─────────────────────────────────────────╯</span>\n",
       "</pre>\n"
      ],
      "text/plain": [
       "\u001b[33m╭─────────────────────────────────────────╮\u001b[0m\n",
       "\u001b[33m│\u001b[0m\u001b[33m \u001b[0m\u001b[33mSet new system prompt - /system command\u001b[0m\u001b[33m \u001b[0m\u001b[33m│\u001b[0m\n",
       "\u001b[33m╰─────────────────────────────────────────╯\u001b[0m\n"
      ]
     },
     "metadata": {},
     "output_type": "display_data"
    },
    {
     "data": {
      "text/html": [
       "<pre style=\"white-space:pre;overflow-x:auto;line-height:normal;font-family:Menlo,'DejaVu Sans Mono',consolas,'Courier New',monospace\"><span style=\"color: #008000; text-decoration-color: #008000\">╭─────────────────────────────────────────────────── </span><span style=\"color: #008000; text-decoration-color: #008000; font-weight: bold\">assistant</span><span style=\"color: #008000; text-decoration-color: #008000\"> ───────────────────────────────────────────────────╮</span>\n",
       "<span style=\"color: #008000; text-decoration-color: #008000\">│</span> Задавай вопросы — разберёмся вместе!                                                                            <span style=\"color: #008000; text-decoration-color: #008000\">│</span>\n",
       "<span style=\"color: #008000; text-decoration-color: #008000\">╰─────────────────────────────────────────────────────────────────────────────────────────────────────────────────╯</span>\n",
       "</pre>\n"
      ],
      "text/plain": [
       "\u001b[32m╭─\u001b[0m\u001b[32m──────────────────────────────────────────────────\u001b[0m\u001b[32m \u001b[0m\u001b[1;32massistant\u001b[0m\u001b[32m \u001b[0m\u001b[32m──────────────────────────────────────────────────\u001b[0m\u001b[32m─╮\u001b[0m\n",
       "\u001b[32m│\u001b[0m Задавай вопросы — разберёмся вместе!                                                                            \u001b[32m│\u001b[0m\n",
       "\u001b[32m╰─────────────────────────────────────────────────────────────────────────────────────────────────────────────────╯\u001b[0m\n"
      ]
     },
     "metadata": {},
     "output_type": "display_data"
    },
    {
     "data": {
      "text/html": [
       "<pre style=\"white-space:pre;overflow-x:auto;line-height:normal;font-family:Menlo,'DejaVu Sans Mono',consolas,'Courier New',monospace\"><span style=\"color: #008000; text-decoration-color: #008000\">╭─────────────────────────────────────╮</span>\n",
       "<span style=\"color: #008000; text-decoration-color: #008000\">│ Add new message in messages history │</span>\n",
       "<span style=\"color: #008000; text-decoration-color: #008000\">╰─────────────────────────────────────╯</span>\n",
       "</pre>\n"
      ],
      "text/plain": [
       "\u001b[32m╭─────────────────────────────────────╮\u001b[0m\n",
       "\u001b[32m│\u001b[0m\u001b[32m \u001b[0m\u001b[32mAdd new message in messages history\u001b[0m\u001b[32m \u001b[0m\u001b[32m│\u001b[0m\n",
       "\u001b[32m╰─────────────────────────────────────╯\u001b[0m\n"
      ]
     },
     "metadata": {},
     "output_type": "display_data"
    },
    {
     "data": {
      "text/html": [
       "<pre style=\"white-space:pre;overflow-x:auto;line-height:normal;font-family:Menlo,'DejaVu Sans Mono',consolas,'Courier New',monospace\"><span style=\"color: #008000; text-decoration-color: #008000\">╭─────────────────────────────────────────────────── </span><span style=\"color: #008000; text-decoration-color: #008000; font-weight: bold\">assistant</span><span style=\"color: #008000; text-decoration-color: #008000\"> ───────────────────────────────────────────────────╮</span>\n",
       "<span style=\"color: #008000; text-decoration-color: #008000\">│</span> Параллельная парковка — одна из важнейших маневров для водителя любого большого города вроде Ростова-на-Дону,   <span style=\"color: #008000; text-decoration-color: #008000\">│</span>\n",
       "<span style=\"color: #008000; text-decoration-color: #008000\">│</span> где плотность машин высока, места ограничены, а хорошие парковочные зоны часто встречаются редко. Правильная    <span style=\"color: #008000; text-decoration-color: #008000\">│</span>\n",
       "<span style=\"color: #008000; text-decoration-color: #008000\">│</span> параллельная парковка требует внимательности, спокойствия и уверенности в действиях.                            <span style=\"color: #008000; text-decoration-color: #008000\">│</span>\n",
       "<span style=\"color: #008000; text-decoration-color: #008000\">│</span>                                                                                                                 <span style=\"color: #008000; text-decoration-color: #008000\">│</span>\n",
       "<span style=\"color: #008000; text-decoration-color: #008000\">│</span>                                              <span style=\"font-weight: bold\">Инструкция пошагово:</span>                                               <span style=\"color: #008000; text-decoration-color: #008000\">│</span>\n",
       "<span style=\"color: #008000; text-decoration-color: #008000\">│</span>                                                                                                                 <span style=\"color: #008000; text-decoration-color: #008000\">│</span>\n",
       "<span style=\"color: #008000; text-decoration-color: #008000\">│</span> <span style=\"color: #808000; text-decoration-color: #808000; font-weight: bold\"> 1 </span><span style=\"font-weight: bold\">Выберите место</span>                                                                                               <span style=\"color: #008000; text-decoration-color: #008000\">│</span>\n",
       "<span style=\"color: #008000; text-decoration-color: #008000\">│</span> <span style=\"color: #808000; text-decoration-color: #808000; font-weight: bold\">   </span>Перед началом парковки убедитесь, что выбранное пространство достаточно велико: оно должно превышать длину   <span style=\"color: #008000; text-decoration-color: #008000\">│</span>\n",
       "<span style=\"color: #008000; text-decoration-color: #008000\">│</span> <span style=\"color: #808000; text-decoration-color: #808000; font-weight: bold\">   </span>вашего автомобиля примерно на 1–1,5 метра спереди и сзади.                                                   <span style=\"color: #008000; text-decoration-color: #008000\">│</span>\n",
       "<span style=\"color: #008000; text-decoration-color: #008000\">│</span> <span style=\"color: #808000; text-decoration-color: #808000; font-weight: bold\"> 2 </span><span style=\"font-weight: bold\">Подготовьтесь к началу манёвра</span> Выровняйте машину параллельно автомобилю впереди выбранного вами свободного   <span style=\"color: #008000; text-decoration-color: #008000\">│</span>\n",
       "<span style=\"color: #008000; text-decoration-color: #008000\">│</span> <span style=\"color: #808000; text-decoration-color: #808000; font-weight: bold\">   </span>пространства, остановитесь на расстоянии около полуметра от него бок о бок. Важно, чтобы ваши задние бамперы <span style=\"color: #008000; text-decoration-color: #008000\">│</span>\n",
       "<span style=\"color: #008000; text-decoration-color: #008000\">│</span> <span style=\"color: #808000; text-decoration-color: #808000; font-weight: bold\">   </span>были примерно на одном уровне.                                                                               <span style=\"color: #008000; text-decoration-color: #008000\">│</span>\n",
       "<span style=\"color: #008000; text-decoration-color: #008000\">│</span> <span style=\"color: #808000; text-decoration-color: #808000; font-weight: bold\"> 3 </span><span style=\"font-weight: bold\">Начало движения назад</span> Включите правый поворотник, проверьте зеркала заднего вида и обстановку вокруг себя.   <span style=\"color: #008000; text-decoration-color: #008000\">│</span>\n",
       "<span style=\"color: #008000; text-decoration-color: #008000\">│</span> <span style=\"color: #808000; text-decoration-color: #808000; font-weight: bold\">   </span>Убедившись, что всё чисто, начните движение назад медленно и аккуратно.                                      <span style=\"color: #008000; text-decoration-color: #008000\">│</span>\n",
       "<span style=\"color: #008000; text-decoration-color: #008000\">│</span> <span style=\"color: #808000; text-decoration-color: #808000; font-weight: bold\"> 4 </span><span style=\"font-weight: bold\">Первая точка поворота</span> Когда ваш задний угол машины достигнет уровня начала передней фары соседнего авто      <span style=\"color: #008000; text-decoration-color: #008000\">│</span>\n",
       "<span style=\"color: #008000; text-decoration-color: #008000\">│</span> <span style=\"color: #808000; text-decoration-color: #808000; font-weight: bold\">   </span>позади вас, поверните руль вправо до упора. Медленно продолжайте двигаться назад.                            <span style=\"color: #008000; text-decoration-color: #008000\">│</span>\n",
       "<span style=\"color: #008000; text-decoration-color: #008000\">│</span> <span style=\"color: #808000; text-decoration-color: #808000; font-weight: bold\"> 5 </span><span style=\"font-weight: bold\">Корректировка положения</span> Как только ваша машина окажется примерно под углом 45 градусов относительно бордюра, <span style=\"color: #008000; text-decoration-color: #008000\">│</span>\n",
       "<span style=\"color: #008000; text-decoration-color: #008000\">│</span> <span style=\"color: #808000; text-decoration-color: #808000; font-weight: bold\">   </span>быстро выровняйте руль прямо и двигайтесь дальше назад.                                                      <span style=\"color: #008000; text-decoration-color: #008000\">│</span>\n",
       "<span style=\"color: #008000; text-decoration-color: #008000\">│</span> <span style=\"color: #808000; text-decoration-color: #808000; font-weight: bold\"> 6 </span><span style=\"font-weight: bold\">Вторая точка поворота</span> Дождитесь момента, когда передний край вашей машины будет примерно напротив середины   <span style=\"color: #008000; text-decoration-color: #008000\">│</span>\n",
       "<span style=\"color: #008000; text-decoration-color: #008000\">│</span> <span style=\"color: #808000; text-decoration-color: #808000; font-weight: bold\">   </span>стоящего рядом автомобиля (спереди), тогда резко выкрутите руль влево до конца.                              <span style=\"color: #008000; text-decoration-color: #008000\">│</span>\n",
       "<span style=\"color: #008000; text-decoration-color: #008000\">│</span> <span style=\"color: #808000; text-decoration-color: #808000; font-weight: bold\"> 7 </span><span style=\"font-weight: bold\">Завершение парковки</span> Продолжая ехать назад, следите за расстоянием до обоих соседних автомобилей.             <span style=\"color: #008000; text-decoration-color: #008000\">│</span>\n",
       "<span style=\"color: #008000; text-decoration-color: #008000\">│</span> <span style=\"color: #808000; text-decoration-color: #808000; font-weight: bold\">   </span>Остановитесь, когда вы ровно встали между ними, либо расстояние от переднего и заднего края одинаково.       <span style=\"color: #008000; text-decoration-color: #008000\">│</span>\n",
       "<span style=\"color: #008000; text-decoration-color: #008000\">│</span> <span style=\"color: #808000; text-decoration-color: #808000; font-weight: bold\"> 8 </span><span style=\"font-weight: bold\">Поставьте автомобиль в нужное положение</span> Если нужно немного откорректировать позицию (подвинуть ближе к       <span style=\"color: #008000; text-decoration-color: #008000\">│</span>\n",
       "<span style=\"color: #008000; text-decoration-color: #008000\">│</span> <span style=\"color: #808000; text-decoration-color: #808000; font-weight: bold\">   </span>бордюру или чуть вперёд/назад), используйте медленные аккуратные передвижения вперед-назад.                  <span style=\"color: #008000; text-decoration-color: #008000\">│</span>\n",
       "<span style=\"color: #008000; text-decoration-color: #008000\">│</span>                                                                                                                 <span style=\"color: #008000; text-decoration-color: #008000\">│</span>\n",
       "<span style=\"color: #008000; text-decoration-color: #008000\">│</span> <span style=\"color: #808000; text-decoration-color: #808000\">───────────────────────────────────────────────────────────────────────────────────────────────────────────────</span> <span style=\"color: #008000; text-decoration-color: #008000\">│</span>\n",
       "<span style=\"color: #008000; text-decoration-color: #008000\">│</span>                                                 <span style=\"font-weight: bold\">Важные советы:</span>                                                  <span style=\"color: #008000; text-decoration-color: #008000\">│</span>\n",
       "<span style=\"color: #008000; text-decoration-color: #008000\">│</span>                                                                                                                 <span style=\"color: #008000; text-decoration-color: #008000\">│</span>\n",
       "<span style=\"color: #008000; text-decoration-color: #008000\">│</span> <span style=\"color: #808000; text-decoration-color: #808000; font-weight: bold\"> • </span>Внимательно смотрите в боковые зеркала во время выполнения всех действий!                                    <span style=\"color: #008000; text-decoration-color: #008000\">│</span>\n",
       "<span style=\"color: #008000; text-decoration-color: #008000\">│</span> <span style=\"color: #808000; text-decoration-color: #808000; font-weight: bold\"> • </span>Не спешите: лучше сделать этот процесс дольше, но корректнее и увереннее.                                    <span style=\"color: #008000; text-decoration-color: #008000\">│</span>\n",
       "<span style=\"color: #008000; text-decoration-color: #008000\">│</span> <span style=\"color: #808000; text-decoration-color: #808000; font-weight: bold\"> • </span>Следите за пешеходами, велосипедистами и машинами поблизости — городской трафик непредсказуем.               <span style=\"color: #008000; text-decoration-color: #008000\">│</span>\n",
       "<span style=\"color: #008000; text-decoration-color: #008000\">│</span> <span style=\"color: #808000; text-decoration-color: #808000; font-weight: bold\"> • </span>Регулярно проверяйте дистанцию до окружающих объектов.                                                       <span style=\"color: #008000; text-decoration-color: #008000\">│</span>\n",
       "<span style=\"color: #008000; text-decoration-color: #008000\">│</span> <span style=\"color: #808000; text-decoration-color: #808000; font-weight: bold\"> • </span>Используйте короткие расстояния для небольших движений — чрезмерная скорость здесь неуместна.                <span style=\"color: #008000; text-decoration-color: #008000\">│</span>\n",
       "<span style=\"color: #008000; text-decoration-color: #008000\">│</span>                                                                                                                 <span style=\"color: #008000; text-decoration-color: #008000\">│</span>\n",
       "<span style=\"color: #008000; text-decoration-color: #008000\">│</span> <span style=\"color: #808000; text-decoration-color: #808000\">───────────────────────────────────────────────────────────────────────────────────────────────────────────────</span> <span style=\"color: #008000; text-decoration-color: #008000\">│</span>\n",
       "<span style=\"color: #008000; text-decoration-color: #008000\">│</span>                                                   <span style=\"font-weight: bold\">Заключение</span>                                                    <span style=\"color: #008000; text-decoration-color: #008000\">│</span>\n",
       "<span style=\"color: #008000; text-decoration-color: #008000\">│</span>                                                                                                                 <span style=\"color: #008000; text-decoration-color: #008000\">│</span>\n",
       "<span style=\"color: #008000; text-decoration-color: #008000\">│</span> Правильно выполненная параллельная парковка поможет вам уверенно чувствовать себя даже в условиях плотной       <span style=\"color: #008000; text-decoration-color: #008000\">│</span>\n",
       "<span style=\"color: #008000; text-decoration-color: #008000\">│</span> застройки и загруженных улиц мегаполисов типа Ростова-на-Дону. Тренируйтесь регулярно, внимательно изучайте     <span style=\"color: #008000; text-decoration-color: #008000\">│</span>\n",
       "<span style=\"color: #008000; text-decoration-color: #008000\">│</span> правила дорожного движения, соблюдайте осторожность и спокойствие — успех придёт довольно скоро!                <span style=\"color: #008000; text-decoration-color: #008000\">│</span>\n",
       "<span style=\"color: #008000; text-decoration-color: #008000\">╰─────────────────────────────────────────────────────────────────────────────────────────────────────────────────╯</span>\n",
       "</pre>\n"
      ],
      "text/plain": [
       "\u001b[32m╭─\u001b[0m\u001b[32m──────────────────────────────────────────────────\u001b[0m\u001b[32m \u001b[0m\u001b[1;32massistant\u001b[0m\u001b[32m \u001b[0m\u001b[32m──────────────────────────────────────────────────\u001b[0m\u001b[32m─╮\u001b[0m\n",
       "\u001b[32m│\u001b[0m Параллельная парковка — одна из важнейших маневров для водителя любого большого города вроде Ростова-на-Дону,   \u001b[32m│\u001b[0m\n",
       "\u001b[32m│\u001b[0m где плотность машин высока, места ограничены, а хорошие парковочные зоны часто встречаются редко. Правильная    \u001b[32m│\u001b[0m\n",
       "\u001b[32m│\u001b[0m параллельная парковка требует внимательности, спокойствия и уверенности в действиях.                            \u001b[32m│\u001b[0m\n",
       "\u001b[32m│\u001b[0m                                                                                                                 \u001b[32m│\u001b[0m\n",
       "\u001b[32m│\u001b[0m                                              \u001b[1mИнструкция пошагово:\u001b[0m                                               \u001b[32m│\u001b[0m\n",
       "\u001b[32m│\u001b[0m                                                                                                                 \u001b[32m│\u001b[0m\n",
       "\u001b[32m│\u001b[0m \u001b[1;33m 1 \u001b[0m\u001b[1mВыберите место\u001b[0m                                                                                               \u001b[32m│\u001b[0m\n",
       "\u001b[32m│\u001b[0m \u001b[1;33m   \u001b[0mПеред началом парковки убедитесь, что выбранное пространство достаточно велико: оно должно превышать длину   \u001b[32m│\u001b[0m\n",
       "\u001b[32m│\u001b[0m \u001b[1;33m   \u001b[0mвашего автомобиля примерно на 1–1,5 метра спереди и сзади.                                                   \u001b[32m│\u001b[0m\n",
       "\u001b[32m│\u001b[0m \u001b[1;33m 2 \u001b[0m\u001b[1mПодготовьтесь к началу манёвра\u001b[0m Выровняйте машину параллельно автомобилю впереди выбранного вами свободного   \u001b[32m│\u001b[0m\n",
       "\u001b[32m│\u001b[0m \u001b[1;33m   \u001b[0mпространства, остановитесь на расстоянии около полуметра от него бок о бок. Важно, чтобы ваши задние бамперы \u001b[32m│\u001b[0m\n",
       "\u001b[32m│\u001b[0m \u001b[1;33m   \u001b[0mбыли примерно на одном уровне.                                                                               \u001b[32m│\u001b[0m\n",
       "\u001b[32m│\u001b[0m \u001b[1;33m 3 \u001b[0m\u001b[1mНачало движения назад\u001b[0m Включите правый поворотник, проверьте зеркала заднего вида и обстановку вокруг себя.   \u001b[32m│\u001b[0m\n",
       "\u001b[32m│\u001b[0m \u001b[1;33m   \u001b[0mУбедившись, что всё чисто, начните движение назад медленно и аккуратно.                                      \u001b[32m│\u001b[0m\n",
       "\u001b[32m│\u001b[0m \u001b[1;33m 4 \u001b[0m\u001b[1mПервая точка поворота\u001b[0m Когда ваш задний угол машины достигнет уровня начала передней фары соседнего авто      \u001b[32m│\u001b[0m\n",
       "\u001b[32m│\u001b[0m \u001b[1;33m   \u001b[0mпозади вас, поверните руль вправо до упора. Медленно продолжайте двигаться назад.                            \u001b[32m│\u001b[0m\n",
       "\u001b[32m│\u001b[0m \u001b[1;33m 5 \u001b[0m\u001b[1mКорректировка положения\u001b[0m Как только ваша машина окажется примерно под углом 45 градусов относительно бордюра, \u001b[32m│\u001b[0m\n",
       "\u001b[32m│\u001b[0m \u001b[1;33m   \u001b[0mбыстро выровняйте руль прямо и двигайтесь дальше назад.                                                      \u001b[32m│\u001b[0m\n",
       "\u001b[32m│\u001b[0m \u001b[1;33m 6 \u001b[0m\u001b[1mВторая точка поворота\u001b[0m Дождитесь момента, когда передний край вашей машины будет примерно напротив середины   \u001b[32m│\u001b[0m\n",
       "\u001b[32m│\u001b[0m \u001b[1;33m   \u001b[0mстоящего рядом автомобиля (спереди), тогда резко выкрутите руль влево до конца.                              \u001b[32m│\u001b[0m\n",
       "\u001b[32m│\u001b[0m \u001b[1;33m 7 \u001b[0m\u001b[1mЗавершение парковки\u001b[0m Продолжая ехать назад, следите за расстоянием до обоих соседних автомобилей.             \u001b[32m│\u001b[0m\n",
       "\u001b[32m│\u001b[0m \u001b[1;33m   \u001b[0mОстановитесь, когда вы ровно встали между ними, либо расстояние от переднего и заднего края одинаково.       \u001b[32m│\u001b[0m\n",
       "\u001b[32m│\u001b[0m \u001b[1;33m 8 \u001b[0m\u001b[1mПоставьте автомобиль в нужное положение\u001b[0m Если нужно немного откорректировать позицию (подвинуть ближе к       \u001b[32m│\u001b[0m\n",
       "\u001b[32m│\u001b[0m \u001b[1;33m   \u001b[0mбордюру или чуть вперёд/назад), используйте медленные аккуратные передвижения вперед-назад.                  \u001b[32m│\u001b[0m\n",
       "\u001b[32m│\u001b[0m                                                                                                                 \u001b[32m│\u001b[0m\n",
       "\u001b[32m│\u001b[0m \u001b[33m───────────────────────────────────────────────────────────────────────────────────────────────────────────────\u001b[0m \u001b[32m│\u001b[0m\n",
       "\u001b[32m│\u001b[0m                                                 \u001b[1mВажные советы:\u001b[0m                                                  \u001b[32m│\u001b[0m\n",
       "\u001b[32m│\u001b[0m                                                                                                                 \u001b[32m│\u001b[0m\n",
       "\u001b[32m│\u001b[0m \u001b[1;33m • \u001b[0mВнимательно смотрите в боковые зеркала во время выполнения всех действий!                                    \u001b[32m│\u001b[0m\n",
       "\u001b[32m│\u001b[0m \u001b[1;33m • \u001b[0mНе спешите: лучше сделать этот процесс дольше, но корректнее и увереннее.                                    \u001b[32m│\u001b[0m\n",
       "\u001b[32m│\u001b[0m \u001b[1;33m • \u001b[0mСледите за пешеходами, велосипедистами и машинами поблизости — городской трафик непредсказуем.               \u001b[32m│\u001b[0m\n",
       "\u001b[32m│\u001b[0m \u001b[1;33m • \u001b[0mРегулярно проверяйте дистанцию до окружающих объектов.                                                       \u001b[32m│\u001b[0m\n",
       "\u001b[32m│\u001b[0m \u001b[1;33m • \u001b[0mИспользуйте короткие расстояния для небольших движений — чрезмерная скорость здесь неуместна.                \u001b[32m│\u001b[0m\n",
       "\u001b[32m│\u001b[0m                                                                                                                 \u001b[32m│\u001b[0m\n",
       "\u001b[32m│\u001b[0m \u001b[33m───────────────────────────────────────────────────────────────────────────────────────────────────────────────\u001b[0m \u001b[32m│\u001b[0m\n",
       "\u001b[32m│\u001b[0m                                                   \u001b[1mЗаключение\u001b[0m                                                    \u001b[32m│\u001b[0m\n",
       "\u001b[32m│\u001b[0m                                                                                                                 \u001b[32m│\u001b[0m\n",
       "\u001b[32m│\u001b[0m Правильно выполненная параллельная парковка поможет вам уверенно чувствовать себя даже в условиях плотной       \u001b[32m│\u001b[0m\n",
       "\u001b[32m│\u001b[0m застройки и загруженных улиц мегаполисов типа Ростова-на-Дону. Тренируйтесь регулярно, внимательно изучайте     \u001b[32m│\u001b[0m\n",
       "\u001b[32m│\u001b[0m правила дорожного движения, соблюдайте осторожность и спокойствие — успех придёт довольно скоро!                \u001b[32m│\u001b[0m\n",
       "\u001b[32m╰─────────────────────────────────────────────────────────────────────────────────────────────────────────────────╯\u001b[0m\n"
      ]
     },
     "metadata": {},
     "output_type": "display_data"
    },
    {
     "data": {
      "text/html": [
       "<pre style=\"white-space:pre;overflow-x:auto;line-height:normal;font-family:Menlo,'DejaVu Sans Mono',consolas,'Courier New',monospace\"><span style=\"color: #008000; text-decoration-color: #008000\">╭─────────────────────────────────────╮</span>\n",
       "<span style=\"color: #008000; text-decoration-color: #008000\">│ Add new message in messages history │</span>\n",
       "<span style=\"color: #008000; text-decoration-color: #008000\">╰─────────────────────────────────────╯</span>\n",
       "</pre>\n"
      ],
      "text/plain": [
       "\u001b[32m╭─────────────────────────────────────╮\u001b[0m\n",
       "\u001b[32m│\u001b[0m\u001b[32m \u001b[0m\u001b[32mAdd new message in messages history\u001b[0m\u001b[32m \u001b[0m\u001b[32m│\u001b[0m\n",
       "\u001b[32m╰─────────────────────────────────────╯\u001b[0m\n"
      ]
     },
     "metadata": {},
     "output_type": "display_data"
    },
    {
     "data": {
      "text/html": [
       "<pre style=\"white-space:pre;overflow-x:auto;line-height:normal;font-family:Menlo,'DejaVu Sans Mono',consolas,'Courier New',monospace\"><span style=\"color: #008000; text-decoration-color: #008000\">╭─────────────────────────────────────────────────── </span><span style=\"color: #008000; text-decoration-color: #008000; font-weight: bold\">assistant</span><span style=\"color: #008000; text-decoration-color: #008000\"> ───────────────────────────────────────────────────╮</span>\n",
       "<span style=\"color: #008000; text-decoration-color: #008000\">│</span> Парковка задним ходом — один из важных водительских навыков, который позволяет эффективно использовать          <span style=\"color: #008000; text-decoration-color: #008000\">│</span>\n",
       "<span style=\"color: #008000; text-decoration-color: #008000\">│</span> минимальное пространство и удобно ставить автомобиль даже в стеснённых городских условиях. Эта техника особенно <span style=\"color: #008000; text-decoration-color: #008000\">│</span>\n",
       "<span style=\"color: #008000; text-decoration-color: #008000\">│</span> полезна в крупных городах, таких как Ростов-на-Дону, где парковочных мест зачастую недостаточно, а автомобили   <span style=\"color: #008000; text-decoration-color: #008000\">│</span>\n",
       "<span style=\"color: #008000; text-decoration-color: #008000\">│</span> припаркованы плотно друг к другу.                                                                               <span style=\"color: #008000; text-decoration-color: #008000\">│</span>\n",
       "<span style=\"color: #008000; text-decoration-color: #008000\">│</span>                                                                                                                 <span style=\"color: #008000; text-decoration-color: #008000\">│</span>\n",
       "<span style=\"color: #008000; text-decoration-color: #008000\">│</span>                                                                                                                 <span style=\"color: #008000; text-decoration-color: #008000\">│</span>\n",
       "<span style=\"color: #008000; text-decoration-color: #008000\">│</span>                                              <span style=\"font-weight: bold; text-decoration: underline\">Пошаговая инструкция:</span>                                              <span style=\"color: #008000; text-decoration-color: #008000\">│</span>\n",
       "<span style=\"color: #008000; text-decoration-color: #008000\">│</span>                                                                                                                 <span style=\"color: #008000; text-decoration-color: #008000\">│</span>\n",
       "<span style=\"color: #008000; text-decoration-color: #008000\">│</span>                                         <span style=\"font-weight: bold\">Шаг 1. Выбор подходящего места</span>                                          <span style=\"color: #008000; text-decoration-color: #008000\">│</span>\n",
       "<span style=\"color: #008000; text-decoration-color: #008000\">│</span>                                                                                                                 <span style=\"color: #008000; text-decoration-color: #008000\">│</span>\n",
       "<span style=\"color: #008000; text-decoration-color: #008000\">│</span> Убедитесь, что свободное место больше длины вашего автомобиля минимум на 1 метр спереди и сзади. Чем больше     <span style=\"color: #008000; text-decoration-color: #008000\">│</span>\n",
       "<span style=\"color: #008000; text-decoration-color: #008000\">│</span> запас, тем легче пройдет процедура.                                                                             <span style=\"color: #008000; text-decoration-color: #008000\">│</span>\n",
       "<span style=\"color: #008000; text-decoration-color: #008000\">│</span>                                                                                                                 <span style=\"color: #008000; text-decoration-color: #008000\">│</span>\n",
       "<span style=\"color: #008000; text-decoration-color: #008000\">│</span>                                          <span style=\"font-weight: bold\">Шаг 2. Подготовка к движению</span>                                           <span style=\"color: #008000; text-decoration-color: #008000\">│</span>\n",
       "<span style=\"color: #008000; text-decoration-color: #008000\">│</span>                                                                                                                 <span style=\"color: #008000; text-decoration-color: #008000\">│</span>\n",
       "<span style=\"color: #008000; text-decoration-color: #008000\">│</span> Припаркуйтесь справа от выбранного места так, чтобы ваше левое зеркало было близко к правому зеркалу            <span style=\"color: #008000; text-decoration-color: #008000\">│</span>\n",
       "<span style=\"color: #008000; text-decoration-color: #008000\">│</span> автомобиля, расположенного впереди пустого места. Оставляйте примерно полметра боковой дистанции.               <span style=\"color: #008000; text-decoration-color: #008000\">│</span>\n",
       "<span style=\"color: #008000; text-decoration-color: #008000\">│</span>                                                                                                                 <span style=\"color: #008000; text-decoration-color: #008000\">│</span>\n",
       "<span style=\"color: #008000; text-decoration-color: #008000\">│</span>                                          <span style=\"font-weight: bold\">Шаг 3. Начало движения назад</span>                                           <span style=\"color: #008000; text-decoration-color: #008000\">│</span>\n",
       "<span style=\"color: #008000; text-decoration-color: #008000\">│</span>                                                                                                                 <span style=\"color: #008000; text-decoration-color: #008000\">│</span>\n",
       "<span style=\"color: #008000; text-decoration-color: #008000\">│</span> Включите указатель правого поворота, проверьте зеркала и слепые зоны, убедившись, что путь свободен.            <span style=\"color: #008000; text-decoration-color: #008000\">│</span>\n",
       "<span style=\"color: #008000; text-decoration-color: #008000\">│</span>                                                                                                                 <span style=\"color: #008000; text-decoration-color: #008000\">│</span>\n",
       "<span style=\"color: #008000; text-decoration-color: #008000\">│</span>                                          <span style=\"font-weight: bold\">Шаг 4. Первая точка поворота</span>                                           <span style=\"color: #008000; text-decoration-color: #008000\">│</span>\n",
       "<span style=\"color: #008000; text-decoration-color: #008000\">│</span>                                                                                                                 <span style=\"color: #008000; text-decoration-color: #008000\">│</span>\n",
       "<span style=\"color: #008000; text-decoration-color: #008000\">│</span> Двигаясь назад, дождитесь, пока задняя дверь вашего автомобиля сравняется с задней частью впереди стоящей       <span style=\"color: #008000; text-decoration-color: #008000\">│</span>\n",
       "<span style=\"color: #008000; text-decoration-color: #008000\">│</span> машины. Затем быстро поверните руль направо до упора и начинайте медленно въезжать задним ходом.                <span style=\"color: #008000; text-decoration-color: #008000\">│</span>\n",
       "<span style=\"color: #008000; text-decoration-color: #008000\">│</span>                                                                                                                 <span style=\"color: #008000; text-decoration-color: #008000\">│</span>\n",
       "<span style=\"color: #008000; text-decoration-color: #008000\">│</span>                                              <span style=\"font-weight: bold\">Шаг 5. Коррекция угла</span>                                              <span style=\"color: #008000; text-decoration-color: #008000\">│</span>\n",
       "<span style=\"color: #008000; text-decoration-color: #008000\">│</span>                                                                                                                 <span style=\"color: #008000; text-decoration-color: #008000\">│</span>\n",
       "<span style=\"color: #008000; text-decoration-color: #008000\">│</span> Продолжайте смотреть через правое плечо и заднее стекло. Как только ваш автомобиль станет примерно под углом    <span style=\"color: #008000; text-decoration-color: #008000\">│</span>\n",
       "<span style=\"color: #008000; text-decoration-color: #008000\">│</span> 45° к дороге, выравниваем колеса, вращая руль обратно прямо.                                                    <span style=\"color: #008000; text-decoration-color: #008000\">│</span>\n",
       "<span style=\"color: #008000; text-decoration-color: #008000\">│</span>                                                                                                                 <span style=\"color: #008000; text-decoration-color: #008000\">│</span>\n",
       "<span style=\"color: #008000; text-decoration-color: #008000\">│</span>                                          <span style=\"font-weight: bold\">Шаг 6. Вторая точка поворота</span>                                           <span style=\"color: #008000; text-decoration-color: #008000\">│</span>\n",
       "<span style=\"color: #008000; text-decoration-color: #008000\">│</span>                                                                                                                 <span style=\"color: #008000; text-decoration-color: #008000\">│</span>\n",
       "<span style=\"color: #008000; text-decoration-color: #008000\">│</span> Когда передняя часть вашего автомобиля приблизится к середине впереди стоящего автомобиля, поворачиваем руль до <span style=\"color: #008000; text-decoration-color: #008000\">│</span>\n",
       "<span style=\"color: #008000; text-decoration-color: #008000\">│</span> упора влево и продолжаем двигаться назад.                                                                       <span style=\"color: #008000; text-decoration-color: #008000\">│</span>\n",
       "<span style=\"color: #008000; text-decoration-color: #008000\">│</span>                                                                                                                 <span style=\"color: #008000; text-decoration-color: #008000\">│</span>\n",
       "<span style=\"color: #008000; text-decoration-color: #008000\">│</span>                                           <span style=\"font-weight: bold\">Шаг 7. Завершение парковки</span>                                            <span style=\"color: #008000; text-decoration-color: #008000\">│</span>\n",
       "<span style=\"color: #008000; text-decoration-color: #008000\">│</span>                                                                                                                 <span style=\"color: #008000; text-decoration-color: #008000\">│</span>\n",
       "<span style=\"color: #008000; text-decoration-color: #008000\">│</span> Следим за зеркалами и дистанцией до автомобилей слева и справа. Останавливаемся, когда машина заняла ровное     <span style=\"color: #008000; text-decoration-color: #008000\">│</span>\n",
       "<span style=\"color: #008000; text-decoration-color: #008000\">│</span> положение посередине двух соседних автомобилей.                                                                 <span style=\"color: #008000; text-decoration-color: #008000\">│</span>\n",
       "<span style=\"color: #008000; text-decoration-color: #008000\">│</span>                                                                                                                 <span style=\"color: #008000; text-decoration-color: #008000\">│</span>\n",
       "<span style=\"color: #008000; text-decoration-color: #008000\">│</span>                                           <span style=\"font-weight: bold\">Шаг 8. Финальная коррекция</span>                                            <span style=\"color: #008000; text-decoration-color: #008000\">│</span>\n",
       "<span style=\"color: #008000; text-decoration-color: #008000\">│</span>                                                                                                                 <span style=\"color: #008000; text-decoration-color: #008000\">│</span>\n",
       "<span style=\"color: #008000; text-decoration-color: #008000\">│</span> Используя небольшие перемещения вперед-назад, добейтесь оптимального расположения автомобиля относительно       <span style=\"color: #008000; text-decoration-color: #008000\">│</span>\n",
       "<span style=\"color: #008000; text-decoration-color: #008000\">│</span> бордюра и соседей по парковке.                                                                                  <span style=\"color: #008000; text-decoration-color: #008000\">│</span>\n",
       "<span style=\"color: #008000; text-decoration-color: #008000\">│</span>                                                                                                                 <span style=\"color: #008000; text-decoration-color: #008000\">│</span>\n",
       "<span style=\"color: #008000; text-decoration-color: #008000\">│</span>                                                                                                                 <span style=\"color: #008000; text-decoration-color: #008000\">│</span>\n",
       "<span style=\"color: #008000; text-decoration-color: #008000\">│</span>                                             <span style=\"font-weight: bold; text-decoration: underline\">Полезные рекомендации:</span>                                              <span style=\"color: #008000; text-decoration-color: #008000\">│</span>\n",
       "<span style=\"color: #008000; text-decoration-color: #008000\">│</span>                                                                                                                 <span style=\"color: #008000; text-decoration-color: #008000\">│</span>\n",
       "<span style=\"color: #008000; text-decoration-color: #008000\">│</span> <span style=\"color: #808000; text-decoration-color: #808000; font-weight: bold\"> • </span>Всегда включайте аварийный сигнал или указатели поворотов перед началом маневра.                             <span style=\"color: #008000; text-decoration-color: #008000\">│</span>\n",
       "<span style=\"color: #008000; text-decoration-color: #008000\">│</span> <span style=\"color: #808000; text-decoration-color: #808000; font-weight: bold\"> • </span>Помните про \"слепые зоны\": обязательно оглядывайтесь, проверяя наличие препятствий, людей или животных.      <span style=\"color: #008000; text-decoration-color: #008000\">│</span>\n",
       "<span style=\"color: #008000; text-decoration-color: #008000\">│</span> <span style=\"color: #808000; text-decoration-color: #808000; font-weight: bold\"> • </span>Контролируйте ситуацию вокруг машины, используя зеркала заднего вида и боковое зрение.                       <span style=\"color: #008000; text-decoration-color: #008000\">│</span>\n",
       "<span style=\"color: #008000; text-decoration-color: #008000\">│</span> <span style=\"color: #808000; text-decoration-color: #808000; font-weight: bold\"> • </span>Никогда не торопитесь: делайте каждый этап плавно и осторожно.                                               <span style=\"color: #008000; text-decoration-color: #008000\">│</span>\n",
       "<span style=\"color: #008000; text-decoration-color: #008000\">│</span> <span style=\"color: #808000; text-decoration-color: #808000; font-weight: bold\"> • </span>Практикуйтесь регулярно, чтобы освоить технику уверенно и спокойно.                                          <span style=\"color: #008000; text-decoration-color: #008000\">│</span>\n",
       "<span style=\"color: #008000; text-decoration-color: #008000\">│</span>                                                                                                                 <span style=\"color: #008000; text-decoration-color: #008000\">│</span>\n",
       "<span style=\"color: #008000; text-decoration-color: #008000\">│</span> Соблюдая эти шаги и проявляя внимание, вы сможете легко справляться с парковкой задним ходом даже в сложных     <span style=\"color: #008000; text-decoration-color: #008000\">│</span>\n",
       "<span style=\"color: #008000; text-decoration-color: #008000\">│</span> ситуациях крупного города, такого как Ростов-на-Дону.                                                           <span style=\"color: #008000; text-decoration-color: #008000\">│</span>\n",
       "<span style=\"color: #008000; text-decoration-color: #008000\">╰─────────────────────────────────────────────────────────────────────────────────────────────────────────────────╯</span>\n",
       "</pre>\n"
      ],
      "text/plain": [
       "\u001b[32m╭─\u001b[0m\u001b[32m──────────────────────────────────────────────────\u001b[0m\u001b[32m \u001b[0m\u001b[1;32massistant\u001b[0m\u001b[32m \u001b[0m\u001b[32m──────────────────────────────────────────────────\u001b[0m\u001b[32m─╮\u001b[0m\n",
       "\u001b[32m│\u001b[0m Парковка задним ходом — один из важных водительских навыков, который позволяет эффективно использовать          \u001b[32m│\u001b[0m\n",
       "\u001b[32m│\u001b[0m минимальное пространство и удобно ставить автомобиль даже в стеснённых городских условиях. Эта техника особенно \u001b[32m│\u001b[0m\n",
       "\u001b[32m│\u001b[0m полезна в крупных городах, таких как Ростов-на-Дону, где парковочных мест зачастую недостаточно, а автомобили   \u001b[32m│\u001b[0m\n",
       "\u001b[32m│\u001b[0m припаркованы плотно друг к другу.                                                                               \u001b[32m│\u001b[0m\n",
       "\u001b[32m│\u001b[0m                                                                                                                 \u001b[32m│\u001b[0m\n",
       "\u001b[32m│\u001b[0m                                                                                                                 \u001b[32m│\u001b[0m\n",
       "\u001b[32m│\u001b[0m                                              \u001b[1;4mПошаговая инструкция:\u001b[0m                                              \u001b[32m│\u001b[0m\n",
       "\u001b[32m│\u001b[0m                                                                                                                 \u001b[32m│\u001b[0m\n",
       "\u001b[32m│\u001b[0m                                         \u001b[1mШаг 1. Выбор подходящего места\u001b[0m                                          \u001b[32m│\u001b[0m\n",
       "\u001b[32m│\u001b[0m                                                                                                                 \u001b[32m│\u001b[0m\n",
       "\u001b[32m│\u001b[0m Убедитесь, что свободное место больше длины вашего автомобиля минимум на 1 метр спереди и сзади. Чем больше     \u001b[32m│\u001b[0m\n",
       "\u001b[32m│\u001b[0m запас, тем легче пройдет процедура.                                                                             \u001b[32m│\u001b[0m\n",
       "\u001b[32m│\u001b[0m                                                                                                                 \u001b[32m│\u001b[0m\n",
       "\u001b[32m│\u001b[0m                                          \u001b[1mШаг 2. Подготовка к движению\u001b[0m                                           \u001b[32m│\u001b[0m\n",
       "\u001b[32m│\u001b[0m                                                                                                                 \u001b[32m│\u001b[0m\n",
       "\u001b[32m│\u001b[0m Припаркуйтесь справа от выбранного места так, чтобы ваше левое зеркало было близко к правому зеркалу            \u001b[32m│\u001b[0m\n",
       "\u001b[32m│\u001b[0m автомобиля, расположенного впереди пустого места. Оставляйте примерно полметра боковой дистанции.               \u001b[32m│\u001b[0m\n",
       "\u001b[32m│\u001b[0m                                                                                                                 \u001b[32m│\u001b[0m\n",
       "\u001b[32m│\u001b[0m                                          \u001b[1mШаг 3. Начало движения назад\u001b[0m                                           \u001b[32m│\u001b[0m\n",
       "\u001b[32m│\u001b[0m                                                                                                                 \u001b[32m│\u001b[0m\n",
       "\u001b[32m│\u001b[0m Включите указатель правого поворота, проверьте зеркала и слепые зоны, убедившись, что путь свободен.            \u001b[32m│\u001b[0m\n",
       "\u001b[32m│\u001b[0m                                                                                                                 \u001b[32m│\u001b[0m\n",
       "\u001b[32m│\u001b[0m                                          \u001b[1mШаг 4. Первая точка поворота\u001b[0m                                           \u001b[32m│\u001b[0m\n",
       "\u001b[32m│\u001b[0m                                                                                                                 \u001b[32m│\u001b[0m\n",
       "\u001b[32m│\u001b[0m Двигаясь назад, дождитесь, пока задняя дверь вашего автомобиля сравняется с задней частью впереди стоящей       \u001b[32m│\u001b[0m\n",
       "\u001b[32m│\u001b[0m машины. Затем быстро поверните руль направо до упора и начинайте медленно въезжать задним ходом.                \u001b[32m│\u001b[0m\n",
       "\u001b[32m│\u001b[0m                                                                                                                 \u001b[32m│\u001b[0m\n",
       "\u001b[32m│\u001b[0m                                              \u001b[1mШаг 5. Коррекция угла\u001b[0m                                              \u001b[32m│\u001b[0m\n",
       "\u001b[32m│\u001b[0m                                                                                                                 \u001b[32m│\u001b[0m\n",
       "\u001b[32m│\u001b[0m Продолжайте смотреть через правое плечо и заднее стекло. Как только ваш автомобиль станет примерно под углом    \u001b[32m│\u001b[0m\n",
       "\u001b[32m│\u001b[0m 45° к дороге, выравниваем колеса, вращая руль обратно прямо.                                                    \u001b[32m│\u001b[0m\n",
       "\u001b[32m│\u001b[0m                                                                                                                 \u001b[32m│\u001b[0m\n",
       "\u001b[32m│\u001b[0m                                          \u001b[1mШаг 6. Вторая точка поворота\u001b[0m                                           \u001b[32m│\u001b[0m\n",
       "\u001b[32m│\u001b[0m                                                                                                                 \u001b[32m│\u001b[0m\n",
       "\u001b[32m│\u001b[0m Когда передняя часть вашего автомобиля приблизится к середине впереди стоящего автомобиля, поворачиваем руль до \u001b[32m│\u001b[0m\n",
       "\u001b[32m│\u001b[0m упора влево и продолжаем двигаться назад.                                                                       \u001b[32m│\u001b[0m\n",
       "\u001b[32m│\u001b[0m                                                                                                                 \u001b[32m│\u001b[0m\n",
       "\u001b[32m│\u001b[0m                                           \u001b[1mШаг 7. Завершение парковки\u001b[0m                                            \u001b[32m│\u001b[0m\n",
       "\u001b[32m│\u001b[0m                                                                                                                 \u001b[32m│\u001b[0m\n",
       "\u001b[32m│\u001b[0m Следим за зеркалами и дистанцией до автомобилей слева и справа. Останавливаемся, когда машина заняла ровное     \u001b[32m│\u001b[0m\n",
       "\u001b[32m│\u001b[0m положение посередине двух соседних автомобилей.                                                                 \u001b[32m│\u001b[0m\n",
       "\u001b[32m│\u001b[0m                                                                                                                 \u001b[32m│\u001b[0m\n",
       "\u001b[32m│\u001b[0m                                           \u001b[1mШаг 8. Финальная коррекция\u001b[0m                                            \u001b[32m│\u001b[0m\n",
       "\u001b[32m│\u001b[0m                                                                                                                 \u001b[32m│\u001b[0m\n",
       "\u001b[32m│\u001b[0m Используя небольшие перемещения вперед-назад, добейтесь оптимального расположения автомобиля относительно       \u001b[32m│\u001b[0m\n",
       "\u001b[32m│\u001b[0m бордюра и соседей по парковке.                                                                                  \u001b[32m│\u001b[0m\n",
       "\u001b[32m│\u001b[0m                                                                                                                 \u001b[32m│\u001b[0m\n",
       "\u001b[32m│\u001b[0m                                                                                                                 \u001b[32m│\u001b[0m\n",
       "\u001b[32m│\u001b[0m                                             \u001b[1;4mПолезные рекомендации:\u001b[0m                                              \u001b[32m│\u001b[0m\n",
       "\u001b[32m│\u001b[0m                                                                                                                 \u001b[32m│\u001b[0m\n",
       "\u001b[32m│\u001b[0m \u001b[1;33m • \u001b[0mВсегда включайте аварийный сигнал или указатели поворотов перед началом маневра.                             \u001b[32m│\u001b[0m\n",
       "\u001b[32m│\u001b[0m \u001b[1;33m • \u001b[0mПомните про \"слепые зоны\": обязательно оглядывайтесь, проверяя наличие препятствий, людей или животных.      \u001b[32m│\u001b[0m\n",
       "\u001b[32m│\u001b[0m \u001b[1;33m • \u001b[0mКонтролируйте ситуацию вокруг машины, используя зеркала заднего вида и боковое зрение.                       \u001b[32m│\u001b[0m\n",
       "\u001b[32m│\u001b[0m \u001b[1;33m • \u001b[0mНикогда не торопитесь: делайте каждый этап плавно и осторожно.                                               \u001b[32m│\u001b[0m\n",
       "\u001b[32m│\u001b[0m \u001b[1;33m • \u001b[0mПрактикуйтесь регулярно, чтобы освоить технику уверенно и спокойно.                                          \u001b[32m│\u001b[0m\n",
       "\u001b[32m│\u001b[0m                                                                                                                 \u001b[32m│\u001b[0m\n",
       "\u001b[32m│\u001b[0m Соблюдая эти шаги и проявляя внимание, вы сможете легко справляться с парковкой задним ходом даже в сложных     \u001b[32m│\u001b[0m\n",
       "\u001b[32m│\u001b[0m ситуациях крупного города, такого как Ростов-на-Дону.                                                           \u001b[32m│\u001b[0m\n",
       "\u001b[32m╰─────────────────────────────────────────────────────────────────────────────────────────────────────────────────╯\u001b[0m\n"
      ]
     },
     "metadata": {},
     "output_type": "display_data"
    },
    {
     "data": {
      "text/html": [
       "<pre style=\"white-space:pre;overflow-x:auto;line-height:normal;font-family:Menlo,'DejaVu Sans Mono',consolas,'Courier New',monospace\"><span style=\"color: #808000; text-decoration-color: #808000\">╭─────────────────────────────────────────────╮</span>\n",
       "<span style=\"color: #808000; text-decoration-color: #808000\">│ Clear all messages history - /clear command │</span>\n",
       "<span style=\"color: #808000; text-decoration-color: #808000\">╰─────────────────────────────────────────────╯</span>\n",
       "</pre>\n"
      ],
      "text/plain": [
       "\u001b[33m╭─────────────────────────────────────────────╮\u001b[0m\n",
       "\u001b[33m│\u001b[0m\u001b[33m \u001b[0m\u001b[33mClear all messages history - /clear command\u001b[0m\u001b[33m \u001b[0m\u001b[33m│\u001b[0m\n",
       "\u001b[33m╰─────────────────────────────────────────────╯\u001b[0m\n"
      ]
     },
     "metadata": {},
     "output_type": "display_data"
    },
    {
     "data": {
      "text/html": [
       "<pre style=\"white-space:pre;overflow-x:auto;line-height:normal;font-family:Menlo,'DejaVu Sans Mono',consolas,'Courier New',monospace\"><span style=\"color: #008000; text-decoration-color: #008000\">╭─────────────────────────────────────────────────── </span><span style=\"color: #008000; text-decoration-color: #008000; font-weight: bold\">assistant</span><span style=\"color: #008000; text-decoration-color: #008000\"> ───────────────────────────────────────────────────╮</span>\n",
       "<span style=\"color: #008000; text-decoration-color: #008000\">│</span> Задавай вопросы — обсудим всё подробно!                                                                         <span style=\"color: #008000; text-decoration-color: #008000\">│</span>\n",
       "<span style=\"color: #008000; text-decoration-color: #008000\">╰─────────────────────────────────────────────────────────────────────────────────────────────────────────────────╯</span>\n",
       "</pre>\n"
      ],
      "text/plain": [
       "\u001b[32m╭─\u001b[0m\u001b[32m──────────────────────────────────────────────────\u001b[0m\u001b[32m \u001b[0m\u001b[1;32massistant\u001b[0m\u001b[32m \u001b[0m\u001b[32m──────────────────────────────────────────────────\u001b[0m\u001b[32m─╮\u001b[0m\n",
       "\u001b[32m│\u001b[0m Задавай вопросы — обсудим всё подробно!                                                                         \u001b[32m│\u001b[0m\n",
       "\u001b[32m╰─────────────────────────────────────────────────────────────────────────────────────────────────────────────────╯\u001b[0m\n"
      ]
     },
     "metadata": {},
     "output_type": "display_data"
    },
    {
     "data": {
      "text/html": [
       "<pre style=\"white-space:pre;overflow-x:auto;line-height:normal;font-family:Menlo,'DejaVu Sans Mono',consolas,'Courier New',monospace\"><span style=\"color: #008000; text-decoration-color: #008000\">╭─────────────────────────────────────╮</span>\n",
       "<span style=\"color: #008000; text-decoration-color: #008000\">│ Add new message in messages history │</span>\n",
       "<span style=\"color: #008000; text-decoration-color: #008000\">╰─────────────────────────────────────╯</span>\n",
       "</pre>\n"
      ],
      "text/plain": [
       "\u001b[32m╭─────────────────────────────────────╮\u001b[0m\n",
       "\u001b[32m│\u001b[0m\u001b[32m \u001b[0m\u001b[32mAdd new message in messages history\u001b[0m\u001b[32m \u001b[0m\u001b[32m│\u001b[0m\n",
       "\u001b[32m╰─────────────────────────────────────╯\u001b[0m\n"
      ]
     },
     "metadata": {},
     "output_type": "display_data"
    },
    {
     "data": {
      "text/html": [
       "<pre style=\"white-space:pre;overflow-x:auto;line-height:normal;font-family:Menlo,'DejaVu Sans Mono',consolas,'Courier New',monospace\"><span style=\"color: #008000; text-decoration-color: #008000\">╭─────────────────────────────────────────────────── </span><span style=\"color: #008000; text-decoration-color: #008000; font-weight: bold\">assistant</span><span style=\"color: #008000; text-decoration-color: #008000\"> ───────────────────────────────────────────────────╮</span>\n",
       "<span style=\"color: #008000; text-decoration-color: #008000\">│</span> Не припоминаю такого вопроса от тебя ранее. Если хочешь узнать подробнее про технику выполнения параллельной    <span style=\"color: #008000; text-decoration-color: #008000\">│</span>\n",
       "<span style=\"color: #008000; text-decoration-color: #008000\">│</span> парковки, расскажи, какие именно моменты вызывают сложности: подготовка, маневрирование, контроль расстояний,   <span style=\"color: #008000; text-decoration-color: #008000\">│</span>\n",
       "<span style=\"color: #008000; text-decoration-color: #008000\">│</span> работа педалями и рулём либо ещё что-то конкретное.                                                             <span style=\"color: #008000; text-decoration-color: #008000\">│</span>\n",
       "<span style=\"color: #008000; text-decoration-color: #008000\">╰─────────────────────────────────────────────────────────────────────────────────────────────────────────────────╯</span>\n",
       "</pre>\n"
      ],
      "text/plain": [
       "\u001b[32m╭─\u001b[0m\u001b[32m──────────────────────────────────────────────────\u001b[0m\u001b[32m \u001b[0m\u001b[1;32massistant\u001b[0m\u001b[32m \u001b[0m\u001b[32m──────────────────────────────────────────────────\u001b[0m\u001b[32m─╮\u001b[0m\n",
       "\u001b[32m│\u001b[0m Не припоминаю такого вопроса от тебя ранее. Если хочешь узнать подробнее про технику выполнения параллельной    \u001b[32m│\u001b[0m\n",
       "\u001b[32m│\u001b[0m парковки, расскажи, какие именно моменты вызывают сложности: подготовка, маневрирование, контроль расстояний,   \u001b[32m│\u001b[0m\n",
       "\u001b[32m│\u001b[0m работа педалями и рулём либо ещё что-то конкретное.                                                             \u001b[32m│\u001b[0m\n",
       "\u001b[32m╰─────────────────────────────────────────────────────────────────────────────────────────────────────────────────╯\u001b[0m\n"
      ]
     },
     "metadata": {},
     "output_type": "display_data"
    },
    {
     "data": {
      "text/html": [
       "<pre style=\"white-space:pre;overflow-x:auto;line-height:normal;font-family:Menlo,'DejaVu Sans Mono',consolas,'Courier New',monospace\"><span style=\"color: #808000; text-decoration-color: #808000\">╭─────────────────────────────────────────╮</span>\n",
       "<span style=\"color: #808000; text-decoration-color: #808000\">│ Set new system prompt - /system command │</span>\n",
       "<span style=\"color: #808000; text-decoration-color: #808000\">╰─────────────────────────────────────────╯</span>\n",
       "</pre>\n"
      ],
      "text/plain": [
       "\u001b[33m╭─────────────────────────────────────────╮\u001b[0m\n",
       "\u001b[33m│\u001b[0m\u001b[33m \u001b[0m\u001b[33mSet new system prompt - /system command\u001b[0m\u001b[33m \u001b[0m\u001b[33m│\u001b[0m\n",
       "\u001b[33m╰─────────────────────────────────────────╯\u001b[0m\n"
      ]
     },
     "metadata": {},
     "output_type": "display_data"
    },
    {
     "data": {
      "text/html": [
       "<pre style=\"white-space:pre;overflow-x:auto;line-height:normal;font-family:Menlo,'DejaVu Sans Mono',consolas,'Courier New',monospace\"><span style=\"color: #008000; text-decoration-color: #008000\">╭─────────────────────────────────────────────────── </span><span style=\"color: #008000; text-decoration-color: #008000; font-weight: bold\">assistant</span><span style=\"color: #008000; text-decoration-color: #008000\"> ───────────────────────────────────────────────────╮</span>\n",
       "<span style=\"color: #008000; text-decoration-color: #008000\">│</span> Объясню понятнее и нагляднее.                                                                                   <span style=\"color: #008000; text-decoration-color: #008000\">│</span>\n",
       "<span style=\"color: #008000; text-decoration-color: #008000\">╰─────────────────────────────────────────────────────────────────────────────────────────────────────────────────╯</span>\n",
       "</pre>\n"
      ],
      "text/plain": [
       "\u001b[32m╭─\u001b[0m\u001b[32m──────────────────────────────────────────────────\u001b[0m\u001b[32m \u001b[0m\u001b[1;32massistant\u001b[0m\u001b[32m \u001b[0m\u001b[32m──────────────────────────────────────────────────\u001b[0m\u001b[32m─╮\u001b[0m\n",
       "\u001b[32m│\u001b[0m Объясню понятнее и нагляднее.                                                                                   \u001b[32m│\u001b[0m\n",
       "\u001b[32m╰─────────────────────────────────────────────────────────────────────────────────────────────────────────────────╯\u001b[0m\n"
      ]
     },
     "metadata": {},
     "output_type": "display_data"
    },
    {
     "data": {
      "text/html": [
       "<pre style=\"white-space:pre;overflow-x:auto;line-height:normal;font-family:Menlo,'DejaVu Sans Mono',consolas,'Courier New',monospace\"><span style=\"color: #008000; text-decoration-color: #008000\">╭─────────────────────────────────────╮</span>\n",
       "<span style=\"color: #008000; text-decoration-color: #008000\">│ Add new message in messages history │</span>\n",
       "<span style=\"color: #008000; text-decoration-color: #008000\">╰─────────────────────────────────────╯</span>\n",
       "</pre>\n"
      ],
      "text/plain": [
       "\u001b[32m╭─────────────────────────────────────╮\u001b[0m\n",
       "\u001b[32m│\u001b[0m\u001b[32m \u001b[0m\u001b[32mAdd new message in messages history\u001b[0m\u001b[32m \u001b[0m\u001b[32m│\u001b[0m\n",
       "\u001b[32m╰─────────────────────────────────────╯\u001b[0m\n"
      ]
     },
     "metadata": {},
     "output_type": "display_data"
    },
    {
     "data": {
      "text/html": [
       "<pre style=\"white-space:pre;overflow-x:auto;line-height:normal;font-family:Menlo,'DejaVu Sans Mono',consolas,'Courier New',monospace\"><span style=\"color: #008000; text-decoration-color: #008000\">╭─────────────────────────────────────────────────── </span><span style=\"color: #008000; text-decoration-color: #008000; font-weight: bold\">assistant</span><span style=\"color: #008000; text-decoration-color: #008000\"> ───────────────────────────────────────────────────╮</span>\n",
       "<span style=\"color: #008000; text-decoration-color: #008000\">│</span> Эластичные (упругие) и жёсткие муфты отличаются друг от друга конструктивно и имеют разные преимущества и       <span style=\"color: #008000; text-decoration-color: #008000\">│</span>\n",
       "<span style=\"color: #008000; text-decoration-color: #008000\">│</span> недостатки в зависимости от условий эксплуатации техники.                                                       <span style=\"color: #008000; text-decoration-color: #008000\">│</span>\n",
       "<span style=\"color: #008000; text-decoration-color: #008000\">│</span>                                                                                                                 <span style=\"color: #008000; text-decoration-color: #008000\">│</span>\n",
       "<span style=\"color: #008000; text-decoration-color: #008000\">│</span>                                                <span style=\"font-weight: bold\">Эластичная муфта:</span>                                                <span style=\"color: #008000; text-decoration-color: #008000\">│</span>\n",
       "<span style=\"color: #008000; text-decoration-color: #008000\">│</span>                                                                                                                 <span style=\"color: #008000; text-decoration-color: #008000\">│</span>\n",
       "<span style=\"color: #008000; text-decoration-color: #008000\">│</span> <span style=\"color: #808000; text-decoration-color: #808000; font-weight: bold\"> • </span><span style=\"font-weight: bold\">Преимущества</span>:                                                                                                <span style=\"color: #008000; text-decoration-color: #008000\">│</span>\n",
       "<span style=\"color: #008000; text-decoration-color: #008000\">│</span> <span style=\"color: #808000; text-decoration-color: #808000; font-weight: bold\">    • </span>Поглощение вибраций и ударов. Благодаря упругости демпферных элементов такие муфты снижают нагрузку на    <span style=\"color: #008000; text-decoration-color: #008000\">│</span>\n",
       "<span style=\"color: #008000; text-decoration-color: #008000\">│</span> <span style=\"color: #808000; text-decoration-color: #808000; font-weight: bold\">      </span>двигатель и трансмиссию, продлевая срок службы механизмов.                                                <span style=\"color: #008000; text-decoration-color: #008000\">│</span>\n",
       "<span style=\"color: #008000; text-decoration-color: #008000\">│</span> <span style=\"color: #808000; text-decoration-color: #808000; font-weight: bold\">    • </span>Защита оборудования от перегрузок и аварийных ситуаций. Например, если случайно произошел удар агрегата   <span style=\"color: #008000; text-decoration-color: #008000\">│</span>\n",
       "<span style=\"color: #008000; text-decoration-color: #008000\">│</span> <span style=\"color: #808000; text-decoration-color: #808000; font-weight: bold\">      </span>или застрял вал отбора мощности (ВОМ), эластичность муфты позволяет предотвратить повреждение             <span style=\"color: #008000; text-decoration-color: #008000\">│</span>\n",
       "<span style=\"color: #008000; text-decoration-color: #008000\">│</span> <span style=\"color: #808000; text-decoration-color: #808000; font-weight: bold\">      </span>дорогостоящих узлов.                                                                                      <span style=\"color: #008000; text-decoration-color: #008000\">│</span>\n",
       "<span style=\"color: #008000; text-decoration-color: #008000\">│</span> <span style=\"color: #808000; text-decoration-color: #808000; font-weight: bold\">    • </span>Меньший износ деталей двигателя и трансмиссии благодаря смягчению крутильных колебаний и неравномерности  <span style=\"color: #008000; text-decoration-color: #008000\">│</span>\n",
       "<span style=\"color: #008000; text-decoration-color: #008000\">│</span> <span style=\"color: #808000; text-decoration-color: #808000; font-weight: bold\">      </span>вращения.                                                                                                 <span style=\"color: #008000; text-decoration-color: #008000\">│</span>\n",
       "<span style=\"color: #008000; text-decoration-color: #008000\">│</span> <span style=\"color: #808000; text-decoration-color: #808000; font-weight: bold\"> • </span><span style=\"font-weight: bold\">Недостатки</span>:                                                                                                  <span style=\"color: #008000; text-decoration-color: #008000\">│</span>\n",
       "<span style=\"color: #008000; text-decoration-color: #008000\">│</span> <span style=\"color: #808000; text-decoration-color: #808000; font-weight: bold\">    • </span>Уменьшение КПД передачи момента, особенно при больших нагрузках и интенсивной работе.                     <span style=\"color: #008000; text-decoration-color: #008000\">│</span>\n",
       "<span style=\"color: #008000; text-decoration-color: #008000\">│</span> <span style=\"color: #808000; text-decoration-color: #808000; font-weight: bold\">    • </span>Ограниченная передаваемая мощность по сравнению с жесткой муфтой аналогичного размера.                    <span style=\"color: #008000; text-decoration-color: #008000\">│</span>\n",
       "<span style=\"color: #008000; text-decoration-color: #008000\">│</span> <span style=\"color: #808000; text-decoration-color: #808000; font-weight: bold\">    • </span>Необходимость периодической замены резиновых или полиуретановых элементов вследствие износа.              <span style=\"color: #008000; text-decoration-color: #008000\">│</span>\n",
       "<span style=\"color: #008000; text-decoration-color: #008000\">│</span>                                                                                                                 <span style=\"color: #008000; text-decoration-color: #008000\">│</span>\n",
       "<span style=\"color: #008000; text-decoration-color: #008000\">│</span>                                                 <span style=\"font-weight: bold\">Жесткая муфта:</span>                                                  <span style=\"color: #008000; text-decoration-color: #008000\">│</span>\n",
       "<span style=\"color: #008000; text-decoration-color: #008000\">│</span>                                                                                                                 <span style=\"color: #008000; text-decoration-color: #008000\">│</span>\n",
       "<span style=\"color: #008000; text-decoration-color: #008000\">│</span> <span style=\"color: #808000; text-decoration-color: #808000; font-weight: bold\"> • </span><span style=\"font-weight: bold\">Преимущества</span>:                                                                                                <span style=\"color: #008000; text-decoration-color: #008000\">│</span>\n",
       "<span style=\"color: #008000; text-decoration-color: #008000\">│</span> <span style=\"color: #808000; text-decoration-color: #808000; font-weight: bold\">    • </span>Максимально полное использование мощности двигателя. За счет прямой передачи вращающего момента потери    <span style=\"color: #008000; text-decoration-color: #008000\">│</span>\n",
       "<span style=\"color: #008000; text-decoration-color: #008000\">│</span> <span style=\"color: #808000; text-decoration-color: #808000; font-weight: bold\">      </span>минимальны.                                                                                               <span style=\"color: #008000; text-decoration-color: #008000\">│</span>\n",
       "<span style=\"color: #008000; text-decoration-color: #008000\">│</span> <span style=\"color: #808000; text-decoration-color: #808000; font-weight: bold\">    • </span>Надежность и долговечность конструкции. Простота устройства обеспечивает длительный ресурс работы без     <span style=\"color: #008000; text-decoration-color: #008000\">│</span>\n",
       "<span style=\"color: #008000; text-decoration-color: #008000\">│</span> <span style=\"color: #808000; text-decoration-color: #808000; font-weight: bold\">      </span>частых ремонтов.                                                                                          <span style=\"color: #008000; text-decoration-color: #008000\">│</span>\n",
       "<span style=\"color: #008000; text-decoration-color: #008000\">│</span> <span style=\"color: #808000; text-decoration-color: #808000; font-weight: bold\">    • </span>Способность передавать большие нагрузки и выдерживать высокие скорости вращения.                          <span style=\"color: #008000; text-decoration-color: #008000\">│</span>\n",
       "<span style=\"color: #008000; text-decoration-color: #008000\">│</span> <span style=\"color: #808000; text-decoration-color: #808000; font-weight: bold\"> • </span><span style=\"font-weight: bold\">Недостатки</span>:                                                                                                  <span style=\"color: #008000; text-decoration-color: #008000\">│</span>\n",
       "<span style=\"color: #008000; text-decoration-color: #008000\">│</span> <span style=\"color: #808000; text-decoration-color: #808000; font-weight: bold\">    • </span>Передача всех вибраций и толчков непосредственно на механизм и детали трактора/комбайна, что увеличивает  <span style=\"color: #008000; text-decoration-color: #008000\">│</span>\n",
       "<span style=\"color: #008000; text-decoration-color: #008000\">│</span> <span style=\"color: #808000; text-decoration-color: #808000; font-weight: bold\">      </span>риск повреждения важных компонентов при длительных тяжелых условиях эксплуатации.                         <span style=\"color: #008000; text-decoration-color: #008000\">│</span>\n",
       "<span style=\"color: #008000; text-decoration-color: #008000\">│</span> <span style=\"color: #808000; text-decoration-color: #808000; font-weight: bold\">    • </span>Отсутствие защиты от критичных перегрузок. В случае заклинивания рабочих органов (например, ножа жатки,   <span style=\"color: #008000; text-decoration-color: #008000\">│</span>\n",
       "<span style=\"color: #008000; text-decoration-color: #008000\">│</span> <span style=\"color: #808000; text-decoration-color: #808000; font-weight: bold\">      </span>зубьев культиватора) жесткий тип соединения приведет к поломке дорогостоящего узла или даже разрушению    <span style=\"color: #008000; text-decoration-color: #008000\">│</span>\n",
       "<span style=\"color: #008000; text-decoration-color: #008000\">│</span> <span style=\"color: #808000; text-decoration-color: #808000; font-weight: bold\">      </span>основных агрегатов.                                                                                       <span style=\"color: #008000; text-decoration-color: #008000\">│</span>\n",
       "<span style=\"color: #008000; text-decoration-color: #008000\">│</span>                                                                                                                 <span style=\"color: #008000; text-decoration-color: #008000\">│</span>\n",
       "<span style=\"color: #008000; text-decoration-color: #008000\">│</span> <span style=\"color: #808000; text-decoration-color: #808000\">───────────────────────────────────────────────────────────────────────────────────────────────────────────────</span> <span style=\"color: #008000; text-decoration-color: #008000\">│</span>\n",
       "<span style=\"color: #008000; text-decoration-color: #008000\">│</span>                                                  <span style=\"font-weight: bold\">Что выбрать?</span>                                                   <span style=\"color: #008000; text-decoration-color: #008000\">│</span>\n",
       "<span style=\"color: #008000; text-decoration-color: #008000\">│</span>                                                                                                                 <span style=\"color: #008000; text-decoration-color: #008000\">│</span>\n",
       "<span style=\"color: #008000; text-decoration-color: #008000\">│</span> Выбор между эластичной и жесткой муфтой зависит от конкретных условий работы:                                   <span style=\"color: #008000; text-decoration-color: #008000\">│</span>\n",
       "<span style=\"color: #008000; text-decoration-color: #008000\">│</span>                                                                                                                 <span style=\"color: #008000; text-decoration-color: #008000\">│</span>\n",
       "<span style=\"color: #008000; text-decoration-color: #008000\">│</span> <span style=\"color: #808000; text-decoration-color: #808000; font-weight: bold\"> • </span>Для тяжёлых работ, связанных с регулярными ударами и динамическими нагрузками (сбор урожая, пахотные работы, <span style=\"color: #008000; text-decoration-color: #008000\">│</span>\n",
       "<span style=\"color: #008000; text-decoration-color: #008000\">│</span> <span style=\"color: #808000; text-decoration-color: #808000; font-weight: bold\">   </span>глубокая культивация почвы), чаще всего предпочтительнее использовать <span style=\"font-weight: bold\">эластичную муфту</span>, чтобы защитить       <span style=\"color: #008000; text-decoration-color: #008000\">│</span>\n",
       "<span style=\"color: #008000; text-decoration-color: #008000\">│</span> <span style=\"color: #808000; text-decoration-color: #808000; font-weight: bold\">   </span>механизмы от повреждений и снизить затраты на ремонт.                                                        <span style=\"color: #008000; text-decoration-color: #008000\">│</span>\n",
       "<span style=\"color: #008000; text-decoration-color: #008000\">│</span> <span style=\"color: #808000; text-decoration-color: #808000; font-weight: bold\"> • </span>Если условия труда относительно стабильны, вибрации небольшие, а требования к передаче высокой мощности      <span style=\"color: #008000; text-decoration-color: #008000\">│</span>\n",
       "<span style=\"color: #008000; text-decoration-color: #008000\">│</span> <span style=\"color: #808000; text-decoration-color: #808000; font-weight: bold\">   </span>высоки, стоит рассмотреть вариант установки <span style=\"font-weight: bold\">жёсткой муфты</span>. Это обеспечит максимальную эффективность передачи <span style=\"color: #008000; text-decoration-color: #008000\">│</span>\n",
       "<span style=\"color: #008000; text-decoration-color: #008000\">│</span> <span style=\"color: #808000; text-decoration-color: #808000; font-weight: bold\">   </span>энергии.                                                                                                     <span style=\"color: #008000; text-decoration-color: #008000\">│</span>\n",
       "<span style=\"color: #008000; text-decoration-color: #008000\">│</span>                                                                                                                 <span style=\"color: #008000; text-decoration-color: #008000\">│</span>\n",
       "<span style=\"color: #008000; text-decoration-color: #008000\">│</span> Однако учитывай также, что иногда агротехника комплектуется обоими видами муфт одновременно: жесткие муфты      <span style=\"color: #008000; text-decoration-color: #008000\">│</span>\n",
       "<span style=\"color: #008000; text-decoration-color: #008000\">│</span> используются внутри коробки передач, где важна высокая надежность, а эластичные устанавливаются там, где нужна  <span style=\"color: #008000; text-decoration-color: #008000\">│</span>\n",
       "<span style=\"color: #008000; text-decoration-color: #008000\">│</span> защита от сильных нагрузок и резких рывков.                                                                     <span style=\"color: #008000; text-decoration-color: #008000\">│</span>\n",
       "<span style=\"color: #008000; text-decoration-color: #008000\">╰─────────────────────────────────────────────────────────────────────────────────────────────────────────────────╯</span>\n",
       "</pre>\n"
      ],
      "text/plain": [
       "\u001b[32m╭─\u001b[0m\u001b[32m──────────────────────────────────────────────────\u001b[0m\u001b[32m \u001b[0m\u001b[1;32massistant\u001b[0m\u001b[32m \u001b[0m\u001b[32m──────────────────────────────────────────────────\u001b[0m\u001b[32m─╮\u001b[0m\n",
       "\u001b[32m│\u001b[0m Эластичные (упругие) и жёсткие муфты отличаются друг от друга конструктивно и имеют разные преимущества и       \u001b[32m│\u001b[0m\n",
       "\u001b[32m│\u001b[0m недостатки в зависимости от условий эксплуатации техники.                                                       \u001b[32m│\u001b[0m\n",
       "\u001b[32m│\u001b[0m                                                                                                                 \u001b[32m│\u001b[0m\n",
       "\u001b[32m│\u001b[0m                                                \u001b[1mЭластичная муфта:\u001b[0m                                                \u001b[32m│\u001b[0m\n",
       "\u001b[32m│\u001b[0m                                                                                                                 \u001b[32m│\u001b[0m\n",
       "\u001b[32m│\u001b[0m \u001b[1;33m • \u001b[0m\u001b[1mПреимущества\u001b[0m:                                                                                                \u001b[32m│\u001b[0m\n",
       "\u001b[32m│\u001b[0m \u001b[1;33m   \u001b[0m\u001b[1;33m • \u001b[0mПоглощение вибраций и ударов. Благодаря упругости демпферных элементов такие муфты снижают нагрузку на    \u001b[32m│\u001b[0m\n",
       "\u001b[32m│\u001b[0m \u001b[1;33m   \u001b[0m\u001b[1;33m   \u001b[0mдвигатель и трансмиссию, продлевая срок службы механизмов.                                                \u001b[32m│\u001b[0m\n",
       "\u001b[32m│\u001b[0m \u001b[1;33m   \u001b[0m\u001b[1;33m • \u001b[0mЗащита оборудования от перегрузок и аварийных ситуаций. Например, если случайно произошел удар агрегата   \u001b[32m│\u001b[0m\n",
       "\u001b[32m│\u001b[0m \u001b[1;33m   \u001b[0m\u001b[1;33m   \u001b[0mили застрял вал отбора мощности (ВОМ), эластичность муфты позволяет предотвратить повреждение             \u001b[32m│\u001b[0m\n",
       "\u001b[32m│\u001b[0m \u001b[1;33m   \u001b[0m\u001b[1;33m   \u001b[0mдорогостоящих узлов.                                                                                      \u001b[32m│\u001b[0m\n",
       "\u001b[32m│\u001b[0m \u001b[1;33m   \u001b[0m\u001b[1;33m • \u001b[0mМеньший износ деталей двигателя и трансмиссии благодаря смягчению крутильных колебаний и неравномерности  \u001b[32m│\u001b[0m\n",
       "\u001b[32m│\u001b[0m \u001b[1;33m   \u001b[0m\u001b[1;33m   \u001b[0mвращения.                                                                                                 \u001b[32m│\u001b[0m\n",
       "\u001b[32m│\u001b[0m \u001b[1;33m • \u001b[0m\u001b[1mНедостатки\u001b[0m:                                                                                                  \u001b[32m│\u001b[0m\n",
       "\u001b[32m│\u001b[0m \u001b[1;33m   \u001b[0m\u001b[1;33m • \u001b[0mУменьшение КПД передачи момента, особенно при больших нагрузках и интенсивной работе.                     \u001b[32m│\u001b[0m\n",
       "\u001b[32m│\u001b[0m \u001b[1;33m   \u001b[0m\u001b[1;33m • \u001b[0mОграниченная передаваемая мощность по сравнению с жесткой муфтой аналогичного размера.                    \u001b[32m│\u001b[0m\n",
       "\u001b[32m│\u001b[0m \u001b[1;33m   \u001b[0m\u001b[1;33m • \u001b[0mНеобходимость периодической замены резиновых или полиуретановых элементов вследствие износа.              \u001b[32m│\u001b[0m\n",
       "\u001b[32m│\u001b[0m                                                                                                                 \u001b[32m│\u001b[0m\n",
       "\u001b[32m│\u001b[0m                                                 \u001b[1mЖесткая муфта:\u001b[0m                                                  \u001b[32m│\u001b[0m\n",
       "\u001b[32m│\u001b[0m                                                                                                                 \u001b[32m│\u001b[0m\n",
       "\u001b[32m│\u001b[0m \u001b[1;33m • \u001b[0m\u001b[1mПреимущества\u001b[0m:                                                                                                \u001b[32m│\u001b[0m\n",
       "\u001b[32m│\u001b[0m \u001b[1;33m   \u001b[0m\u001b[1;33m • \u001b[0mМаксимально полное использование мощности двигателя. За счет прямой передачи вращающего момента потери    \u001b[32m│\u001b[0m\n",
       "\u001b[32m│\u001b[0m \u001b[1;33m   \u001b[0m\u001b[1;33m   \u001b[0mминимальны.                                                                                               \u001b[32m│\u001b[0m\n",
       "\u001b[32m│\u001b[0m \u001b[1;33m   \u001b[0m\u001b[1;33m • \u001b[0mНадежность и долговечность конструкции. Простота устройства обеспечивает длительный ресурс работы без     \u001b[32m│\u001b[0m\n",
       "\u001b[32m│\u001b[0m \u001b[1;33m   \u001b[0m\u001b[1;33m   \u001b[0mчастых ремонтов.                                                                                          \u001b[32m│\u001b[0m\n",
       "\u001b[32m│\u001b[0m \u001b[1;33m   \u001b[0m\u001b[1;33m • \u001b[0mСпособность передавать большие нагрузки и выдерживать высокие скорости вращения.                          \u001b[32m│\u001b[0m\n",
       "\u001b[32m│\u001b[0m \u001b[1;33m • \u001b[0m\u001b[1mНедостатки\u001b[0m:                                                                                                  \u001b[32m│\u001b[0m\n",
       "\u001b[32m│\u001b[0m \u001b[1;33m   \u001b[0m\u001b[1;33m • \u001b[0mПередача всех вибраций и толчков непосредственно на механизм и детали трактора/комбайна, что увеличивает  \u001b[32m│\u001b[0m\n",
       "\u001b[32m│\u001b[0m \u001b[1;33m   \u001b[0m\u001b[1;33m   \u001b[0mриск повреждения важных компонентов при длительных тяжелых условиях эксплуатации.                         \u001b[32m│\u001b[0m\n",
       "\u001b[32m│\u001b[0m \u001b[1;33m   \u001b[0m\u001b[1;33m • \u001b[0mОтсутствие защиты от критичных перегрузок. В случае заклинивания рабочих органов (например, ножа жатки,   \u001b[32m│\u001b[0m\n",
       "\u001b[32m│\u001b[0m \u001b[1;33m   \u001b[0m\u001b[1;33m   \u001b[0mзубьев культиватора) жесткий тип соединения приведет к поломке дорогостоящего узла или даже разрушению    \u001b[32m│\u001b[0m\n",
       "\u001b[32m│\u001b[0m \u001b[1;33m   \u001b[0m\u001b[1;33m   \u001b[0mосновных агрегатов.                                                                                       \u001b[32m│\u001b[0m\n",
       "\u001b[32m│\u001b[0m                                                                                                                 \u001b[32m│\u001b[0m\n",
       "\u001b[32m│\u001b[0m \u001b[33m───────────────────────────────────────────────────────────────────────────────────────────────────────────────\u001b[0m \u001b[32m│\u001b[0m\n",
       "\u001b[32m│\u001b[0m                                                  \u001b[1mЧто выбрать?\u001b[0m                                                   \u001b[32m│\u001b[0m\n",
       "\u001b[32m│\u001b[0m                                                                                                                 \u001b[32m│\u001b[0m\n",
       "\u001b[32m│\u001b[0m Выбор между эластичной и жесткой муфтой зависит от конкретных условий работы:                                   \u001b[32m│\u001b[0m\n",
       "\u001b[32m│\u001b[0m                                                                                                                 \u001b[32m│\u001b[0m\n",
       "\u001b[32m│\u001b[0m \u001b[1;33m • \u001b[0mДля тяжёлых работ, связанных с регулярными ударами и динамическими нагрузками (сбор урожая, пахотные работы, \u001b[32m│\u001b[0m\n",
       "\u001b[32m│\u001b[0m \u001b[1;33m   \u001b[0mглубокая культивация почвы), чаще всего предпочтительнее использовать \u001b[1mэластичную муфту\u001b[0m, чтобы защитить       \u001b[32m│\u001b[0m\n",
       "\u001b[32m│\u001b[0m \u001b[1;33m   \u001b[0mмеханизмы от повреждений и снизить затраты на ремонт.                                                        \u001b[32m│\u001b[0m\n",
       "\u001b[32m│\u001b[0m \u001b[1;33m • \u001b[0mЕсли условия труда относительно стабильны, вибрации небольшие, а требования к передаче высокой мощности      \u001b[32m│\u001b[0m\n",
       "\u001b[32m│\u001b[0m \u001b[1;33m   \u001b[0mвысоки, стоит рассмотреть вариант установки \u001b[1mжёсткой муфты\u001b[0m. Это обеспечит максимальную эффективность передачи \u001b[32m│\u001b[0m\n",
       "\u001b[32m│\u001b[0m \u001b[1;33m   \u001b[0mэнергии.                                                                                                     \u001b[32m│\u001b[0m\n",
       "\u001b[32m│\u001b[0m                                                                                                                 \u001b[32m│\u001b[0m\n",
       "\u001b[32m│\u001b[0m Однако учитывай также, что иногда агротехника комплектуется обоими видами муфт одновременно: жесткие муфты      \u001b[32m│\u001b[0m\n",
       "\u001b[32m│\u001b[0m используются внутри коробки передач, где важна высокая надежность, а эластичные устанавливаются там, где нужна  \u001b[32m│\u001b[0m\n",
       "\u001b[32m│\u001b[0m защита от сильных нагрузок и резких рывков.                                                                     \u001b[32m│\u001b[0m\n",
       "\u001b[32m╰─────────────────────────────────────────────────────────────────────────────────────────────────────────────────╯\u001b[0m\n"
      ]
     },
     "metadata": {},
     "output_type": "display_data"
    },
    {
     "data": {
      "text/html": [
       "<pre style=\"white-space:pre;overflow-x:auto;line-height:normal;font-family:Menlo,'DejaVu Sans Mono',consolas,'Courier New',monospace\"><span style=\"color: #800000; text-decoration-color: #800000\">╭────────────────────────────────╮</span>\n",
       "<span style=\"color: #800000; text-decoration-color: #800000\">│ Exit from loop - /exit command │</span>\n",
       "<span style=\"color: #800000; text-decoration-color: #800000\">╰────────────────────────────────╯</span>\n",
       "</pre>\n"
      ],
      "text/plain": [
       "\u001b[31m╭────────────────────────────────╮\u001b[0m\n",
       "\u001b[31m│\u001b[0m\u001b[31m \u001b[0m\u001b[31mExit from loop - /exit command\u001b[0m\u001b[31m \u001b[0m\u001b[31m│\u001b[0m\n",
       "\u001b[31m╰────────────────────────────────╯\u001b[0m\n"
      ]
     },
     "metadata": {},
     "output_type": "display_data"
    }
   ],
   "source": [
    "def start_infinity_chat() -> None:\n",
    "  \n",
    "  messages = []\n",
    "\n",
    "  while True:\n",
    "    user_input = str(input(\"Введите входные данные для продолжения общения с ИИ...: \")).strip()\n",
    "    \n",
    "    (messages, is_should_continue) = handle_user_input(user_input=user_input, messages=messages)\n",
    "    \n",
    "    if not is_should_continue:\n",
    "      break\n",
    "    \n",
    "    messages = chat_completion(model=configs.model, messages=messages)\n",
    "    \n",
    "start_infinity_chat()"
   ]
  }
 ],
 "metadata": {
  "kernelspec": {
   "display_name": "lecutre-llm-api",
   "language": "python",
   "name": "python3"
  },
  "language_info": {
   "codemirror_mode": {
    "name": "ipython",
    "version": 3
   },
   "file_extension": ".py",
   "mimetype": "text/x-python",
   "name": "python",
   "nbconvert_exporter": "python",
   "pygments_lexer": "ipython3",
   "version": "3.12.3"
  }
 },
 "nbformat": 4,
 "nbformat_minor": 5
}
