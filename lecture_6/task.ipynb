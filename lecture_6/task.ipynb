{
 "cells": [
  {
   "cell_type": "markdown",
   "id": "ae69fc75",
   "metadata": {},
   "source": [
    "дополнить результат task2 предыдущей лекции (фибоначчи)\n",
    "самописным кэшем и проверить на больших числах\n",
    "для себя сравните скорости выполнения fib_cached и fib_regular\n",
    "на больших числах (больше 60)"
   ]
  },
  {
   "cell_type": "code",
   "execution_count": 1,
   "id": "9744dd78",
   "metadata": {},
   "outputs": [
    {
     "name": "stdout",
     "output_type": "stream",
     "text": [
      "Your Fibonacci value is: 218922995834555169026\n",
      "Your Fibonacci value is: 108788617463475645289761992289049744844995705477812699099751202749393926359816304226\n",
      "Your Fibonacci value is: 86168291600238450732788312165664788095941068326060883324529903470149056115823592713458328176574447204501\n",
      "Your Fibonacci value is: 26863810024485359386146727202142923967616609318986952340123175997617981700247881689338369654483356564191827856161443356312976673642210350324634850410377680367334151172899169723197082763985615764450078474174626\n"
     ]
    },
    {
     "ename": "ValueError",
     "evalue": "Invalid input value",
     "output_type": "error",
     "traceback": [
      "\u001b[31m---------------------------------------------------------------------------\u001b[39m",
      "\u001b[31mValueError\u001b[39m                                Traceback (most recent call last)",
      "\u001b[36mCell\u001b[39m\u001b[36m \u001b[39m\u001b[32mIn[1]\u001b[39m\u001b[32m, line 29\u001b[39m\n\u001b[32m     26\u001b[39m     fibonaci_value = calc_fibonacci(position=position)\n\u001b[32m     27\u001b[39m     \u001b[38;5;28mprint\u001b[39m(\u001b[33mf\u001b[39m\u001b[33m\"\u001b[39m\u001b[33mYour Fibonacci value is: \u001b[39m\u001b[38;5;132;01m{\u001b[39;00mfibonaci_value\u001b[38;5;132;01m}\u001b[39;00m\u001b[33m\"\u001b[39m)\n\u001b[32m---> \u001b[39m\u001b[32m29\u001b[39m \u001b[43mask_for_fibonacci\u001b[49m\u001b[43m(\u001b[49m\u001b[43m)\u001b[49m\n",
      "\u001b[36mCell\u001b[39m\u001b[36m \u001b[39m\u001b[32mIn[1]\u001b[39m\u001b[32m, line 24\u001b[39m, in \u001b[36mask_for_fibonacci\u001b[39m\u001b[34m()\u001b[39m\n\u001b[32m     21\u001b[39m position = \u001b[38;5;28minput\u001b[39m(\u001b[33m\"\u001b[39m\u001b[33mInput Fibonachi value position: \u001b[39m\u001b[33m\"\u001b[39m)\n\u001b[32m     23\u001b[39m \u001b[38;5;28;01mif\u001b[39;00m \u001b[38;5;129;01mnot\u001b[39;00m position.isdigit() \u001b[38;5;129;01mor\u001b[39;00m \u001b[38;5;28mint\u001b[39m(position) <= \u001b[32m0\u001b[39m:\n\u001b[32m---> \u001b[39m\u001b[32m24\u001b[39m   \u001b[38;5;28;01mraise\u001b[39;00m \u001b[38;5;167;01mValueError\u001b[39;00m(\u001b[33m\"\u001b[39m\u001b[33mInvalid input value\u001b[39m\u001b[33m\"\u001b[39m)\n\u001b[32m     25\u001b[39m position = \u001b[38;5;28mint\u001b[39m(position)\n\u001b[32m     26\u001b[39m fibonaci_value = calc_fibonacci(position=position)\n",
      "\u001b[31mValueError\u001b[39m: Invalid input value"
     ]
    }
   ],
   "source": [
    "cache_dict = {}\n",
    "\n",
    "def calc_fibonacci(*, position: int) -> int:\n",
    "  if position in cache_dict:\n",
    "    return cache_dict[position]\n",
    "  if position == 1:\n",
    "    return 0\n",
    "  if position == 2:\n",
    "    return 1\n",
    "  \n",
    "  value =  calc_fibonacci(position=position - 1) + calc_fibonacci(position=position - 2)\n",
    "  cache_dict[position] = value\n",
    "  return value\n",
    "\n",
    "def warmup_cache(*, position: int):\n",
    "  calc_fibonacci(position=position)\n",
    "  \n",
    "def ask_for_fibonacci():\n",
    "  warmup_cache(position=200)\n",
    "  while True:\n",
    "    position = input(\"Input Fibonachi value position: \")\n",
    "    \n",
    "    if not position.isdigit() or int(position) <= 0:\n",
    "      raise ValueError(\"Invalid input value\")\n",
    "    position = int(position)\n",
    "    fibonaci_value = calc_fibonacci(position=position)\n",
    "    print(f\"Your Fibonacci value is: {fibonaci_value}\")\n",
    "  \n",
    "ask_for_fibonacci()"
   ]
  }
 ],
 "metadata": {
  "kernelspec": {
   "display_name": "lecture-6",
   "language": "python",
   "name": "python3"
  },
  "language_info": {
   "codemirror_mode": {
    "name": "ipython",
    "version": 3
   },
   "file_extension": ".py",
   "mimetype": "text/x-python",
   "name": "python",
   "nbconvert_exporter": "python",
   "pygments_lexer": "ipython3",
   "version": "3.12.3"
  }
 },
 "nbformat": 4,
 "nbformat_minor": 5
}
