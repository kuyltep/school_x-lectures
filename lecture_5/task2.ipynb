{
 "cells": [
  {
   "cell_type": "markdown",
   "id": "e182d496",
   "metadata": {},
   "source": [
    "task 2\n",
    "создать **рекурсивную** функцию fibonacci, которая принимает целое число N\n",
    "и возвращает N-ное число в последовательности Фибоначчи\n",
    "важно - у вас при больших числах (больше 20 и далее) - программа будет тупить\n",
    "пока что это норма"
   ]
  },
  {
   "cell_type": "code",
   "execution_count": 1,
   "id": "0c248ee4",
   "metadata": {},
   "outputs": [],
   "source": [
    "def calc_fibonacci(*, position: int) -> int:\n",
    "  if position == 1:\n",
    "    return 0\n",
    "  if position == 2:\n",
    "    return 1\n",
    "  \n",
    "  value =  calc_fibonacci(position=position - 1) + calc_fibonacci(position=position - 2)\n",
    "  return value"
   ]
  },
  {
   "cell_type": "code",
   "execution_count": 2,
   "id": "123dada6",
   "metadata": {},
   "outputs": [],
   "source": [
    "def ask_for_fibonacci():\n",
    "  while True:\n",
    "    position = input(\"Input Fibonachi value position: \")\n",
    "    \n",
    "    if not position.isdigit() or int(position) <= 0:\n",
    "      raise ValueError(\"Invalid input value\")\n",
    "    position = int(position)\n",
    "    fibonaci_value = calc_fibonacci(position=position)\n",
    "    print(f\"Your Fibonacci value is: {fibonaci_value}\")"
   ]
  },
  {
   "cell_type": "code",
   "execution_count": 5,
   "id": "0f738797",
   "metadata": {},
   "outputs": [
    {
     "name": "stdout",
     "output_type": "stream",
     "text": [
      "Your Fibonacci value is: 17711\n",
      "Your Fibonacci value is: 17711\n",
      "Your Fibonacci value is: 46368\n",
      "Your Fibonacci value is: 75025\n",
      "Your Fibonacci value is: 121393\n",
      "Your Fibonacci value is: 196418\n",
      "Your Fibonacci value is: 317811\n",
      "Your Fibonacci value is: 514229\n",
      "Your Fibonacci value is: 832040\n",
      "Your Fibonacci value is: 1346269\n"
     ]
    },
    {
     "ename": "ValueError",
     "evalue": "Invalid input value",
     "output_type": "error",
     "traceback": [
      "\u001b[31m---------------------------------------------------------------------------\u001b[39m",
      "\u001b[31mValueError\u001b[39m                                Traceback (most recent call last)",
      "\u001b[36mCell\u001b[39m\u001b[36m \u001b[39m\u001b[32mIn[5]\u001b[39m\u001b[32m, line 1\u001b[39m\n\u001b[32m----> \u001b[39m\u001b[32m1\u001b[39m \u001b[43mask_for_fibonacci\u001b[49m\u001b[43m(\u001b[49m\u001b[43m)\u001b[49m\n",
      "\u001b[36mCell\u001b[39m\u001b[36m \u001b[39m\u001b[32mIn[2]\u001b[39m\u001b[32m, line 6\u001b[39m, in \u001b[36mask_for_fibonacci\u001b[39m\u001b[34m()\u001b[39m\n\u001b[32m      3\u001b[39m position = \u001b[38;5;28minput\u001b[39m(\u001b[33m\"\u001b[39m\u001b[33mInput Fibonachi value position: \u001b[39m\u001b[33m\"\u001b[39m)\n\u001b[32m      5\u001b[39m \u001b[38;5;28;01mif\u001b[39;00m \u001b[38;5;129;01mnot\u001b[39;00m position.isdigit() \u001b[38;5;129;01mor\u001b[39;00m \u001b[38;5;28mint\u001b[39m(position) <= \u001b[32m0\u001b[39m:\n\u001b[32m----> \u001b[39m\u001b[32m6\u001b[39m   \u001b[38;5;28;01mraise\u001b[39;00m \u001b[38;5;167;01mValueError\u001b[39;00m(\u001b[33m\"\u001b[39m\u001b[33mInvalid input value\u001b[39m\u001b[33m\"\u001b[39m)\n\u001b[32m      7\u001b[39m position = \u001b[38;5;28mint\u001b[39m(position)\n\u001b[32m      8\u001b[39m fibonaci_value = calc_fibonacci(position=position)\n",
      "\u001b[31mValueError\u001b[39m: Invalid input value"
     ]
    }
   ],
   "source": [
    "ask_for_fibonacci()"
   ]
  }
 ],
 "metadata": {
  "kernelspec": {
   "display_name": "lecture-5",
   "language": "python",
   "name": "python3"
  },
  "language_info": {
   "codemirror_mode": {
    "name": "ipython",
    "version": 3
   },
   "file_extension": ".py",
   "mimetype": "text/x-python",
   "name": "python",
   "nbconvert_exporter": "python",
   "pygments_lexer": "ipython3",
   "version": "3.12.3"
  }
 },
 "nbformat": 4,
 "nbformat_minor": 5
}
