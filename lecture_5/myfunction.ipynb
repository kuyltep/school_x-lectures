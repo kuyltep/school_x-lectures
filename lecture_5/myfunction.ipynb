{
 "cells": [
  {
   "cell_type": "markdown",
   "id": "f26b110b",
   "metadata": {},
   "source": [
    "task 1\n",
    "\n",
    "создать файл my_functions.py с функциями greet и change_name\n",
    "\n",
    "change_name - принимает строку, а возвращает измененное имя, где каждая вторая буква - большая\n",
    "\n",
    "greet - принимает строку, ничего не возвращает, а просто принтит \"Hello имя\" с помощью украшений из rich print"
   ]
  },
  {
   "cell_type": "code",
   "execution_count": 3,
   "id": "7e53002e",
   "metadata": {},
   "outputs": [],
   "source": [
    "from rich import print as rich_print"
   ]
  },
  {
   "cell_type": "code",
   "execution_count": 5,
   "id": "61e3e406",
   "metadata": {},
   "outputs": [],
   "source": [
    "def greet(*, name: str) -> None:\n",
    "  rich_print(f\"[green bold]Hello, {name}[/green bold]\")"
   ]
  },
  {
   "cell_type": "code",
   "execution_count": 6,
   "id": "8629ad4a",
   "metadata": {},
   "outputs": [],
   "source": [
    "def change_name(*, name: str) -> str:\n",
    "  changed_name = \"\"\n",
    "  for index, char in enumerate(name):\n",
    "    if index % 2 == 0:\n",
    "      changed_name += char.upper()\n",
    "    else: \n",
    "      changed_name += char\n",
    "  return changed_name"
   ]
  },
  {
   "cell_type": "code",
   "execution_count": 7,
   "id": "44062ed5",
   "metadata": {},
   "outputs": [
    {
     "data": {
      "text/html": [
       "<pre style=\"white-space:pre;overflow-x:auto;line-height:normal;font-family:Menlo,'DejaVu Sans Mono',consolas,'Courier New',monospace\"><span style=\"color: #008000; text-decoration-color: #008000; font-weight: bold\">Hello, VlAd</span>\n",
       "</pre>\n"
      ],
      "text/plain": [
       "\u001b[1;32mHello, VlAd\u001b[0m\n"
      ]
     },
     "metadata": {},
     "output_type": "display_data"
    }
   ],
   "source": [
    "my_name = change_name(name=\"vlad\")\n",
    "greet(name=my_name)"
   ]
  }
 ],
 "metadata": {
  "kernelspec": {
   "display_name": "lecture-5",
   "language": "python",
   "name": "python3"
  },
  "language_info": {
   "codemirror_mode": {
    "name": "ipython",
    "version": 3
   },
   "file_extension": ".py",
   "mimetype": "text/x-python",
   "name": "python",
   "nbconvert_exporter": "python",
   "pygments_lexer": "ipython3",
   "version": "3.12.3"
  }
 },
 "nbformat": 4,
 "nbformat_minor": 5
}
