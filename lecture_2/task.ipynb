{
 "cells": [
  {
   "cell_type": "markdown",
   "id": "6edcb2d9",
   "metadata": {},
   "source": [
    "Запросить у пользователя - хочет ли он сняться в кино\n",
    "Если да - предложить две разных роли - Халк или Локи\n",
    "  Если халк - запросить сколько у него бицепс в объеме\n",
    "      Если меньше 60 - отправить домой\n",
    "      Еслиб больше или равно - сказать что он принят\n",
    "  Если локи - спросить кого он больше любит - маму или папу\n",
    "      Если папу - отправить домой\n",
    "      Если маму - отправить к папе, чтобы спросил кого больше любит\n",
    "Если нет - попрощаться\n",
    "Во всех условиях обрабатывать белиберду и неправильные выборы ошибкой для пользователя"
   ]
  },
  {
   "cell_type": "code",
   "execution_count": 1,
   "id": "01625997",
   "metadata": {},
   "outputs": [],
   "source": [
    "from rich import print as rich_print"
   ]
  },
  {
   "cell_type": "code",
   "execution_count": 8,
   "id": "0c0fd78f",
   "metadata": {},
   "outputs": [],
   "source": [
    "def ask_user_for_role() -> None:\n",
    "  try:\n",
    "    answer = input(\"Are you want to get role in movie?: \")\n",
    "    \n",
    "    rich_print(answer)\n",
    "\n",
    "    if answer.lower() == \"yes\":\n",
    "      role = input(\"What role do you want more: Halk or Loki?: \")\n",
    "      if role.lower() == \"halk\":\n",
    "        value = int(input(\"How much is your biceps in sm? (input number): \"))\n",
    "        rich_print(value)\n",
    "        if value < 60:\n",
    "          rich_print(\"[bold blue]Please go home![/bold blue]\")\n",
    "        else:\n",
    "          rich_print(\"[bold blue]Okay, we are get you for role![/bold blue]\")\n",
    "      elif role.lower() == \"loki\":\n",
    "        choose_value = input(\"Who do you love more - mom or dad?: \")\n",
    "        rich_print(choose_value)\n",
    "        if choose_value.lower() == \"mom\":\n",
    "          rich_print(\"[bold blue]Go to dad and ask him again[/bold blue]\")\n",
    "        elif choose_value.lower() == \"dad\":\n",
    "          rich_print(\"[bold blue]Go home.[/bold blue]\")\n",
    "        else:\n",
    "          raise\n",
    "      else:\n",
    "        raise\n",
    "    elif answer.lower() == \"no\":\n",
    "      rich_print(\"[bold blue]Okay, bye![/bold blue]\")\n",
    "    else:\n",
    "      raise\n",
    "\n",
    "  except:\n",
    "    rich_print(\"[bold red]Error input[/bold red]\")"
   ]
  },
  {
   "cell_type": "code",
   "execution_count": 9,
   "id": "94870aa1",
   "metadata": {},
   "outputs": [
    {
     "data": {
      "text/html": [
       "<pre style=\"white-space:pre;overflow-x:auto;line-height:normal;font-family:Menlo,'DejaVu Sans Mono',consolas,'Courier New',monospace\">yes\n",
       "</pre>\n"
      ],
      "text/plain": [
       "yes\n"
      ]
     },
     "metadata": {},
     "output_type": "display_data"
    },
    {
     "data": {
      "text/html": [
       "<pre style=\"white-space:pre;overflow-x:auto;line-height:normal;font-family:Menlo,'DejaVu Sans Mono',consolas,'Courier New',monospace\"><span style=\"color: #008080; text-decoration-color: #008080; font-weight: bold\">58</span>\n",
       "</pre>\n"
      ],
      "text/plain": [
       "\u001b[1;36m58\u001b[0m\n"
      ]
     },
     "metadata": {},
     "output_type": "display_data"
    },
    {
     "data": {
      "text/html": [
       "<pre style=\"white-space:pre;overflow-x:auto;line-height:normal;font-family:Menlo,'DejaVu Sans Mono',consolas,'Courier New',monospace\"><span style=\"color: #000080; text-decoration-color: #000080; font-weight: bold\">Please go home!</span>\n",
       "</pre>\n"
      ],
      "text/plain": [
       "\u001b[1;34mPlease go home!\u001b[0m\n"
      ]
     },
     "metadata": {},
     "output_type": "display_data"
    }
   ],
   "source": [
    "ask_user_for_role()"
   ]
  },
  {
   "cell_type": "code",
   "execution_count": 10,
   "id": "c5e786c8",
   "metadata": {},
   "outputs": [
    {
     "data": {
      "text/html": [
       "<pre style=\"white-space:pre;overflow-x:auto;line-height:normal;font-family:Menlo,'DejaVu Sans Mono',consolas,'Courier New',monospace\">no\n",
       "</pre>\n"
      ],
      "text/plain": [
       "no\n"
      ]
     },
     "metadata": {},
     "output_type": "display_data"
    },
    {
     "data": {
      "text/html": [
       "<pre style=\"white-space:pre;overflow-x:auto;line-height:normal;font-family:Menlo,'DejaVu Sans Mono',consolas,'Courier New',monospace\"><span style=\"color: #000080; text-decoration-color: #000080; font-weight: bold\">Okay, bye!</span>\n",
       "</pre>\n"
      ],
      "text/plain": [
       "\u001b[1;34mOkay, bye!\u001b[0m\n"
      ]
     },
     "metadata": {},
     "output_type": "display_data"
    }
   ],
   "source": [
    "ask_user_for_role()"
   ]
  },
  {
   "cell_type": "code",
   "execution_count": 11,
   "id": "0a2751c4",
   "metadata": {},
   "outputs": [
    {
     "data": {
      "text/html": [
       "<pre style=\"white-space:pre;overflow-x:auto;line-height:normal;font-family:Menlo,'DejaVu Sans Mono',consolas,'Courier New',monospace\">yes\n",
       "</pre>\n"
      ],
      "text/plain": [
       "yes\n"
      ]
     },
     "metadata": {},
     "output_type": "display_data"
    },
    {
     "data": {
      "text/html": [
       "<pre style=\"white-space:pre;overflow-x:auto;line-height:normal;font-family:Menlo,'DejaVu Sans Mono',consolas,'Courier New',monospace\">mom\n",
       "</pre>\n"
      ],
      "text/plain": [
       "mom\n"
      ]
     },
     "metadata": {},
     "output_type": "display_data"
    },
    {
     "data": {
      "text/html": [
       "<pre style=\"white-space:pre;overflow-x:auto;line-height:normal;font-family:Menlo,'DejaVu Sans Mono',consolas,'Courier New',monospace\"><span style=\"color: #000080; text-decoration-color: #000080; font-weight: bold\">Go to dad and ask him again</span>\n",
       "</pre>\n"
      ],
      "text/plain": [
       "\u001b[1;34mGo to dad and ask him again\u001b[0m\n"
      ]
     },
     "metadata": {},
     "output_type": "display_data"
    }
   ],
   "source": [
    "ask_user_for_role()"
   ]
  }
 ],
 "metadata": {
  "kernelspec": {
   "display_name": "lecture-2",
   "language": "python",
   "name": "python3"
  },
  "language_info": {
   "codemirror_mode": {
    "name": "ipython",
    "version": 3
   },
   "file_extension": ".py",
   "mimetype": "text/x-python",
   "name": "python",
   "nbconvert_exporter": "python",
   "pygments_lexer": "ipython3",
   "version": "3.12.3"
  }
 },
 "nbformat": 4,
 "nbformat_minor": 5
}
