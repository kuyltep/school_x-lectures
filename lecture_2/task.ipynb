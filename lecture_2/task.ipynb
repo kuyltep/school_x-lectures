{
 "cells": [
  {
   "cell_type": "markdown",
   "id": "6edcb2d9",
   "metadata": {},
   "source": [
    "Запросить у пользователя - хочет ли он сняться в кино\n",
    "Если да - предложить две разных роли - Халк или Локи\n",
    "  Если халк - запросить сколько у него бицепс в объеме\n",
    "      Если меньше 60 - отправить домой\n",
    "      Еслиб больше или равно - сказать что он принят\n",
    "  Если локи - спросить кого он больше любит - маму или папу\n",
    "      Если папу - отправить домой\n",
    "      Если маму - отправить к папе, чтобы спросил кого больше любит\n",
    "Если нет - попрощаться\n",
    "Во всех условиях обрабатывать белиберду и неправильные выборы ошибкой для пользователя"
   ]
  },
  {
   "cell_type": "code",
   "execution_count": null,
   "id": "01625997",
   "metadata": {
    "vscode": {
     "languageId": "plaintext"
    }
   },
   "outputs": [],
   "source": [
    "from rich import print as rich_print"
   ]
  },
  {
   "cell_type": "code",
   "execution_count": null,
   "id": "0c0fd78f",
   "metadata": {
    "vscode": {
     "languageId": "plaintext"
    }
   },
   "outputs": [],
   "source": [
    "def ask_user_for_role() -> None:\n",
    "  try:\n",
    "    answer = input(\"Are you want to get role in movie?: \")\n",
    "\n",
    "    if answer.lower() == \"yes\":\n",
    "      role = input(\"What role do you want more: Halk or Loki?: \")\n",
    "      if role.lower() == \"halk\":\n",
    "        value = int(input(\"How much is your biceps in sm? (input number): \"))\n",
    "        if value < 60:\n",
    "          rich_print(\"[bold blue]Please go home![/bold blue]\")\n",
    "        else:\n",
    "          rich_print(\"[bold blue]Okay, we are get you for role![/bold blue]\")\n",
    "      elif role.lower() == \"loki\":\n",
    "        choose_value = input(\"Who do you love more - mom or dad?: \")\n",
    "        if choose_value.lower() == \"mom\":\n",
    "          rich_print(\"[bold blue]Go to dad and ask him again[/bold blue]\")\n",
    "        elif choose_value.lower() == \"dad\":\n",
    "          rich_print(\"[bold blue]Go home.[/bold blue]\")\n",
    "        else:\n",
    "          raise\n",
    "      else:\n",
    "        raise\n",
    "    elif answer.lower() == \"no\":\n",
    "      rich_print(\"[bold blue]Okay, bye![/bold blue]\")\n",
    "    else:\n",
    "      raise\n",
    "\n",
    "  except:\n",
    "    rich_print(\"[bold red]Error input[/bold red]\")"
   ]
  }
 ],
 "metadata": {
  "language_info": {
   "name": "python"
  }
 },
 "nbformat": 4,
 "nbformat_minor": 5
}
