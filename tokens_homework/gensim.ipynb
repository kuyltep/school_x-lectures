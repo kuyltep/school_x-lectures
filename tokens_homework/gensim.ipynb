{
  "cells": [
    {
      "cell_type": "code",
      "execution_count": null,
      "metadata": {
        "colab": {
          "base_uri": "https://localhost:8080/"
        },
        "id": "8ztNvk4ly8wm",
        "outputId": "e7414a4e-e7cb-4633-8394-b2f035cc2d35"
      },
      "outputs": [
        {
          "name": "stdout",
          "output_type": "stream",
          "text": [
            "Requirement already satisfied: gensim in /usr/local/lib/python3.12/dist-packages (4.3.3)\n",
            "Requirement already satisfied: spacy in /usr/local/lib/python3.12/dist-packages (3.8.7)\n",
            "Requirement already satisfied: numpy<2.0,>=1.18.5 in /usr/local/lib/python3.12/dist-packages (from gensim) (1.26.4)\n",
            "Requirement already satisfied: scipy<1.14.0,>=1.7.0 in /usr/local/lib/python3.12/dist-packages (from gensim) (1.13.1)\n",
            "Requirement already satisfied: smart-open>=1.8.1 in /usr/local/lib/python3.12/dist-packages (from gensim) (7.3.1)\n",
            "Requirement already satisfied: spacy-legacy<3.1.0,>=3.0.11 in /usr/local/lib/python3.12/dist-packages (from spacy) (3.0.12)\n",
            "Requirement already satisfied: spacy-loggers<2.0.0,>=1.0.0 in /usr/local/lib/python3.12/dist-packages (from spacy) (1.0.5)\n",
            "Requirement already satisfied: murmurhash<1.1.0,>=0.28.0 in /usr/local/lib/python3.12/dist-packages (from spacy) (1.0.13)\n",
            "Requirement already satisfied: cymem<2.1.0,>=2.0.2 in /usr/local/lib/python3.12/dist-packages (from spacy) (2.0.11)\n",
            "Requirement already satisfied: preshed<3.1.0,>=3.0.2 in /usr/local/lib/python3.12/dist-packages (from spacy) (3.0.10)\n",
            "Requirement already satisfied: thinc<8.4.0,>=8.3.4 in /usr/local/lib/python3.12/dist-packages (from spacy) (8.3.4)\n",
            "Requirement already satisfied: wasabi<1.2.0,>=0.9.1 in /usr/local/lib/python3.12/dist-packages (from spacy) (1.1.3)\n",
            "Requirement already satisfied: srsly<3.0.0,>=2.4.3 in /usr/local/lib/python3.12/dist-packages (from spacy) (2.5.1)\n",
            "Requirement already satisfied: catalogue<2.1.0,>=2.0.6 in /usr/local/lib/python3.12/dist-packages (from spacy) (2.0.10)\n",
            "Requirement already satisfied: weasel<0.5.0,>=0.1.0 in /usr/local/lib/python3.12/dist-packages (from spacy) (0.4.1)\n",
            "Requirement already satisfied: typer<1.0.0,>=0.3.0 in /usr/local/lib/python3.12/dist-packages (from spacy) (0.19.2)\n",
            "Requirement already satisfied: tqdm<5.0.0,>=4.38.0 in /usr/local/lib/python3.12/dist-packages (from spacy) (4.67.1)\n",
            "Requirement already satisfied: requests<3.0.0,>=2.13.0 in /usr/local/lib/python3.12/dist-packages (from spacy) (2.32.4)\n",
            "Requirement already satisfied: pydantic!=1.8,!=1.8.1,<3.0.0,>=1.7.4 in /usr/local/lib/python3.12/dist-packages (from spacy) (2.11.10)\n",
            "Requirement already satisfied: jinja2 in /usr/local/lib/python3.12/dist-packages (from spacy) (3.1.6)\n",
            "Requirement already satisfied: setuptools in /usr/local/lib/python3.12/dist-packages (from spacy) (75.2.0)\n",
            "Requirement already satisfied: packaging>=20.0 in /usr/local/lib/python3.12/dist-packages (from spacy) (25.0)\n",
            "Requirement already satisfied: langcodes<4.0.0,>=3.2.0 in /usr/local/lib/python3.12/dist-packages (from spacy) (3.5.0)\n",
            "Requirement already satisfied: language-data>=1.2 in /usr/local/lib/python3.12/dist-packages (from langcodes<4.0.0,>=3.2.0->spacy) (1.3.0)\n",
            "Requirement already satisfied: annotated-types>=0.6.0 in /usr/local/lib/python3.12/dist-packages (from pydantic!=1.8,!=1.8.1,<3.0.0,>=1.7.4->spacy) (0.7.0)\n",
            "Requirement already satisfied: pydantic-core==2.33.2 in /usr/local/lib/python3.12/dist-packages (from pydantic!=1.8,!=1.8.1,<3.0.0,>=1.7.4->spacy) (2.33.2)\n",
            "Requirement already satisfied: typing-extensions>=4.12.2 in /usr/local/lib/python3.12/dist-packages (from pydantic!=1.8,!=1.8.1,<3.0.0,>=1.7.4->spacy) (4.15.0)\n",
            "Requirement already satisfied: typing-inspection>=0.4.0 in /usr/local/lib/python3.12/dist-packages (from pydantic!=1.8,!=1.8.1,<3.0.0,>=1.7.4->spacy) (0.4.2)\n",
            "Requirement already satisfied: charset_normalizer<4,>=2 in /usr/local/lib/python3.12/dist-packages (from requests<3.0.0,>=2.13.0->spacy) (3.4.3)\n",
            "Requirement already satisfied: idna<4,>=2.5 in /usr/local/lib/python3.12/dist-packages (from requests<3.0.0,>=2.13.0->spacy) (3.10)\n",
            "Requirement already satisfied: urllib3<3,>=1.21.1 in /usr/local/lib/python3.12/dist-packages (from requests<3.0.0,>=2.13.0->spacy) (2.5.0)\n",
            "Requirement already satisfied: certifi>=2017.4.17 in /usr/local/lib/python3.12/dist-packages (from requests<3.0.0,>=2.13.0->spacy) (2025.10.5)\n",
            "Requirement already satisfied: wrapt in /usr/local/lib/python3.12/dist-packages (from smart-open>=1.8.1->gensim) (1.17.3)\n",
            "Requirement already satisfied: blis<1.3.0,>=1.2.0 in /usr/local/lib/python3.12/dist-packages (from thinc<8.4.0,>=8.3.4->spacy) (1.2.1)\n",
            "Requirement already satisfied: confection<1.0.0,>=0.0.1 in /usr/local/lib/python3.12/dist-packages (from thinc<8.4.0,>=8.3.4->spacy) (0.1.5)\n",
            "Requirement already satisfied: click>=8.0.0 in /usr/local/lib/python3.12/dist-packages (from typer<1.0.0,>=0.3.0->spacy) (8.3.0)\n",
            "Requirement already satisfied: shellingham>=1.3.0 in /usr/local/lib/python3.12/dist-packages (from typer<1.0.0,>=0.3.0->spacy) (1.5.4)\n",
            "Requirement already satisfied: rich>=10.11.0 in /usr/local/lib/python3.12/dist-packages (from typer<1.0.0,>=0.3.0->spacy) (13.9.4)\n",
            "Requirement already satisfied: cloudpathlib<1.0.0,>=0.7.0 in /usr/local/lib/python3.12/dist-packages (from weasel<0.5.0,>=0.1.0->spacy) (0.23.0)\n",
            "Requirement already satisfied: MarkupSafe>=2.0 in /usr/local/lib/python3.12/dist-packages (from jinja2->spacy) (3.0.3)\n",
            "Requirement already satisfied: marisa-trie>=1.1.0 in /usr/local/lib/python3.12/dist-packages (from language-data>=1.2->langcodes<4.0.0,>=3.2.0->spacy) (1.3.1)\n",
            "Requirement already satisfied: markdown-it-py>=2.2.0 in /usr/local/lib/python3.12/dist-packages (from rich>=10.11.0->typer<1.0.0,>=0.3.0->spacy) (4.0.0)\n",
            "Requirement already satisfied: pygments<3.0.0,>=2.13.0 in /usr/local/lib/python3.12/dist-packages (from rich>=10.11.0->typer<1.0.0,>=0.3.0->spacy) (2.19.2)\n",
            "Requirement already satisfied: mdurl~=0.1 in /usr/local/lib/python3.12/dist-packages (from markdown-it-py>=2.2.0->rich>=10.11.0->typer<1.0.0,>=0.3.0->spacy) (0.1.2)\n"
          ]
        }
      ],
      "source": [
        "pip install gensim spacy"
      ]
    },
    {
      "cell_type": "code",
      "execution_count": null,
      "metadata": {
        "colab": {
          "base_uri": "https://localhost:8080/"
        },
        "id": "38PqcB_A7wF8",
        "outputId": "1619086c-7ddb-443e-eb2e-d57499b0b2e7"
      },
      "outputs": [
        {
          "name": "stdout",
          "output_type": "stream",
          "text": [
            "Collecting ru-core-news-sm==3.8.0\n",
            "  Downloading https://github.com/explosion/spacy-models/releases/download/ru_core_news_sm-3.8.0/ru_core_news_sm-3.8.0-py3-none-any.whl (15.3 MB)\n",
            "\u001b[2K     \u001b[90m━━━━━━━━━━━━━━━━━━━━━━━━━━━━━━━━━━━━━━━━\u001b[0m \u001b[32m15.3/15.3 MB\u001b[0m \u001b[31m29.9 MB/s\u001b[0m eta \u001b[36m0:00:00\u001b[0m\n",
            "\u001b[?25hRequirement already satisfied: pymorphy3>=1.0.0 in /usr/local/lib/python3.12/dist-packages (from ru-core-news-sm==3.8.0) (2.0.6)\n",
            "Requirement already satisfied: dawg2-python>=0.8.0 in /usr/local/lib/python3.12/dist-packages (from pymorphy3>=1.0.0->ru-core-news-sm==3.8.0) (0.9.0)\n",
            "Requirement already satisfied: pymorphy3-dicts-ru in /usr/local/lib/python3.12/dist-packages (from pymorphy3>=1.0.0->ru-core-news-sm==3.8.0) (2.4.417150.4580142)\n",
            "Requirement already satisfied: setuptools>=68.2.2 in /usr/local/lib/python3.12/dist-packages (from pymorphy3>=1.0.0->ru-core-news-sm==3.8.0) (75.2.0)\n",
            "\u001b[38;5;2m✔ Download and installation successful\u001b[0m\n",
            "You can now load the package via spacy.load('ru_core_news_sm')\n",
            "\u001b[38;5;3m⚠ Restart to reload dependencies\u001b[0m\n",
            "If you are in a Jupyter or Colab notebook, you may need to restart Python in\n",
            "order to load all the package's dependencies. You can do this by selecting the\n",
            "'Restart kernel' or 'Restart runtime' option.\n"
          ]
        }
      ],
      "source": [
        "!python -m spacy download \"ru_core_news_sm\""
      ]
    },
    {
      "cell_type": "code",
      "execution_count": null,
      "metadata": {
        "id": "Fe68qNiAzNPs"
      },
      "outputs": [
        {
          "name": "stdout",
          "output_type": "stream",
          "text": [
            "[==================================================] 100.0% 198.8/198.8MB downloaded\n"
          ]
        }
      ],
      "source": [
        "import gensim.downloader as api\n",
        "import spacy\n",
        "\n",
        "nlp = spacy.load(\"ru_core_news_sm\")\n",
        "\n",
        "w2v = api.load(name=\"word2vec-ruscorpora-300\")\n",
        "\n",
        "PATH_TO_BOOK = \"./book.txt\""
      ]
    },
    {
      "cell_type": "code",
      "execution_count": 12,
      "metadata": {
        "id": "kSHDdVZ-3azF"
      },
      "outputs": [],
      "source": [
        "def get_book_text(*, path: str) -> str:\n",
        "  with open(file=path, mode=\"r\", encoding=\"utf8\") as file:\n",
        "    return file.read()\n",
        "\n",
        "def normolize_text(*, text: str) -> str:\n",
        "  return text.replace(\"\\n\", \"\").lower()"
      ]
    },
    {
      "cell_type": "code",
      "execution_count": null,
      "metadata": {
        "colab": {
          "base_uri": "https://localhost:8080/",
          "height": 269
        },
        "id": "O8SRB4he3b-t",
        "outputId": "1449d99e-7687-4261-cfe3-b1773522e055"
      },
      "outputs": [
        {
          "name": "stdout",
          "output_type": "stream",
          "text": [
            "[('коля_NOUN', 155), ('сказать_VERB', 123), ('лейтенант_NOUN', 65), ('товарищ_NOUN', 63), ('коля_PROPN', 62)]\n",
            "[('променять_VERB', 1), ('оголенное_ADJ', 1), ('тоска_NOUN', 1), ('нестерпимо_ADV', 1), ('захотеться_VERB', 1)]\n"
          ]
        }
      ],
      "source": [
        "from collections import Counter\n",
        "\n",
        "tokens_counter = Counter()\n",
        "\n",
        "def get_text_tokens(*, text: str) -> list[str]:\n",
        "  doc = nlp(text=text)\n",
        "\n",
        "  lemma_tokens = [f\"{token.lemma_}_{token.pos_}\" for token in doc if not token.is_stop and not token.is_punct]\n",
        "\n",
        "  tokens_counter.update(lemma_tokens)\n",
        "\n",
        "  return lemma_tokens\n",
        "\n",
        "\n",
        "def get_most_popular(*, counter_struct: Counter, count: int) -> list[tuple[str, int]]:\n",
        "  return counter_struct.most_common(count)\n",
        "\n",
        "def get_most_unpopular(*, counter_struct: Counter, count: int) -> list[tuple[str, int]]:\n",
        "  return counter_struct.most_common()[-count:]\n",
        "\n",
        "book_text = get_book_text(path=PATH_TO_BOOK)\n",
        "normolized_text = normolize_text(text=book_text)\n",
        "\n",
        "tokenized_text = get_text_tokens(text=normolized_text)\n",
        "\n",
        "five_most_popular = get_most_popular(\n",
        "    counter_struct=tokens_counter,\n",
        "    count=5\n",
        "    )\n",
        "\n",
        "five_most_unpopular = get_most_unpopular(\n",
        "    counter_struct=tokens_counter,\n",
        "    count=5\n",
        "    )\n",
        "\n",
        "print(five_most_popular)\n",
        "print(five_most_unpopular)"
      ]
    },
    {
      "cell_type": "code",
      "execution_count": 23,
      "metadata": {
        "id": "KVdBTClt3cHD"
      },
      "outputs": [
        {
          "name": "stdout",
          "output_type": "stream",
          "text": [
            "{'променять_VERB': ([('отписной_ADJ', 0.6108760833740234), ('покуплять_VERB', 0.5565236210823059), ('важский_ADJ', 0.5522485375404358), ('сазиков_NOUN', 0.5511545538902283), ('харатейный_ADJ', 0.5497941970825195)], [('шкурничество_NOUN', 0.1632651686668396), ('генерал-лейтенант::кейт_NOUN', 0.15048211812973022), ('стюардесса_NOUN', 0.14454029500484467), ('подташнивать_VERB', 0.14320816099643707), ('недисциплинированность_NOUN', 0.14041376113891602)]), 'оголенное_ADJ': ([], []), 'тоска_NOUN': ([('грусть_NOUN', 0.7532758116722107), ('тоскливый_ADJ', 0.7276431322097778), ('скука_NOUN', 0.70046067237854), ('отчаяние_NOUN', 0.6835792064666748), ('печаль_NOUN', 0.6749533414840698)], [('кимрский_ADJ', 0.11602100729942322), ('юнкор_NOUN', 0.09584140032529831), ('электротехнологический::персонал_NOUN', 0.09323256462812424), ('патентовед_NOUN', 0.09309279918670654), ('cit_NOUN', 0.08841274678707123)]), 'нестерпимо_ADV': ([('невыносимый_ADJ', 0.7199772596359253), ('нестерпимый_ADJ', 0.6532183885574341), ('ужасно_ADV', 0.6238234639167786), ('мучительно_ADV', 0.6044928431510925), ('жутко_ADV', 0.6031601428985596)], [('коно_NOUN', 0.12201656401157379), ('саров_NOUN', 0.10784360766410828), ('торн_NOUN', 0.1063176691532135), ('обученный_ADJ', 0.10041936486959457), ('абонентский_ADJ', 0.09902128577232361)]), 'захотеться_VERB': ([('хотеться_VERB', 0.8226648569107056), ('захотеть_VERB', 0.6509802341461182), ('хотеть_VERB', 0.6218660473823547), ('попробовать_VERB', 0.521479070186615), ('терпеться_VERB', 0.5178279876708984)], [('водо_ADJ', 0.09196247160434723), ('обрушение_NOUN', 0.09092987328767776), ('фун_NOUN', 0.08605986088514328), ('брутто_ADJ', 0.08372701704502106), ('обр_NOUN', 0.08025836944580078)])}\n",
            "{'коля_NOUN': ([('сережа_NOUN', 0.7335748672485352), ('саша_NOUN', 0.6994726061820984), ('володя_NOUN', 0.6912044286727905), ('витя_NOUN', 0.6870987415313721), ('миша_NOUN', 0.6628897190093994)], [('полуторавековой_ADJ', 0.09019394218921661), ('скрытие_NOUN', 0.08060113340616226), ('англинский_ADJ', 0.0753522738814354), ('флетчер_NOUN', 0.07265042513608932), ('анализироваться_VERB', 0.06741391867399216)]), 'сказать_VERB': ([('говорить_VERB', 0.7460559606552124), ('проговаривать_VERB', 0.7006840705871582), ('спрашивать_VERB', 0.6981898546218872), ('отвечать_VERB', 0.6946645975112915), ('промолвить_VERB', 0.6331186890602112)], [('подновляться_VERB', 0.06214263662695885), ('гаревый::дорожка_NOUN', 0.04315704479813576), ('наращиваться_VERB', 0.04253940284252167), ('распыливать_VERB', 0.042170584201812744), ('увеличение_NOUN', 0.04125140234827995)]), 'лейтенант_NOUN': ([('капитан_NOUN', 0.7183517813682556), ('сержант_NOUN', 0.7078946828842163), ('майор_NOUN', 0.6672885417938232), ('замкомбат_NOUN', 0.6297375559806824), ('подполковник_NOUN', 0.6277130842208862)], [('истолковываться_VERB', 0.11556024104356766), ('насоздавать_VERB', 0.10714450478553772), ('renaissance_NOUN', 0.09736262261867523), ('chat_NOUN', 0.09665744006633759), ('сосредоточие_NOUN', 0.09530221670866013)]), 'товарищ_NOUN': ([('трейвас_NOUN', 0.5468621253967285), ('меснис_NOUN', 0.5409819483757019), ('таащ_NOUN', 0.5338801145553589), ('бройницкий_ADJ', 0.5265308618545532), ('переяров_NOUN', 0.5259326100349426)], [('genesis_NOUN', 0.10324708372354507), ('самодостаточный_ADJ', 0.08044146746397018), ('родоначальный_ADJ', 0.07997757941484451), ('упорядоченность_NOUN', 0.07781703025102615), ('вено_NOUN', 0.07687001675367355)]), 'коля_PROPN': ([], [])}\n"
          ]
        }
      ],
      "source": [
        "def find_most_similar_and_unsimilar_words(*, word: str, topn: int = 5) -> tuple[list[tuple[str, float]], list[tuple[str, float]]]:\n",
        "  if word in w2v:\n",
        "    most_similar = w2v.most_similar(positive=[word], topn=topn)\n",
        "    most_unsimilar = w2v.most_similar(negative=[word], topn=topn)\n",
        "    return most_similar, most_unsimilar\n",
        "  else:\n",
        "    return [], []\n",
        "\n",
        "\n",
        "most_popular_similar_unsimilar = {\n",
        "    token[0]: find_most_similar_and_unsimilar_words(word=token[0])\n",
        "    for token in five_most_popular\n",
        "}\n",
        "\n",
        "most_unpopular_similar_unsimilar = {\n",
        "    token[0]: find_most_similar_and_unsimilar_words(word=token[0])\n",
        "    for token in five_most_unpopular\n",
        "}\n",
        "\n",
        "print(most_unpopular_similar_unsimilar)\n",
        "\n",
        "print(most_popular_similar_unsimilar)"
      ]
    }
  ],
  "metadata": {
    "colab": {
      "provenance": []
    },
    "kernelspec": {
      "display_name": "tokens-homework",
      "language": "python",
      "name": "python3"
    },
    "language_info": {
      "codemirror_mode": {
        "name": "ipython",
        "version": 3
      },
      "file_extension": ".py",
      "mimetype": "text/x-python",
      "name": "python",
      "nbconvert_exporter": "python",
      "pygments_lexer": "ipython3",
      "version": "3.12.3"
    }
  },
  "nbformat": 4,
  "nbformat_minor": 0
}
