{
  "cells": [
    {
      "cell_type": "markdown",
      "metadata": {},
      "source": [
        "# Практикум: Введение в NLP и эмбеддинги (TF‑IDF, Word2Vec)\n",
        "\n",
        "Этот ноутбук — пошаговый практический разбор простых, но ключевых идей NLP на классическом Python (минимум «магии», больше прозрачных вычислений). Мы:\n",
        "- загрузим и подготовим простой датасет твитов о катастрофах;\n",
        "- посчитаем TF‑IDF «вручную» и визуализируем документы с помощью Plotly;\n",
        "- обучим мини‑версии Word2Vec (CBOW и Skip‑Gram) на `numpy` (с нуля);\n",
        "- разберём функции активации и потерь и посмотрим на получившиеся эмбеддинги слов.\n",
        "\n",
        "План:\n",
        "1) Датасеты и контекст занятия  \n",
        "2) Загрузка данных (Kaggle Disaster Tweets) + фоллбек  \n",
        "3) Предобработка текста (очистка, токенизация, стоп‑слова)  \n",
        "4) TF‑IDF: формулы, реализация на Python, визуализация  \n",
        "5) Word2Vec: CBOW и Skip‑Gram (numpy), функции потерь и активации  \n",
        "6) Визуализация эмбеддингов слов + похожесть по косинусу  \n",
        "7) Выводы и доп.материалы\n",
        "\n",
        "Зависимости: `python>=3.9`, `numpy`, `pandas`, `plotly`. Ноутбук старается обходиться без внешних NLP‑библиотек и «тяжёлых» фреймворков.\n",
        "\n",
        "Если какой‑то пакет отсутствует, установите его заранее в окружении:\n",
        "\n",
        "```bash\n",
        "pip install numpy pandas plotly\n",
        "```\n",
        "\n"
      ]
    },
    {
      "cell_type": "markdown",
      "metadata": {},
      "source": [
        "## 1) Датасеты и контекст занятия\n",
        "\n",
        "Для практики подойдёт небольшой, понятный по структуре корпус. В этом ноутбуке предпочтение датасету твитов о катастрофах:\n",
        "- Kaggle: `Disaster Tweets` — `target` (0/1), `text`, иногда `keyword`, `location`. Ссылка: https://www.kaggle.com/datasets/vstepanenko/disaster-tweets\n",
        "\n",
        "Также, на будущее (если захочется альтернатив):\n",
        "- SMS Spam Collection (классификация спам/хам): https://archive.ics.uci.edu/dataset/228/sms+spam+collection  \n",
        "- 20 Newsgroups (классификация новостных тем): https://scikit-learn.org/stable/datasets/real_world.html#newsgroups-dataset  \n",
        "- IMDb Reviews (оценка тональности отзывов): http://ai.stanford.edu/~amaas/data/sentiment/  \n",
        "- AG News (классификация новостей): https://huggingface.co/datasets/ag_news\n",
        "\n",
        "Мы будем использовать «честный» классический Python с `numpy` и `pandas` (по минимуму) и построим свои вычисления TF‑IDF и Word2Vec без «магических» вызовов. Визуализацию сделаем через Plotly.\n"
      ]
    },
    {
      "cell_type": "code",
      "execution_count": 1,
      "metadata": {},
      "outputs": [],
      "source": [
        "# Импорты и базовые настройки\n",
        "import os, re, math, random\n",
        "from collections import Counter, defaultdict\n",
        "\n",
        "import numpy as np\n",
        "import pandas as pd\n",
        "import plotly.express as px\n",
        "\n",
        "random.seed(42)\n",
        "np.random.seed(42)\n",
        "\n",
        "# Настройки отображения pandas\n",
        "pd.set_option('display.max_colwidth', 140)\n",
        "\n"
      ]
    },
    {
      "cell_type": "markdown",
      "metadata": {},
      "source": [
        "## 2) Загрузка данных (Kaggle Disaster Tweets) + фоллбек\n",
        "\n",
        "Предпочтительный корпус: Kaggle `Disaster Tweets` (`text`, `target ∈ {0,1}`), ссылка: https://www.kaggle.com/datasets/vstepanenko/disaster-tweets\n",
        "\n",
        "Чтобы ноутбук запускался «из коробки», предусмотрен фоллбек: если CSV не найден локально, берём небольшой встроенный мини‑набор (20 твитов) со схожей структурой. Для занятия этого достаточно, чтобы пройти весь пайплайн.\n",
        "\n",
        "Как использовать Kaggle‑датасет локально:\n",
        "1. Скачайте CSV с Kaggle и положите файл, например, в `data/disaster_tweets.csv` или рядом с ноутбуком как `disaster_tweets.csv`.\n",
        "2. Перезапустите ячейку ниже — будет использован реальный корпус.\n",
        "\n"
      ]
    },
    {
      "cell_type": "code",
      "execution_count": 2,
      "metadata": {},
      "outputs": [
        {
          "name": "stdout",
          "output_type": "stream",
          "text": [
            "(11370, 2)\n"
          ]
        },
        {
          "data": {
            "text/html": [
              "<div>\n",
              "<style scoped>\n",
              "    .dataframe tbody tr th:only-of-type {\n",
              "        vertical-align: middle;\n",
              "    }\n",
              "\n",
              "    .dataframe tbody tr th {\n",
              "        vertical-align: top;\n",
              "    }\n",
              "\n",
              "    .dataframe thead th {\n",
              "        text-align: right;\n",
              "    }\n",
              "</style>\n",
              "<table border=\"1\" class=\"dataframe\">\n",
              "  <thead>\n",
              "    <tr style=\"text-align: right;\">\n",
              "      <th></th>\n",
              "      <th>text</th>\n",
              "      <th>target</th>\n",
              "    </tr>\n",
              "  </thead>\n",
              "  <tbody>\n",
              "    <tr>\n",
              "      <th>0</th>\n",
              "      <td>Communal violence in Bhainsa, Telangana. \"Stones were pelted on Muslims' houses and some houses and vehicles were set ablaze…</td>\n",
              "      <td>1</td>\n",
              "    </tr>\n",
              "    <tr>\n",
              "      <th>1</th>\n",
              "      <td>Telangana: Section 144 has been imposed in Bhainsa from January 13 to 15, after clash erupted between two groups on January 12. Po…</td>\n",
              "      <td>1</td>\n",
              "    </tr>\n",
              "    <tr>\n",
              "      <th>2</th>\n",
              "      <td>Arsonist sets cars ablaze at dealership https://t.co/gOQvyJbpVI</td>\n",
              "      <td>1</td>\n",
              "    </tr>\n",
              "    <tr>\n",
              "      <th>3</th>\n",
              "      <td>Arsonist sets cars ablaze at dealership https://t.co/0gL7NUCPlb https://t.co/u1CcBhOWh9</td>\n",
              "      <td>1</td>\n",
              "    </tr>\n",
              "    <tr>\n",
              "      <th>4</th>\n",
              "      <td>\"Lord Jesus, your love brings freedom and pardon. Fill me with your Holy Spirit and set my heart ablaze with your l… https://t.co/VlTznn...</td>\n",
              "      <td>0</td>\n",
              "    </tr>\n",
              "    <tr>\n",
              "      <th>5</th>\n",
              "      <td>If this child was Chinese, this tweet would have gone viral. Social media would be ablaze. SNL would have made a racist j…</td>\n",
              "      <td>0</td>\n",
              "    </tr>\n",
              "    <tr>\n",
              "      <th>6</th>\n",
              "      <td>Several houses have been set ablaze in Ngemsibaa village, Oku sub division in the North West Region of Cameroon by… https://t.co/99uHGAzxy2</td>\n",
              "      <td>1</td>\n",
              "    </tr>\n",
              "    <tr>\n",
              "      <th>7</th>\n",
              "      <td>Asansol: A BJP office in Salanpur village was set ablaze last night. BJP has alleged that TMC is behind the incident. Police has b…</td>\n",
              "      <td>1</td>\n",
              "    </tr>\n",
              "  </tbody>\n",
              "</table>\n",
              "</div>"
            ],
            "text/plain": [
              "                                                                                                                                          text  \\\n",
              "0                Communal violence in Bhainsa, Telangana. \"Stones were pelted on Muslims' houses and some houses and vehicles were set ablaze…   \n",
              "1          Telangana: Section 144 has been imposed in Bhainsa from January 13 to 15, after clash erupted between two groups on January 12. Po…   \n",
              "2                                                                              Arsonist sets cars ablaze at dealership https://t.co/gOQvyJbpVI   \n",
              "3                                                      Arsonist sets cars ablaze at dealership https://t.co/0gL7NUCPlb https://t.co/u1CcBhOWh9   \n",
              "4  \"Lord Jesus, your love brings freedom and pardon. Fill me with your Holy Spirit and set my heart ablaze with your l… https://t.co/VlTznn...   \n",
              "5                   If this child was Chinese, this tweet would have gone viral. Social media would be ablaze. SNL would have made a racist j…   \n",
              "6  Several houses have been set ablaze in Ngemsibaa village, Oku sub division in the North West Region of Cameroon by… https://t.co/99uHGAzxy2   \n",
              "7          Asansol: A BJP office in Salanpur village was set ablaze last night. BJP has alleged that TMC is behind the incident. Police has b…   \n",
              "\n",
              "   target  \n",
              "0       1  \n",
              "1       1  \n",
              "2       1  \n",
              "3       1  \n",
              "4       0  \n",
              "5       0  \n",
              "6       1  \n",
              "7       1  "
            ]
          },
          "execution_count": 2,
          "metadata": {},
          "output_type": "execute_result"
        }
      ],
      "source": [
        "# Поиск CSV и фоллбек на мини‑датасет\n",
        "candidate_paths = [\n",
        "    'tweets.csv'\n",
        "]\n",
        "\n",
        "csv_path = None\n",
        "for p in candidate_paths:\n",
        "    if os.path.exists(p):\n",
        "        csv_path = p\n",
        "        break\n",
        "\n",
        "if csv_path is not None:\n",
        "    df = pd.read_csv(csv_path)\n",
        "    # Приводим к ожидаемым столбцам, если имена отличаются\n",
        "    cols = [c.lower() for c in df.columns]\n",
        "    df.columns = cols\n",
        "    if 'text' not in df.columns:\n",
        "        # Ищем похожие варианты\n",
        "        for c in df.columns:\n",
        "            if 'tweet' in c or 'content' in c or 'message' in c:\n",
        "                df['text'] = df[c]\n",
        "                break\n",
        "    if 'target' not in df.columns:\n",
        "        # Иногда метка может называться иначе\n",
        "        for c in df.columns:\n",
        "            if c in ['label', 'is_real', 'is_disaster', 'sentiment']:\n",
        "                df['target'] = df[c]\n",
        "                break\n",
        "    df = df[['text', 'target']].dropna()\n",
        "else:\n",
        "    # Мини‑корпус: 20 твитов (синтетический, но близкий по тематике) — 0/1 = не катастрофа/катастрофа\n",
        "    mini_data = [\n",
        "        {\"text\": \"Huge fire downtown, buildings evacuated and roads closed\", \"target\": 1},\n",
        "        {\"text\": \"What a beautiful sunny day at the park!\", \"target\": 0},\n",
        "        {\"text\": \"Earthquake reported near the coast, people are safe so far\", \"target\": 1},\n",
        "        {\"text\": \"New cafe opened next to my office, great coffee\", \"target\": 0},\n",
        "        {\"text\": \"Flood warnings in the city, stay away from low areas\", \"target\": 1},\n",
        "        {\"text\": \"Just finished a great workout, feeling awesome\", \"target\": 0},\n",
        "        {\"text\": \"Wildfire spreading due to strong winds, firefighters on site\", \"target\": 1},\n",
        "        {\"text\": \"Watching a movie tonight with friends\", \"target\": 0},\n",
        "        {\"text\": \"Bridge collapsed after heavy rain, emergency crews arriving\", \"target\": 1},\n",
        "        {\"text\": \"My cat learned a new trick today\", \"target\": 0},\n",
        "        {\"text\": \"Tornado touched down near the highway, take shelter immediately\", \"target\": 1},\n",
        "        {\"text\": \"Trying a new recipe for dinner\", \"target\": 0},\n",
        "        {\"text\": \"Explosion heard at chemical plant, area cordoned off\", \"target\": 1},\n",
        "        {\"text\": \"Best concert ever last night!\", \"target\": 0},\n",
        "        {\"text\": \"Volcano ash delays flights in the region\", \"target\": 1},\n",
        "        {\"text\": \"Reading a book on my balcony\", \"target\": 0},\n",
        "        {\"text\": \"Severe storm expected tonight, charge your phones\", \"target\": 1},\n",
        "        {\"text\": \"Bought new headphones, love the sound\", \"target\": 0},\n",
        "        {\"text\": \"Landslide blocks mountain road, rescue teams deployed\", \"target\": 1},\n",
        "        {\"text\": \"Morning coffee is the best ritual\", \"target\": 0},\n",
        "    ]\n",
        "    df = pd.DataFrame(mini_data)\n",
        "\n",
        "print(df.shape)\n",
        "df.head(8)\n"
      ]
    },
    {
      "cell_type": "markdown",
      "metadata": {},
      "source": [
        "## 3) Предобработка текста: очистка, токенизация, стоп‑слова\n",
        "\n",
        "Минимальная, понятная предобработка для твитов:\n",
        "- привести к нижнему регистру;\n",
        "- удалить URL, упоминания `@user`, хэштеги `#tag` (оставим слово без `#`), пунктуацию и цифры;\n",
        "- токенизировать простым `split()` по пробелам;\n",
        "- убрать короткие токены и стоп‑слова.\n",
        "\n",
        "Стоп‑слова возьмём небольшим встроенным набором, чтобы не тянуть NLTK/списки из интернета. Это учебный пример; в реальных задачах список лучше расширить.\n",
        "\n"
      ]
    },
    {
      "cell_type": "code",
      "execution_count": 3,
      "metadata": {},
      "outputs": [
        {
          "data": {
            "text/html": [
              "<div>\n",
              "<style scoped>\n",
              "    .dataframe tbody tr th:only-of-type {\n",
              "        vertical-align: middle;\n",
              "    }\n",
              "\n",
              "    .dataframe tbody tr th {\n",
              "        vertical-align: top;\n",
              "    }\n",
              "\n",
              "    .dataframe thead th {\n",
              "        text-align: right;\n",
              "    }\n",
              "</style>\n",
              "<table border=\"1\" class=\"dataframe\">\n",
              "  <thead>\n",
              "    <tr style=\"text-align: right;\">\n",
              "      <th></th>\n",
              "      <th>text</th>\n",
              "      <th>tokens</th>\n",
              "      <th>target</th>\n",
              "    </tr>\n",
              "  </thead>\n",
              "  <tbody>\n",
              "    <tr>\n",
              "      <th>0</th>\n",
              "      <td>Communal violence in Bhainsa, Telangana. \"Stones were pelted on Muslims' houses and some houses and vehicles were set ablaze…</td>\n",
              "      <td>[communal, violence, bhainsa, telangana, stones, pelted, muslims, houses, some, houses, vehicles, set, ablaze]</td>\n",
              "      <td>1</td>\n",
              "    </tr>\n",
              "    <tr>\n",
              "      <th>1</th>\n",
              "      <td>Telangana: Section 144 has been imposed in Bhainsa from January 13 to 15, after clash erupted between two groups on January 12. Po…</td>\n",
              "      <td>[telangana, section, imposed, bhainsa, january, after, clash, erupted, between, two, groups, january]</td>\n",
              "      <td>1</td>\n",
              "    </tr>\n",
              "    <tr>\n",
              "      <th>2</th>\n",
              "      <td>Arsonist sets cars ablaze at dealership https://t.co/gOQvyJbpVI</td>\n",
              "      <td>[arsonist, sets, cars, ablaze, dealership]</td>\n",
              "      <td>1</td>\n",
              "    </tr>\n",
              "    <tr>\n",
              "      <th>3</th>\n",
              "      <td>Arsonist sets cars ablaze at dealership https://t.co/0gL7NUCPlb https://t.co/u1CcBhOWh9</td>\n",
              "      <td>[arsonist, sets, cars, ablaze, dealership]</td>\n",
              "      <td>1</td>\n",
              "    </tr>\n",
              "    <tr>\n",
              "      <th>4</th>\n",
              "      <td>\"Lord Jesus, your love brings freedom and pardon. Fill me with your Holy Spirit and set my heart ablaze with your l… https://t.co/VlTznn...</td>\n",
              "      <td>[lord, jesus, love, brings, freedom, pardon, fill, holy, spirit, set, heart, ablaze]</td>\n",
              "      <td>0</td>\n",
              "    </tr>\n",
              "    <tr>\n",
              "      <th>5</th>\n",
              "      <td>If this child was Chinese, this tweet would have gone viral. Social media would be ablaze. SNL would have made a racist j…</td>\n",
              "      <td>[child, chinese, tweet, gone, viral, social, media, ablaze, snl, made, racist]</td>\n",
              "      <td>0</td>\n",
              "    </tr>\n",
              "  </tbody>\n",
              "</table>\n",
              "</div>"
            ],
            "text/plain": [
              "                                                                                                                                          text  \\\n",
              "0                Communal violence in Bhainsa, Telangana. \"Stones were pelted on Muslims' houses and some houses and vehicles were set ablaze…   \n",
              "1          Telangana: Section 144 has been imposed in Bhainsa from January 13 to 15, after clash erupted between two groups on January 12. Po…   \n",
              "2                                                                              Arsonist sets cars ablaze at dealership https://t.co/gOQvyJbpVI   \n",
              "3                                                      Arsonist sets cars ablaze at dealership https://t.co/0gL7NUCPlb https://t.co/u1CcBhOWh9   \n",
              "4  \"Lord Jesus, your love brings freedom and pardon. Fill me with your Holy Spirit and set my heart ablaze with your l… https://t.co/VlTznn...   \n",
              "5                   If this child was Chinese, this tweet would have gone viral. Social media would be ablaze. SNL would have made a racist j…   \n",
              "\n",
              "                                                                                                           tokens  \\\n",
              "0  [communal, violence, bhainsa, telangana, stones, pelted, muslims, houses, some, houses, vehicles, set, ablaze]   \n",
              "1           [telangana, section, imposed, bhainsa, january, after, clash, erupted, between, two, groups, january]   \n",
              "2                                                                      [arsonist, sets, cars, ablaze, dealership]   \n",
              "3                                                                      [arsonist, sets, cars, ablaze, dealership]   \n",
              "4                            [lord, jesus, love, brings, freedom, pardon, fill, holy, spirit, set, heart, ablaze]   \n",
              "5                                  [child, chinese, tweet, gone, viral, social, media, ablaze, snl, made, racist]   \n",
              "\n",
              "   target  \n",
              "0       1  \n",
              "1       1  \n",
              "2       1  \n",
              "3       1  \n",
              "4       0  \n",
              "5       0  "
            ]
          },
          "execution_count": 3,
          "metadata": {},
          "output_type": "execute_result"
        }
      ],
      "source": [
        "# Небольшой список английских стоп‑слов (можно дополнять при желании)\n",
        "stopwords_en = {\n",
        "    'a','an','the','and','or','but','if','while','with','without','of','to','in','on','at','for','from','by','about','as',\n",
        "    'is','are','was','were','be','been','being','am','do','does','did','doing','have','has','had','having',\n",
        "    'i','you','he','she','it','we','they','me','him','her','them','my','your','his','its','our','their','this','that','these','those',\n",
        "    'so','very','just','not','no','nor','too','can','cannot','could','should','would','will','shall','may','might',\n",
        "    'up','down','out','over','under','again','further','then','once',\n",
        "}\n",
        "\n",
        "# Простая токенизация/очистка без внешних библиотек\n",
        "url_re = re.compile(r'https?://\\S+|www\\.\\S+')\n",
        "mention_re = re.compile(r'@\\w+')\n",
        "hashtag_re = re.compile(r'#')\n",
        "nonalpha_re = re.compile(r'[^a-z\\s]')\n",
        "\n",
        "# Функции компактные, чтобы было понятно из кода, что происходит\n",
        "\n",
        "def clean_text_to_tokens(text):\n",
        "    text = str(text).lower()\n",
        "    text = url_re.sub(' ', text)\n",
        "    text = mention_re.sub(' ', text)\n",
        "    text = hashtag_re.sub('', text)  # оставляем слово без символа #\n",
        "    text = nonalpha_re.sub(' ', text)\n",
        "    tokens = [t for t in text.split() if t and t.isalpha()]\n",
        "    tokens = [t for t in tokens if len(t) > 2 and t not in stopwords_en]\n",
        "    return tokens\n",
        "\n",
        "# Применяем к корпусу\n",
        "df['tokens'] = [clean_text_to_tokens(t) for t in df['text']]\n",
        "\n",
        "df[['text','tokens','target']].head(6)\n"
      ]
    },
    {
      "cell_type": "markdown",
      "metadata": {},
      "source": [
        "## 4) TF‑IDF: формулы и реализация «вручную»\n",
        "\n",
        "Идея: вес слова в документе выше, если оно часто встречается в этом документе (TF), но ниже, если слово часто встречается во всём корпусе (IDF).\n",
        "\n",
        "- TF(t, d) = count(t, d) / |d|  \n",
        "- IDF(t, D) = ln((N + 1) / (df(t) + 1)) + 1  — сглажённая версия, где N — число документов, df(t) — в скольких документах встречается t.  \n",
        "- TF‑IDF(t, d) = TF(t,d) * IDF(t,D)\n",
        "\n",
        "Материалы:\n",
        "- Habr: «Краткий обзор техник векторизации в NLP»: https://habr.com/ru/articles/778048/  \n",
        "- sklearn TfidfVectorizer (для справки): https://scikit-learn.org/stable/modules/generated/sklearn.feature_extraction.text.TfidfVectorizer.html\n",
        "\n"
      ]
    },
    {
      "cell_type": "code",
      "execution_count": 4,
      "metadata": {},
      "outputs": [
        {
          "data": {
            "text/plain": [
              "(11370, 2000)"
            ]
          },
          "execution_count": 4,
          "metadata": {},
          "output_type": "execute_result"
        }
      ],
      "source": [
        "# Строим словарь корпуса и частоты\n",
        "N_docs = len(df)\n",
        "term_doc_freq = Counter()   # df(t)\n",
        "term_total_freq = Counter() # для отбора наиболее информативных слов\n",
        "\n",
        "doc_term_counts = []  # списки Counter по документам\n",
        "for toks in df['tokens']:\n",
        "    c = Counter(toks)\n",
        "    doc_term_counts.append(c)\n",
        "    term_total_freq.update(c)\n",
        "    term_doc_freq.update(set(c.keys()))\n",
        "\n",
        "# Ограничим размер словаря, чтобы визуализация и обучение были лёгкими\n",
        "max_vocab = 2000\n",
        "vocab_terms = [t for t, _ in term_total_freq.most_common(max_vocab)]\n",
        "term_to_idx = {t:i for i,t in enumerate(vocab_terms)}\n",
        "\n",
        "# Считаем IDF по сглажённой формуле\n",
        "idf = np.zeros(len(vocab_terms), dtype=np.float32)\n",
        "for t, idx in term_to_idx.items():\n",
        "    df_t = term_doc_freq.get(t, 0)\n",
        "    idf[idx] = math.log((N_docs + 1) / (df_t + 1)) + 1.0\n",
        "\n",
        "# Строим матрицу TF‑IDF (docs x vocab)\n",
        "X = np.zeros((N_docs, len(vocab_terms)), dtype=np.float32)\n",
        "for i, c in enumerate(doc_term_counts):\n",
        "    doc_len = sum(c.values()) if sum(c.values()) > 0 else 1\n",
        "    for t, cnt in c.items():\n",
        "        if t in term_to_idx:\n",
        "            j = term_to_idx[t]\n",
        "            tf = cnt / doc_len\n",
        "            X[i, j] = tf * idf[j]\n",
        "\n",
        "X.shape\n"
      ]
    },
    {
      "cell_type": "code",
      "execution_count": 5,
      "metadata": {},
      "outputs": [
        {
          "data": {
            "application/vnd.plotly.v1+json": {
              "config": {
                "plotlyServerURL": "https://plot.ly"
              },
              "data": [
                {
                  "hovertemplate": "target=1<br>x=%{x}<br>y=%{y}<extra></extra>",
                  "legendgroup": "1",
                  "marker": {
                    "color": "#636efa",
                    "symbol": "circle"
                  },
                  "mode": "markers",
                  "name": "1",
                  "showlegend": true,
                  "type": "scattergl",
                  "x": {
                    "bdata": "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",
                    "dtype": "f4"
                  },
                  "xaxis": "x",
                  "y": {
                    "bdata": "7x9EvPm2SrzZjyO82Y8jvOd3NbyCOie8eNkpvP14JLyvlU+83gYlvIugRbziD0O8aJQNvB9mdrzLt+K73oFVvDt8XLyYDiS8mA4kvPLzbry5Dya8/h0lvKI9Y7xaZmm8RN7/OBb5ebx6FzG8HHJ8Pa3oebx1mny8Ze+TvKdTNbywRDW86AgtvIOZgLy7UUC8NVmEvLBENbywRDW8sEQ1vLBENbywRDW8grczvFmFW7ywRDW8r1sBu77Ue7wLKj68LUFxvAwOhLx5HFO815h3vJo0cryP0Fa8R6yWvKjqzLwQX5G8akx7vOPXT7xORLK8Pc6XvF2Mibx+d0285e1svKx2d7y4w3m8MVOJvMa+sbx/AIW8//OmvM+TVLx1mYO8y+EvvIoVOLx1IyW87IO4O81O+LvNTvi7/BFAvEoxoz6k+e67viBZvJpLAbwn4l28JGIbvAJccDvLNBG8SXqAvCIQjrxotOy7e1bvuwmAJrxw6Wq8cOlqvPrqijy341G82khxvN+gI7wCRIS8h9bauw/W0ru1lxG8LkLxu5JeJ7xFeXy8LWoRvNodCrw3Gzm8U86HvCs9qbxdZUC8FWtFvFWOZ7ySuRu8UaZSvCAh/rzh2368VFuKvLgeijv5YWi8ubKrvCAh/ryAKDu8UGJ+vLdXRbyyNqe8kEoovIqTtryzr4q8/aRvvNU/WrwivXu8ryxGvCInsby/9lC8Ul9lvMjWRrylpES8W0o7vFK7dLx6c0+808Q7vEipS7wDSo+824ZrvLwIjbzDaGm8Qqs8vDDklbzB7VK8kkIuvAOuCby9blW8q6RqvM6gCLvK9vq7UOESvFtXwDsNmiu81vdMvKTQY7zDoBw7DCLuu+EAF7w2DjK8fO89vPFxFbz+apa86fCLvDtSgrzDpSm80p1QvD9GK7yhMUS8SEMivATnl7yGL2+69IcsvDzLzbs8y8274UsxvIgUZ7ylvSm8VSpNvFUqTbxQOYe872d+vMfvBb1dMly9RuWfvbGIa7xTgD+8qfNOvO5WXLxb1Rq8gaqSvHerKLyOCBC8KzVYvBNiX7yHnwS8rmcTvMd8jTvlQyS8M6ZgvADrfDtm51i8WUZ4vLVRWbxopZ87BL6ZvLC5WLw/zom8LYpdvH7alLyUf0y8Ucg+vN9WgrzRtTG8oFyGvHuIYbyUf0y8J/tAvLSfZ7w/zom8+UOSvKlcorx1hYy8QyCPvHWFjLyCCFO8eQEOvJmwQ7w1r2C6MhNzvD/OibyC+mi8Bh+VvDniHrz5Q5K8YO9WvGDvVry24HG8LYpdvLC5WLwhgYC8mFabvA4mH7xbOmS8ja+BvLnUa7wOXD28eJjMu/YxILytdHC85d6AvAT5MrxAhxW8o0QcvECHFbwqDre8tBKDPdoItz2nFGe8TiIYvCOUHbw9xxO8Q2xKvESPdbx0VEK8A0xfvGvSRLxazkG8fztPvH87T7wm/dW8AKFmvIAhXrxN5pK8wl1bvIFKbLy4yqa79VKyvI1vgLzWVmS8MudjvGNZnLySsIa8w9NYvGFshbwEfBK8TUiLvCHdfLzliGW8gduLvI1vgLx4fpC8CHFZvK/lUrw77hW86B1WvO2TbLwaoqC7pg0LvA33crw/pI28oXGEvLezrbxSTKu8PtBZvA33crzUTQa8Oe6AvBc7bbxtZxS84NC0vCkN0LzOiWy8B+QmvH5t37yCjzq8fFvJu+c30bsKz2i8Z3uevLMWpbz3KpW8Y+ZrvB7AWbyVO5C8EFVivFxVY7wiV9C8iQuVvAlMOrz5kn+81jCvvC0Wk7xBn6e80K6ivJSmCby/PnC8mvWZvHWYZ7xin8C7pj/ru/p8irzEOWy8lzI0vFtNi7uw7Y28ZWNLvO33m7zNwYy89nQ1vAR+kLv/mX+8Yo5xvNJlarwnLjw7835jvNFQMLySLX28899IO0EJZ7w5O6O8BGEpvNMcMLsEzkC8LQsXvMNcj7z0XTK8rBMxvD6PXbz2MFC8K+KVvHarPrxGumO8KI4SvNItS7xDJ9m77rdrvJFIVryRSFa8t+pYvIG9PbwLHJO8lZ9pvJWfabxzllK87suCvMLqL7zC6i+8wuovvMLqL7zC6i+8c5ZSvMLqL7zC6i+8rkKGvOfTM7yXMDq8s9UnvCO2ebxaYXy8/zgfu3DCaLzbHoC88UWGvJ4gjbxN3hi82fp1vAbCFbwqUUO8cjpAvJGahrxNcEG8U4EjvBNpJLzuAEq8U4EjvGAoY7wTaSS8mj8rvHpBW7zgC2G8mj8rvI8uPLyPLjy82upLvGX3nLzLaWS8EvM+vMBPJrxhY2u8So6HvAUtiby2bii8TQ1XvCZ9kLxpCS28AyA+vLQ/XLxzqUa8L4CAvD65Lbwr13e8WcAIvHZekLyRcWa8bfVQvMY8bryMJ5i8khmQvJLxgbz9CHC8DeQ4vAncQ7xuaj+8vZRhvGCfjLwJ1ny8QEY0vDqxHrzMjEi8y9NzvJLXM7yUoB+8E+YavBhAfLwT5hq89RVUvC5nErz2oIW8SiY5vBOZlbybgmi8G25CvH2QgbzOul28JgGRvC/CJrz2oIW8Oes+vBhAfLwamq28LyiEvL6lWLwXHWC8Jf2HvMFQRbwmAZG85wx/vEs5SbzMjEi8UdmGvLHlPLxoZHG8fgFmvJR7cLx752m89Jc2vNjLOLzwnMq88JzKvPUrG7xeo6e8/UMKvKBwZLxhzA+8F8tJvNXtY7zwnMq8jEuMvMjLfLy+g3i8fBF3vHESwrxra7m8jvyDvJd/vbxenmS8lyCEvKJz/7trwrS8kO6Tu8Vcp7zQ0oS8Rs10vGovcLz6MTG8oZaCvHEIVrwB9Hu8wg+PvIYQI7xpvKg7OO1cvHeFP7zbOZ68EtM5vC7cX7wu3F+8Edw0u9IfGrx/Zy68KHpYvPkLJLwemxy8hsUMvN9s9buEwya8NCwAvKeDU7xUlw+8rmggvISQhbwxFnS8AZFKvIZPO7znI4C8gBp3vAqfibxbFGC8bK8ovORlTbzaR028gRaCvAUcgby4nYS8JMZhvO/0xbz4gEG87PxLvPj5uruUDZW8KEyKvB4DW7y5x06861trvJPOJrxQXTW8GO91vMx9NLzMfTS8yoo9vHbLRbzqug285jGovBE5x7z17MG8DgGEvLNczrsUEWK8U49qvKh1p7s5qQ68G80rvF5Cc7zlvWS8UgM1vNDhNrzeSB68W4ARvJEEFLxqUny8Ea5VvCxpU7wRrlW8Ea5VvGpSfLy/HT28wU9DvL8dPby0Uga8egc+vJJQTLwynFm8/FBNvJnM+7sk+lC8HVx4vLfzg7yvCTC8mnWQvOtWk7yn64C8Qz6JvNYQPLzINPO793tBvKn5bLw9/pe893tBvP+Mf7yCKpe8yiqivJP8drw9/pe8gDmdvOaAaLyCKpe8N6slvIMTcbyDE3G8Pwd9uyWLV7wlnPW7HiMIvJG4b7ylTkW8ByROvKY7NbzPCTu8eG10vI3uUbz94ZS8yuZJvK+2LLzVn4C8C0eKvOXwj7x4R3u8b/xcvI3uUbxUzVe8JsOEvHs8nj0mIOk7Z8cxvC2mrz0k6Hc9Z8cxvNJ3ObzHm4i8/cT8uzrqhLzSYAW8ToR3vPeddrw8WW68/LhfvCJHibydJY68Qn6OvD4RXLw+EVy8CiCxvARzs7xOyjW8Id03vARzs7xbHIO8wD+BvJryQLxlaj68Gr1NvAjfXbz8/Xu8uktBvB3lKrw7ohC8ugZ1vHlcXLxdTE28+69XvPkOZbxlvRW8HrxDvMzIS7w8V0K8b1ZevItTPLziJl68mRFJvORlJrzkhly83Hs/vMfMWbyySmC8yGq/vEGTp7vIar+8Fc6IvMhqv7yfzHC8yGq/vCetfbxWOEy8N0SZvH4PjLwKy1y84XdJvNUXg7zUZ1e8n8JnvDlnlLwfQ5G8uFGeuxP9WLweaVK8JDEZvDPIPrwzyD68GwwMvNtkLrw5Z5S8uFGeu8ubULyae0i8VV9avLtxFLwy0Hy7f2GkvA+vabwG2V68Iit4vMDTBrxtUUW8zqxevGtq2LvkfnO8d4MmvAi3Sbwdn2m8CLdJvFc5cbzKkTq8gmk3vBJ0j7yGCTC8fldDvP+hFbwbZJw9CNoUvH5XQ7wj8xe8grM5vH5XQ7zrg0u8d4U0vHy+DryUami8KBsbvB3DP7znR167/RJKvWHsK7008qy99TUpvIcNVzwc1Hm8HNR5vCcxmryZ9Hu8JzGavPPnXbwkaKm88gCHvP/3TbvfPAK8AUNKvMoPgrutUTq8eaFPvH6CN7wAsCW8XLU3vP/3Tbvd3ki8z3c7vIoKxLv3HE28oYRMvFw4G7weRBa8AUNKvGEgeTxMVRe8IjEovMm0jLzBMxi8IjEovP9Cjbz/Qo28/0KNvJB1JbyOxyu8kHUlvJB1JbyT+hu8HlUYvBzFRrwSn1+8dkNVvBEfF7wL5Wi8TP00vF8t9LsL5Wi8SbR2vE1pYLxgdoC8Vz0avAaIWryBG5a7xvJjvKSHQLzP8i+8TwhtvK4XTLx1wTO80qplvEoldbzSqmW8+gyUvMKqjLy2MY2819JcvNfSXLzQtmy81H81vBN8OLwTfDi8E3w4vBN8OLzhbmS81zF2vF5Rn7y33hG8qKVzvPhymry06ES8jJWXvEQ6Qbwn91G8OoeJvBdGkrxgwme8NzOUuyIwQrwt/jW8oL1avPu3UbyCUkm8+/qUvGlIcryccGa8uJuCvH3Iirw0wJG8EWZBvGGbkryDfSG8zTiCvAcChryAICy8PWwxvPblbbz25W28SvltvEIja7ytpHa8QwVtvGGrBLwjkuy7KZhkvL+EdT329Gm8q+smvPH0XryzAj28fcFCvISSn7zi0D68PWVnvOeOJLxnrXO8R6tmvFd7gbxNdE6807dQvEoAZbyhskO8TA6JvMws/LtI6Te8mkpPvFX9OrwV5oy86uBkvCu4PTwEjGW8sT63PCyBQ7x9cAK8ZZAZvCyBQ7yOz/O7nndJvDlyjLwJVX48PxG6O8OCFbwXrj+8D7V3vKbgkbzzUTa8lqaBvJMQRrwsGJ286bW3vKOjhLyS5hw8/59evFpqkrw8SSe8+/58vCeIILzvYBq8AndQvESBgLwdtUi8x8g/vAeZmLyxl2u8UhEyvCZuoLvWujq8jmA5vK8UD7zsqia8lKRKvNXtY7yH9ja8ddccvAdGXbzG2Vq8My0YvFuJHLxbiRy85BMtvMkkg7z+3C68Gio1vBD2Prwp9uW76eyAuxQdY7x/Mk+8QKgNvMdkHbxIkn08SJJ9PF5HVbxIkn08CQokvJW/JrzUn6O7FeVLvGbVNrzzDHW8UYgsvBJQjbxgRiC8hspHvF3baLxeSma86qECvKY2czqo3oS8XNJHvNfAMLxoypu8aMqbvHrwjrwZoZm8ntv3u+WaKLyg3zy8c4eEvHOHhLxzh4S8c4eEvHOHhLxzh4S8c4eEvHOHhLxzh4S8YN2mu3OHhLxzh4S8c4eEvLo7OLwdvlm8o6wnvL1xY7y9ZEi8ZGxIvJQtRLwg87G8Gb1ovCgvXrwJzm28CDFMvLdPPrxVJZ28VGW2u6sUT7xKJkS8j6tovFrCoLw49Ym80q9XvIGWY7yPq2i8gZZjvLa0Q7zSr1e8XBgxvF0fPLy2L5m8gZZjvFUGRrwPnj+8dRwzvIGWY7zXc5i8qjwtPKpef7wQnGW8zyzQvD2Qh7yG9X68ZVmyvEf1ibyPZNe8rK5EvEf1ibzPLNC833EavOeQArzT9ii8Qy5ivG96ULxYxky8XubLuxSTyruvgrS7+so3vHwdGzpaKTK8xsG2ute3Ebx6mWq8YTGBvKKlbrxgMI28LHddvB6tb7xTvVu8HiRavAh3oLzcH2q8cIdIvFQ2mbzRJ3K8qiOIvCM6irxQN3W8KutyvDJkAryA8wi8IzqKvCqxX7xqEIa8Vt5xvD+6H7xZz9e70SdyvKOZFrzRJ3K8b+wRvNgJd7znMQO8SVxevAUZnLwFGZy8Z8mSvI3CH7w+gXG8Q4xrvDyue7zisJW80TQ0vIsPO7yblKS7m5Sku+AuUbwZgla87HcnvCDsgbx4Vne8eyFPvEnWUrx6pkW8eqZFvNVYJLzGt0K8p05YvJ8a0LwPnD68TtAavPtqJrxDQkC6rBuLPTjcDbxlHDW8DjApvNKVJLzSlSS8rC83uxrsL7yICRS7NbOuuxv6I7ylDty751dLvKr0Frw9eB+8t8VIvLNBjLsXbhK8TKFovCVmELy1TXq8colHvIE5b7xOQaK8CY6HvLr9SbyD60y8Yq5zvJd8l7yarJy81DlHvEQwcLxEMHC8svgxvJN5ebw1Chq8ZZBqvCTfYLztAVS8GvRHvDPcH7wl2Cy8+uw8vPsgUrrGhEK8z4A2vPeBabwsNUm89U9RvCxPB7xZ0x680sOBvJqvobwvYCi8L2AovLqTnrzzBxS8JUmEvGsvO7yZZja8Yg0avDfcCrxtqkq8N9wKvKTwNLw33Aq8TLMeulaFLbxDJ9m7XfopvKPbJLxl8la8lsWAvAZaG7xXJH68Cv07vIyav7tCqJq8L5JCvF3yP7zQPUG80ONLvIugV7yXhe+6isNevAR9j7yRWZa8VF5JvGRffrxQxzu82gNJvHJEYLwum2G8rCQPvBo8hroGWRu8WtUWvE71hLyRCTW8E+jauwSAI7xFFYi8yVhfvILJULzJWF+8fjv9u5QBQTsE0U68Neqyu78DirxFFYi8fPGRvPoc8bvh8Ry8gKGBvPKikrxz64q8HgA4vL2EULwP9XG8E8QgvL2EULy9hFC8F9NavO5DQLzOlk28u/A5vItbW7zOlk28SUxKvM6WTby78Dm83GaGvOxKiLznfqe70QjOu09xKby8iUy8M3FaOw0SjrzuFzK8h7IxvOfjJLz9dC28BBMKPEV5fLzxAVG8XlibvAQJWrwikr+7lOk0vPGRSrzxAVG8+howvPuvPLzKVBq8G+gevOt8O7xV+FO8OvcxvMbLLrw1RRy8DdtzvJ+JPrzqdVa8zDqBvO58l7xj44C8RKRivL+bUbw/mom8O1uNvPIVfLzzhYS8sq1yvIUUkLwezCK8vKamvITKvrzzhYS884WEvBU0ebzzhYS884WEvD7ydbxvxOO7hohAvI21MzzS/Ua8FH4nvFiTgLyERmS8xytpvGFah7suGWy8SR4CvL9mx7z/g+G8K87hvIqG1Lw+fhq98nDKvMQ/SbywTSy8e1avvOkGR7wYu1G8Ee4dvITiG7wf/1O8geN7vBHuHby27RO8tu0TvPfDV7ycsBG8VC0kvEK9H7zi4oG8si8cvN+XhLvjDgq8tbiXvCc0KjtoAku8f+mIvNNSRLx0km689V1LvN+MVbwWT3K80LxLvHSNNLzj5Tq8PjlyvK1u5LtxemW8MMATPdxTA7wXygm8iPNJvKTOfbweROq7GqJBvLFFn7z43QW75R4xvKZnSbxA6I28od9YvNaRebwo4ja8bDFWvCN8N7y63X+8wmNZPUYqg7zCCLK7U0tYvGfDULwWzme8HXhgvL1TmLyCOyq8dbJ4vBA3KLx1sni84UhhvAL7KLzhs0W8XpQ1vF6UNbxelDW84UhhvFG7IbxNdga8XpQ1vOFIYbzyR5g7XpQ1vII3I7wH0yi8B9MovPyvcLy1dx28JSsLvF6UNbzzIBy88yAcvCUrC7yu2Iy8k6dhvL/kjry/5I68QXAfvC+YObw/wWa8HPIxvCiXKLywfD+8cJIwvBdOS7wTvAS8gxdpvBQlALyDF2m8hYNfvHDcirwuPgq9syiSvBdOS7xj3VG8ful/vH83GbyDF2m8JFaKvMOgTrzOqg28pPJHvDQyMLz/dgy8sEAlvBD6Zj19dDi87j8dvJdHK7yl8y289xl9PCEDobvVUyK8WLlSvGe6VLxcRhu8vdLMOkJtJLzdAwK8Re5nvG3zLrwP1Rm8xgtxvBmLGLwHhIm79aYGvIbWXrxNUFa8o7uNvAN6STyIyFC8nX0jvNl4N7w08eG77C2EvMD5VLwm8ke8plfMvDMOaryokoy8mmNevFgyabz5/xe8REhJvDxglbpBI7m6K01kvMQoabwrTWS8xChpvB1ZLrx+KpC8fot3vLK4c7xMLey7nHVovMfci7xoKgK8qVfcu2gqArwC6Fy8AuhcvJj3Vrx1IjC8bsTru6nbBbxP+0O85nkpvGqOS7zfVlW8GlpavH3QnLuPNGu8+MF1vFwkkrtMOhe8QLxbvJ1SA7xjADe8gJ1IvHUom7x8YGu8fGBrvC1oVbxaFbe87xIlvFoVt7xaFbe8WhW3vFoVt7xaFbe8MWmkvOqOg7xdOmO8IEMgvIzIYLy6CbW7W4aTvJdjVDxKBlm8PPSXvDhjHbxdc1S8JLSLvAnpAryVhk28XXNUvEPfOLxn9lC8KkDzu1IIFDvQZhW8U4UNvNBmFbxn9lC86WU3vCbeRrwKWaa8RwC0vMuEzLxHALS8FkG4vPXKj7y+GbO861eyvJyiwrwWrzu8fMh4vLYgzLysoK28bAOdvFNX27wJIpS8pI+fvKygrbxpTJe8nKLCvAvltbwtHJW8y4TMvMuEzLwL5bW8AfumvAH7prwhn528bg5GvE5BorzS2Zy8LjbAvNBhlLzLhMy8m+egvBulnrycosK8AfumvAH7prycosK8S8fEvK1Ur7x/2ay8EbxhvMwlsbzm5JO8nKLCvNPYlrwuNsC87LWMvLttybytVK+89AZAvImBBrzA1128OqYPvOLGbbyk/oa81d9IvBE/nLscxQ68Y9I5vLQkW7wXi5S8voWSvEL1e7yesEu8fKxsvCkYX7yQKpu8k7FYvH0jQbzkp0S8M7SovESfEjgy+QC8iaKnvP7QRLz+0ES8ZecNvGfFMLy4R0O87YY4vNsJg7yfB0u8sOg4vBWnTbxfp1G8iP9xvPdnOLxzqQC8qmN1vHaOqbzOamy8BVBovIS3FLyuzHG8C0RyvD8vHj8B3xo/gpYLPwcznLvlCZw/KkgcP9XcBEBc5mW7pxEhvAufPrxKiTa8B8E+vH9vbbwrZJa89vSMvCtklrwrZJa8OXvAuzl7wLs5e8C7OXvAuwz7HrzX+ou8q+FnvB23S7y20nK8GnFbvIuUA7zmO2a8pGELvCn5WrzYVq28qYKJvLwPGTvDJoa8MKTINre/r7zv0Ya8kwKYvNhWrbwVPEg7gg+dvCfug7zYVq282FatvNhWrbzYVq282FatvNhWrbzIaHG8Kq2uvGLIRLyL7ga867UNvGQ3VLwcuJa8F2x3vHQDZbw9FDe8Nk81vOu1DbwEjhG82WguvDVBpbx/EnG8MZFlvA02Tryn9oS88L4fvGZTZz1haXu8p/aEvEjggrzLhvy7jwFnvP+APLwJMyc80MGNvDG91TuMekK8Q2eUvLWaRry3hQ+87PhdvHehQLzna8K7xUWFvJ0bsrzxK4+8UfqQu9T/U7xhCzG8G34GO0THRrz0kyq8jy02vJm9Lby2AEu8x5w3vHF4LbzB2d+6NdJSvH+3A7wahXG8GoVxvCMYJ7yjjma8jUhAvMtDCbzx1Uy8KWJivBf/LbwX/y28f7cDvH+3A7zCh1O8BbNHvJPj+bu7dE68Tc1RvD6/P7xajEy8yGR0vCliYrxzf0q8NdJSvBSybLwUsmy8+azDvH4uXrxRUTO8Ro9dvOj6Orzo+jq86Po6vOj6Orzo+jq8ER+JPRt3J7z6h1e8kb2mvPHVTLyAKGy8+GFwvDJzWryrrF68ia98vB5Yc7wFGW+8CxN/vLZ9Y7wvt2e8T3ZevAkMabxqoGy87hZ2vPoGPLz6Bjy8+gY8vAP/hrxK4zy8vT8PvJG9prxD0168KXBUvO2BWbw5KFG8KXBUvALEVbw2Bky8Q9NevCgFzbsoBc27w2xovE3OTryq0EW8tjNRvOQLP7w97SO8LRtKvIEhNbxK8S+82n8qvGVWh7xT6Ha8ynZTvFhhWrwx/V68y5/hu1Podrzn7XO8Ink9vKpjpLuwb5O8ZPLgu4g7FLzW80C8Y1dNvE1MsbtbV8A7ZGcsvM6QHbw9V5Q7r8quu2RnLLyGL2+61SCFPciohbxgLBS86islvC+tJTpN4Im8bh0QvFvILbyB5V68j1uSPOk3vDsTkAU+w0OpvH1rCbwXyIS8F5lPvF8qirzH/PW7BW2hPayNBLx7rxW8kDY9vASZZ7x18Cm8STgJvDiAbry/Mkm8GJVCvBtIkbt57mW8F9QdvG8EjbwxIAO8QiDxulFRF7zD+JC7T5dLvHTZY7xlqTi8cCVjvP98PLwr2RK8jek0vIuGQbw8JmG86cCJu1t3nLz5ZnC88CdgvFJchbzMxJu8a3gJvEIOdbwKgoa8zMSbvNhajLw/u4C88sBZvNZBkLxMra67P2FRvEQSk7wxUxC8RR8OvFfWery4xYm8kZJ8vMfrlbyWaW28sTtivIoil7yDNEO8pgC2vO41YbyFvqe8wQr8uwI47rswl468wQr8uzI2lLxfWKE7ujtkvNREi7y0wC688HYIvKjjBrzGDde867qGvIN2RbygjlK87r1YuxcLVLzp7mO8rJ0DvByOd7wl0ma8dJdavIq4djuc4aq8rAkYvGdggbzIREG8AnQivBqjdrwdO768H99IvGdggbx9oB68jU9iPtAtbrxi9Cu7YvQru9/UGrz9i5q8Ggc4vMujZbzznQK9JSEhvNOFhLyrRpS8/GmWvOxujbpd3GO88DjzvLYuobzD7My8fE66vElDprzXmwW8CWm9vGPmlbzY04K8qugfvJofE7xbZC68WTY+vKbmHLw0RSK8K7p7vMVr7LvbfJa8BohavAaIWrxovUK8BohavFveabzm4sC7239avIZxobnbf1q8maHVu4GISLyoYx282zRQvOdXS7x8ICe8/tAJvBSqKLyrofm5maHVuwzkMrysKzm8DOQyvJmh1bvhO0W8nzlGvBxk9btwPhG8huQ0vPGQFbwQonC88V9pvJ85RrwloQy88EwPvH4Yk7uuw2w859S6Ovk1b7wL0BG8+cVwO+izqrz7wWG5clvpuWy3/rsPwze7m8ycu2o+RbuLR2S7IKqDPIlopbuLR2S7HhYYvK8zCrzQ+2G8nIcZvBsGNLzz8T68ams1vKXtK7xqjmG8N85eutyDULxvtYC7HGwuvPSONrwsVlC8EV1mvJKnIrxFmnq8iSICvPgNiLx0yCy7i+xpvL1hLLx0QAe80kIRvPYWcbxcEze8qAcsvJBBOrs=",
                    "dtype": "f4"
                  },
                  "yaxis": "y"
                },
                {
                  "hovertemplate": "target=0<br>x=%{x}<br>y=%{y}<extra></extra>",
                  "legendgroup": "0",
                  "marker": {
                    "color": "#EF553B",
                    "symbol": "circle"
                  },
                  "mode": "markers",
                  "name": "0",
                  "showlegend": true,
                  "type": "scattergl",
                  "x": {
                    "bdata": "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",
                    "dtype": "f4"
                  },
                  "xaxis": "x",
                  "y": {
                    "bdata": "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",
                    "dtype": "f4"
                  },
                  "yaxis": "y"
                }
              ],
              "layout": {
                "legend": {
                  "title": {
                    "text": "target"
                  },
                  "tracegroupgap": 0
                },
                "template": {
                  "data": {
                    "bar": [
                      {
                        "error_x": {
                          "color": "#2a3f5f"
                        },
                        "error_y": {
                          "color": "#2a3f5f"
                        },
                        "marker": {
                          "line": {
                            "color": "#E5ECF6",
                            "width": 0.5
                          },
                          "pattern": {
                            "fillmode": "overlay",
                            "size": 10,
                            "solidity": 0.2
                          }
                        },
                        "type": "bar"
                      }
                    ],
                    "barpolar": [
                      {
                        "marker": {
                          "line": {
                            "color": "#E5ECF6",
                            "width": 0.5
                          },
                          "pattern": {
                            "fillmode": "overlay",
                            "size": 10,
                            "solidity": 0.2
                          }
                        },
                        "type": "barpolar"
                      }
                    ],
                    "carpet": [
                      {
                        "aaxis": {
                          "endlinecolor": "#2a3f5f",
                          "gridcolor": "white",
                          "linecolor": "white",
                          "minorgridcolor": "white",
                          "startlinecolor": "#2a3f5f"
                        },
                        "baxis": {
                          "endlinecolor": "#2a3f5f",
                          "gridcolor": "white",
                          "linecolor": "white",
                          "minorgridcolor": "white",
                          "startlinecolor": "#2a3f5f"
                        },
                        "type": "carpet"
                      }
                    ],
                    "choropleth": [
                      {
                        "colorbar": {
                          "outlinewidth": 0,
                          "ticks": ""
                        },
                        "type": "choropleth"
                      }
                    ],
                    "contour": [
                      {
                        "colorbar": {
                          "outlinewidth": 0,
                          "ticks": ""
                        },
                        "colorscale": [
                          [
                            0,
                            "#0d0887"
                          ],
                          [
                            0.1111111111111111,
                            "#46039f"
                          ],
                          [
                            0.2222222222222222,
                            "#7201a8"
                          ],
                          [
                            0.3333333333333333,
                            "#9c179e"
                          ],
                          [
                            0.4444444444444444,
                            "#bd3786"
                          ],
                          [
                            0.5555555555555556,
                            "#d8576b"
                          ],
                          [
                            0.6666666666666666,
                            "#ed7953"
                          ],
                          [
                            0.7777777777777778,
                            "#fb9f3a"
                          ],
                          [
                            0.8888888888888888,
                            "#fdca26"
                          ],
                          [
                            1,
                            "#f0f921"
                          ]
                        ],
                        "type": "contour"
                      }
                    ],
                    "contourcarpet": [
                      {
                        "colorbar": {
                          "outlinewidth": 0,
                          "ticks": ""
                        },
                        "type": "contourcarpet"
                      }
                    ],
                    "heatmap": [
                      {
                        "colorbar": {
                          "outlinewidth": 0,
                          "ticks": ""
                        },
                        "colorscale": [
                          [
                            0,
                            "#0d0887"
                          ],
                          [
                            0.1111111111111111,
                            "#46039f"
                          ],
                          [
                            0.2222222222222222,
                            "#7201a8"
                          ],
                          [
                            0.3333333333333333,
                            "#9c179e"
                          ],
                          [
                            0.4444444444444444,
                            "#bd3786"
                          ],
                          [
                            0.5555555555555556,
                            "#d8576b"
                          ],
                          [
                            0.6666666666666666,
                            "#ed7953"
                          ],
                          [
                            0.7777777777777778,
                            "#fb9f3a"
                          ],
                          [
                            0.8888888888888888,
                            "#fdca26"
                          ],
                          [
                            1,
                            "#f0f921"
                          ]
                        ],
                        "type": "heatmap"
                      }
                    ],
                    "histogram": [
                      {
                        "marker": {
                          "pattern": {
                            "fillmode": "overlay",
                            "size": 10,
                            "solidity": 0.2
                          }
                        },
                        "type": "histogram"
                      }
                    ],
                    "histogram2d": [
                      {
                        "colorbar": {
                          "outlinewidth": 0,
                          "ticks": ""
                        },
                        "colorscale": [
                          [
                            0,
                            "#0d0887"
                          ],
                          [
                            0.1111111111111111,
                            "#46039f"
                          ],
                          [
                            0.2222222222222222,
                            "#7201a8"
                          ],
                          [
                            0.3333333333333333,
                            "#9c179e"
                          ],
                          [
                            0.4444444444444444,
                            "#bd3786"
                          ],
                          [
                            0.5555555555555556,
                            "#d8576b"
                          ],
                          [
                            0.6666666666666666,
                            "#ed7953"
                          ],
                          [
                            0.7777777777777778,
                            "#fb9f3a"
                          ],
                          [
                            0.8888888888888888,
                            "#fdca26"
                          ],
                          [
                            1,
                            "#f0f921"
                          ]
                        ],
                        "type": "histogram2d"
                      }
                    ],
                    "histogram2dcontour": [
                      {
                        "colorbar": {
                          "outlinewidth": 0,
                          "ticks": ""
                        },
                        "colorscale": [
                          [
                            0,
                            "#0d0887"
                          ],
                          [
                            0.1111111111111111,
                            "#46039f"
                          ],
                          [
                            0.2222222222222222,
                            "#7201a8"
                          ],
                          [
                            0.3333333333333333,
                            "#9c179e"
                          ],
                          [
                            0.4444444444444444,
                            "#bd3786"
                          ],
                          [
                            0.5555555555555556,
                            "#d8576b"
                          ],
                          [
                            0.6666666666666666,
                            "#ed7953"
                          ],
                          [
                            0.7777777777777778,
                            "#fb9f3a"
                          ],
                          [
                            0.8888888888888888,
                            "#fdca26"
                          ],
                          [
                            1,
                            "#f0f921"
                          ]
                        ],
                        "type": "histogram2dcontour"
                      }
                    ],
                    "mesh3d": [
                      {
                        "colorbar": {
                          "outlinewidth": 0,
                          "ticks": ""
                        },
                        "type": "mesh3d"
                      }
                    ],
                    "parcoords": [
                      {
                        "line": {
                          "colorbar": {
                            "outlinewidth": 0,
                            "ticks": ""
                          }
                        },
                        "type": "parcoords"
                      }
                    ],
                    "pie": [
                      {
                        "automargin": true,
                        "type": "pie"
                      }
                    ],
                    "scatter": [
                      {
                        "fillpattern": {
                          "fillmode": "overlay",
                          "size": 10,
                          "solidity": 0.2
                        },
                        "type": "scatter"
                      }
                    ],
                    "scatter3d": [
                      {
                        "line": {
                          "colorbar": {
                            "outlinewidth": 0,
                            "ticks": ""
                          }
                        },
                        "marker": {
                          "colorbar": {
                            "outlinewidth": 0,
                            "ticks": ""
                          }
                        },
                        "type": "scatter3d"
                      }
                    ],
                    "scattercarpet": [
                      {
                        "marker": {
                          "colorbar": {
                            "outlinewidth": 0,
                            "ticks": ""
                          }
                        },
                        "type": "scattercarpet"
                      }
                    ],
                    "scattergeo": [
                      {
                        "marker": {
                          "colorbar": {
                            "outlinewidth": 0,
                            "ticks": ""
                          }
                        },
                        "type": "scattergeo"
                      }
                    ],
                    "scattergl": [
                      {
                        "marker": {
                          "colorbar": {
                            "outlinewidth": 0,
                            "ticks": ""
                          }
                        },
                        "type": "scattergl"
                      }
                    ],
                    "scattermap": [
                      {
                        "marker": {
                          "colorbar": {
                            "outlinewidth": 0,
                            "ticks": ""
                          }
                        },
                        "type": "scattermap"
                      }
                    ],
                    "scattermapbox": [
                      {
                        "marker": {
                          "colorbar": {
                            "outlinewidth": 0,
                            "ticks": ""
                          }
                        },
                        "type": "scattermapbox"
                      }
                    ],
                    "scatterpolar": [
                      {
                        "marker": {
                          "colorbar": {
                            "outlinewidth": 0,
                            "ticks": ""
                          }
                        },
                        "type": "scatterpolar"
                      }
                    ],
                    "scatterpolargl": [
                      {
                        "marker": {
                          "colorbar": {
                            "outlinewidth": 0,
                            "ticks": ""
                          }
                        },
                        "type": "scatterpolargl"
                      }
                    ],
                    "scatterternary": [
                      {
                        "marker": {
                          "colorbar": {
                            "outlinewidth": 0,
                            "ticks": ""
                          }
                        },
                        "type": "scatterternary"
                      }
                    ],
                    "surface": [
                      {
                        "colorbar": {
                          "outlinewidth": 0,
                          "ticks": ""
                        },
                        "colorscale": [
                          [
                            0,
                            "#0d0887"
                          ],
                          [
                            0.1111111111111111,
                            "#46039f"
                          ],
                          [
                            0.2222222222222222,
                            "#7201a8"
                          ],
                          [
                            0.3333333333333333,
                            "#9c179e"
                          ],
                          [
                            0.4444444444444444,
                            "#bd3786"
                          ],
                          [
                            0.5555555555555556,
                            "#d8576b"
                          ],
                          [
                            0.6666666666666666,
                            "#ed7953"
                          ],
                          [
                            0.7777777777777778,
                            "#fb9f3a"
                          ],
                          [
                            0.8888888888888888,
                            "#fdca26"
                          ],
                          [
                            1,
                            "#f0f921"
                          ]
                        ],
                        "type": "surface"
                      }
                    ],
                    "table": [
                      {
                        "cells": {
                          "fill": {
                            "color": "#EBF0F8"
                          },
                          "line": {
                            "color": "white"
                          }
                        },
                        "header": {
                          "fill": {
                            "color": "#C8D4E3"
                          },
                          "line": {
                            "color": "white"
                          }
                        },
                        "type": "table"
                      }
                    ]
                  },
                  "layout": {
                    "annotationdefaults": {
                      "arrowcolor": "#2a3f5f",
                      "arrowhead": 0,
                      "arrowwidth": 1
                    },
                    "autotypenumbers": "strict",
                    "coloraxis": {
                      "colorbar": {
                        "outlinewidth": 0,
                        "ticks": ""
                      }
                    },
                    "colorscale": {
                      "diverging": [
                        [
                          0,
                          "#8e0152"
                        ],
                        [
                          0.1,
                          "#c51b7d"
                        ],
                        [
                          0.2,
                          "#de77ae"
                        ],
                        [
                          0.3,
                          "#f1b6da"
                        ],
                        [
                          0.4,
                          "#fde0ef"
                        ],
                        [
                          0.5,
                          "#f7f7f7"
                        ],
                        [
                          0.6,
                          "#e6f5d0"
                        ],
                        [
                          0.7,
                          "#b8e186"
                        ],
                        [
                          0.8,
                          "#7fbc41"
                        ],
                        [
                          0.9,
                          "#4d9221"
                        ],
                        [
                          1,
                          "#276419"
                        ]
                      ],
                      "sequential": [
                        [
                          0,
                          "#0d0887"
                        ],
                        [
                          0.1111111111111111,
                          "#46039f"
                        ],
                        [
                          0.2222222222222222,
                          "#7201a8"
                        ],
                        [
                          0.3333333333333333,
                          "#9c179e"
                        ],
                        [
                          0.4444444444444444,
                          "#bd3786"
                        ],
                        [
                          0.5555555555555556,
                          "#d8576b"
                        ],
                        [
                          0.6666666666666666,
                          "#ed7953"
                        ],
                        [
                          0.7777777777777778,
                          "#fb9f3a"
                        ],
                        [
                          0.8888888888888888,
                          "#fdca26"
                        ],
                        [
                          1,
                          "#f0f921"
                        ]
                      ],
                      "sequentialminus": [
                        [
                          0,
                          "#0d0887"
                        ],
                        [
                          0.1111111111111111,
                          "#46039f"
                        ],
                        [
                          0.2222222222222222,
                          "#7201a8"
                        ],
                        [
                          0.3333333333333333,
                          "#9c179e"
                        ],
                        [
                          0.4444444444444444,
                          "#bd3786"
                        ],
                        [
                          0.5555555555555556,
                          "#d8576b"
                        ],
                        [
                          0.6666666666666666,
                          "#ed7953"
                        ],
                        [
                          0.7777777777777778,
                          "#fb9f3a"
                        ],
                        [
                          0.8888888888888888,
                          "#fdca26"
                        ],
                        [
                          1,
                          "#f0f921"
                        ]
                      ]
                    },
                    "colorway": [
                      "#636efa",
                      "#EF553B",
                      "#00cc96",
                      "#ab63fa",
                      "#FFA15A",
                      "#19d3f3",
                      "#FF6692",
                      "#B6E880",
                      "#FF97FF",
                      "#FECB52"
                    ],
                    "font": {
                      "color": "#2a3f5f"
                    },
                    "geo": {
                      "bgcolor": "white",
                      "lakecolor": "white",
                      "landcolor": "#E5ECF6",
                      "showlakes": true,
                      "showland": true,
                      "subunitcolor": "white"
                    },
                    "hoverlabel": {
                      "align": "left"
                    },
                    "hovermode": "closest",
                    "mapbox": {
                      "style": "light"
                    },
                    "paper_bgcolor": "white",
                    "plot_bgcolor": "#E5ECF6",
                    "polar": {
                      "angularaxis": {
                        "gridcolor": "white",
                        "linecolor": "white",
                        "ticks": ""
                      },
                      "bgcolor": "#E5ECF6",
                      "radialaxis": {
                        "gridcolor": "white",
                        "linecolor": "white",
                        "ticks": ""
                      }
                    },
                    "scene": {
                      "xaxis": {
                        "backgroundcolor": "#E5ECF6",
                        "gridcolor": "white",
                        "gridwidth": 2,
                        "linecolor": "white",
                        "showbackground": true,
                        "ticks": "",
                        "zerolinecolor": "white"
                      },
                      "yaxis": {
                        "backgroundcolor": "#E5ECF6",
                        "gridcolor": "white",
                        "gridwidth": 2,
                        "linecolor": "white",
                        "showbackground": true,
                        "ticks": "",
                        "zerolinecolor": "white"
                      },
                      "zaxis": {
                        "backgroundcolor": "#E5ECF6",
                        "gridcolor": "white",
                        "gridwidth": 2,
                        "linecolor": "white",
                        "showbackground": true,
                        "ticks": "",
                        "zerolinecolor": "white"
                      }
                    },
                    "shapedefaults": {
                      "line": {
                        "color": "#2a3f5f"
                      }
                    },
                    "ternary": {
                      "aaxis": {
                        "gridcolor": "white",
                        "linecolor": "white",
                        "ticks": ""
                      },
                      "baxis": {
                        "gridcolor": "white",
                        "linecolor": "white",
                        "ticks": ""
                      },
                      "bgcolor": "#E5ECF6",
                      "caxis": {
                        "gridcolor": "white",
                        "linecolor": "white",
                        "ticks": ""
                      }
                    },
                    "title": {
                      "x": 0.05
                    },
                    "xaxis": {
                      "automargin": true,
                      "gridcolor": "white",
                      "linecolor": "white",
                      "ticks": "",
                      "title": {
                        "standoff": 15
                      },
                      "zerolinecolor": "white",
                      "zerolinewidth": 2
                    },
                    "yaxis": {
                      "automargin": true,
                      "gridcolor": "white",
                      "linecolor": "white",
                      "ticks": "",
                      "title": {
                        "standoff": 15
                      },
                      "zerolinecolor": "white",
                      "zerolinewidth": 2
                    }
                  }
                },
                "title": {
                  "text": "Документы в пространстве TF‑IDF (PCA 2D)"
                },
                "xaxis": {
                  "anchor": "y",
                  "domain": [
                    0,
                    1
                  ],
                  "title": {
                    "text": "x"
                  }
                },
                "yaxis": {
                  "anchor": "x",
                  "domain": [
                    0,
                    1
                  ],
                  "title": {
                    "text": "y"
                  }
                }
              }
            }
          },
          "metadata": {},
          "output_type": "display_data"
        }
      ],
      "source": [
        "# PCA на numpy (через SVD) для визуализации документов TF‑IDF\n",
        "# Центрируем матрицу и берём первые 2 компоненты\n",
        "Xc = X - X.mean(axis=0, keepdims=True)\n",
        "U, S, Vt = np.linalg.svd(Xc, full_matrices=False)\n",
        "X2d = (U[:, :2] * S[:2])\n",
        "\n",
        "fig = px.scatter(\n",
        "    x=X2d[:,0], y=X2d[:,1],\n",
        "    color=df['target'].astype(str),\n",
        "    title='Документы в пространстве TF‑IDF (PCA 2D)',\n",
        "    labels={'color':'target'}\n",
        ")\n",
        "fig.show()\n"
      ]
    },
    {
      "cell_type": "markdown",
      "metadata": {},
      "source": [
        "## 5) Word2Vec: интуиция, активации и функция потерь\n",
        "\n",
        "Word2Vec учится предсказывать слово по контексту (CBOW) или контекст по слову (Skip‑Gram). В обоих случаях внутри — два матрицы весов: `W_in` (эмбеддинги «входных» слов) и `W_out` (веса для предсказания слов). На выходе — распределение по словарю через softmax.\n",
        "\n",
        "- Активация: `softmax(z)` превращает логиты в вероятности:  \n",
        "  softmax(z)_i = exp(z_i − max(z)) / sum_j exp(z_j − max(z))  \n",
        "- Потери: кросс‑энтропия с «one‑hot» целевым словом y:  \n",
        "  L = −log P(y|x) = −log softmax(z)_y\n",
        "\n",
        "CBOW (контекст → целевое слово):  \n",
        "- Считаем средний вектор контекста v_c как среднее эмбеддингов контекстных слов из `W_in`.  \n",
        "- Логиты: z = W_out · v_c  \n",
        "- Вероятности: p = softmax(z)  \n",
        "- Градиенты: ∂L/∂z = p − one_hot(y), далее получаем ∂L/∂W_out и ∂L/∂v_c, раскладываем ∂L/∂W_in по словам контекста.\n",
        "\n",
        "Skip‑Gram (слово → контекстные слова):  \n",
        "- Берём эмбеддинг центра v_center = W_in[word].  \n",
        "- Для каждого контекстного слова y делаем предсказание через softmax(W_out · v_center) и считаем кросс‑энтропию.\n",
        "\n",
        "Первые версии Word2Vec также используют ускорения вроде негативной выборки или иерархического softmax (см. оригинальные статьи):  \n",
        "- Mikolov et al., Efficient Estimation of Word Representations in Vector Space: https://arxiv.org/abs/1301.3781  \n",
        "- Mikolov et al., Distributed Representations of Words and Phrases: https://arxiv.org/abs/1310.4546  \n",
        "- Документация Gensim Word2Vec (для справки): https://radimrehurek.com/gensim/models/word2vec.html\n",
        "\n"
      ]
    },
    {
      "cell_type": "code",
      "execution_count": 6,
      "metadata": {},
      "outputs": [
        {
          "data": {
            "text/plain": [
              "(400, 600, 2000)"
            ]
          },
          "execution_count": 6,
          "metadata": {},
          "output_type": "execute_result"
        }
      ],
      "source": [
        "# Готовим подкорпус и словарь для Word2Vec\n",
        "# Берём лишь часть твитов и ограничим словарь частотными словами, чтобы обучение было быстрым\n",
        "sentences = [toks for toks in df['tokens'] if len(toks) > 0]\n",
        "max_sentences = min(len(sentences), 400)\n",
        "sentences = sentences[:max_sentences]\n",
        "\n",
        "# Частоты по подкорпусу\n",
        "freq = Counter()\n",
        "for s in sentences:\n",
        "    freq.update(s)\n",
        "\n",
        "vocab_size_limit = 600\n",
        "most_common = [w for w, _ in freq.most_common(vocab_size_limit)]\n",
        "word_to_idx = {w:i for i,w in enumerate(most_common)}\n",
        "idx_to_word = {i:w for w,i in word_to_idx.items()}\n",
        "\n",
        "# Строим обучающие пары для CBOW: (контекст -> центр)\n",
        "window = 2\n",
        "cbow_pairs = []\n",
        "for s in sentences:\n",
        "    idxs = [word_to_idx[w] for w in s if w in word_to_idx]\n",
        "    for i, center in enumerate(idxs):\n",
        "        left = max(0, i - window)\n",
        "        right = min(len(idxs), i + window + 1)\n",
        "        ctx = [idxs[j] for j in range(left, right) if j != i]\n",
        "        if len(ctx) > 0:\n",
        "            cbow_pairs.append((ctx, center))\n",
        "\n",
        "# Чтобы ускорить, случайно подвыберем пары\n",
        "random.shuffle(cbow_pairs)\n",
        "cbow_pairs = cbow_pairs[:2000]\n",
        "\n",
        "len(sentences), len(word_to_idx), len(cbow_pairs)\n"
      ]
    },
    {
      "cell_type": "code",
      "execution_count": 7,
      "metadata": {},
      "outputs": [
        {
          "name": "stdout",
          "output_type": "stream",
          "text": [
            "[CBOW] epoch 1/100, loss=6.3969\n",
            "[CBOW] epoch 2/100, loss=6.3966\n",
            "[CBOW] epoch 3/100, loss=6.3962\n",
            "[CBOW] epoch 4/100, loss=6.3952\n",
            "[CBOW] epoch 5/100, loss=6.3921\n",
            "[CBOW] epoch 6/100, loss=6.3817\n",
            "[CBOW] epoch 7/100, loss=6.3471\n",
            "[CBOW] epoch 8/100, loss=6.2853\n",
            "[CBOW] epoch 9/100, loss=6.2282\n",
            "[CBOW] epoch 10/100, loss=6.1770\n",
            "[CBOW] epoch 11/100, loss=6.1200\n",
            "[CBOW] epoch 12/100, loss=6.0503\n",
            "[CBOW] epoch 13/100, loss=5.9769\n",
            "[CBOW] epoch 14/100, loss=5.9112\n",
            "[CBOW] epoch 15/100, loss=5.8455\n",
            "[CBOW] epoch 16/100, loss=5.7706\n",
            "[CBOW] epoch 17/100, loss=5.6801\n",
            "[CBOW] epoch 18/100, loss=5.5726\n",
            "[CBOW] epoch 19/100, loss=5.4547\n",
            "[CBOW] epoch 20/100, loss=5.3351\n",
            "[CBOW] epoch 21/100, loss=5.2168\n",
            "[CBOW] epoch 22/100, loss=5.0975\n",
            "[CBOW] epoch 23/100, loss=4.9761\n",
            "[CBOW] epoch 24/100, loss=4.8537\n",
            "[CBOW] epoch 25/100, loss=4.7313\n",
            "[CBOW] epoch 26/100, loss=4.6082\n",
            "[CBOW] epoch 27/100, loss=4.4845\n",
            "[CBOW] epoch 28/100, loss=4.3602\n",
            "[CBOW] epoch 29/100, loss=4.2356\n",
            "[CBOW] epoch 30/100, loss=4.1107\n",
            "[CBOW] epoch 31/100, loss=3.9857\n",
            "[CBOW] epoch 32/100, loss=3.8609\n",
            "[CBOW] epoch 33/100, loss=3.7366\n",
            "[CBOW] epoch 34/100, loss=3.6129\n",
            "[CBOW] epoch 35/100, loss=3.4899\n",
            "[CBOW] epoch 36/100, loss=3.3675\n",
            "[CBOW] epoch 37/100, loss=3.2459\n",
            "[CBOW] epoch 38/100, loss=3.1248\n",
            "[CBOW] epoch 39/100, loss=3.0044\n",
            "[CBOW] epoch 40/100, loss=2.8847\n",
            "[CBOW] epoch 41/100, loss=2.7660\n",
            "[CBOW] epoch 42/100, loss=2.6486\n",
            "[CBOW] epoch 43/100, loss=2.5327\n",
            "[CBOW] epoch 44/100, loss=2.4188\n",
            "[CBOW] epoch 45/100, loss=2.3073\n",
            "[CBOW] epoch 46/100, loss=2.1987\n",
            "[CBOW] epoch 47/100, loss=2.0931\n",
            "[CBOW] epoch 48/100, loss=1.9910\n",
            "[CBOW] epoch 49/100, loss=1.8926\n",
            "[CBOW] epoch 50/100, loss=1.7982\n",
            "[CBOW] epoch 51/100, loss=1.7080\n",
            "[CBOW] epoch 52/100, loss=1.6224\n",
            "[CBOW] epoch 53/100, loss=1.5413\n",
            "[CBOW] epoch 54/100, loss=1.4651\n",
            "[CBOW] epoch 55/100, loss=1.3935\n",
            "[CBOW] epoch 56/100, loss=1.3267\n",
            "[CBOW] epoch 57/100, loss=1.2646\n",
            "[CBOW] epoch 58/100, loss=1.2072\n",
            "[CBOW] epoch 59/100, loss=1.1542\n",
            "[CBOW] epoch 60/100, loss=1.1058\n",
            "[CBOW] epoch 61/100, loss=1.0616\n",
            "[CBOW] epoch 62/100, loss=1.0215\n",
            "[CBOW] epoch 63/100, loss=0.9853\n",
            "[CBOW] epoch 64/100, loss=0.9528\n",
            "[CBOW] epoch 65/100, loss=0.9237\n",
            "[CBOW] epoch 66/100, loss=0.8979\n",
            "[CBOW] epoch 67/100, loss=0.8753\n",
            "[CBOW] epoch 68/100, loss=0.8554\n",
            "[CBOW] epoch 69/100, loss=0.8382\n",
            "[CBOW] epoch 70/100, loss=0.8232\n",
            "[CBOW] epoch 71/100, loss=0.8108\n",
            "[CBOW] epoch 72/100, loss=0.8035\n",
            "[CBOW] epoch 73/100, loss=0.8174\n",
            "[CBOW] epoch 74/100, loss=0.7980\n",
            "[CBOW] epoch 75/100, loss=0.7956\n",
            "[CBOW] epoch 76/100, loss=0.8109\n",
            "[CBOW] epoch 77/100, loss=0.8133\n",
            "[CBOW] epoch 78/100, loss=0.8025\n",
            "[CBOW] epoch 79/100, loss=0.7992\n",
            "[CBOW] epoch 80/100, loss=0.8116\n",
            "[CBOW] epoch 81/100, loss=0.8901\n",
            "[CBOW] epoch 82/100, loss=0.8972\n",
            "[CBOW] epoch 83/100, loss=0.9095\n",
            "[CBOW] epoch 84/100, loss=0.9569\n",
            "[CBOW] epoch 85/100, loss=0.9656\n",
            "[CBOW] epoch 86/100, loss=0.9825\n",
            "[CBOW] epoch 87/100, loss=1.0047\n",
            "[CBOW] epoch 88/100, loss=1.0313\n",
            "[CBOW] epoch 89/100, loss=1.0779\n",
            "[CBOW] epoch 90/100, loss=1.1941\n",
            "[CBOW] epoch 91/100, loss=1.1998\n",
            "[CBOW] epoch 92/100, loss=1.3905\n",
            "[CBOW] epoch 93/100, loss=1.2362\n",
            "[CBOW] epoch 94/100, loss=1.2239\n",
            "[CBOW] epoch 95/100, loss=1.3131\n",
            "[CBOW] epoch 96/100, loss=1.4664\n",
            "[CBOW] epoch 97/100, loss=1.5816\n",
            "[CBOW] epoch 98/100, loss=1.5561\n",
            "[CBOW] epoch 99/100, loss=1.6590\n",
            "[CBOW] epoch 100/100, loss=1.6891\n"
          ]
        }
      ],
      "source": [
        "# Обучение CBOW (numpy, полный softmax и кросс‑энтропия)\n",
        "# Минимальная реализация для учебных целей — небольшие размеры, несколько эпох\n",
        "\n",
        "def softmax(z):\n",
        "    z = z - np.max(z)\n",
        "    e = np.exp(z)\n",
        "    return e / (np.sum(e) + 1e-12)\n",
        "\n",
        "vocab_size = len(word_to_idx)\n",
        "embed_dim = 30\n",
        "lr = 0.05\n",
        "epochs = 100\n",
        "\n",
        "W_in = 0.01 * np.random.randn(vocab_size, embed_dim).astype(np.float32)\n",
        "W_out = 0.01 * np.random.randn(vocab_size, embed_dim).astype(np.float32)\n",
        "\n",
        "for ep in range(epochs):\n",
        "    total_loss = 0.0\n",
        "    for ctx, center in cbow_pairs:\n",
        "        # Средний вектор контекста\n",
        "        v_c = np.mean(W_in[ctx], axis=0)\n",
        "        # Логиты и вероятности\n",
        "        logits = W_out @ v_c\n",
        "        probs = softmax(logits)\n",
        "        # Потери: -log p(center)\n",
        "        loss = -np.log(probs[center] + 1e-12)\n",
        "        total_loss += loss\n",
        "        \n",
        "        # Градиенты\n",
        "        grad_logits = probs\n",
        "        grad_logits[center] -= 1.0  # p - one_hot\n",
        "        # dL/dW_out = outer(grad_logits, v_c)\n",
        "        W_out -= lr * np.outer(grad_logits, v_c)\n",
        "        # dL/dv_c = W_out^T @ grad_logits\n",
        "        grad_vc = W_out.T @ grad_logits\n",
        "        # Раскидываем по словам контекста (среднее)\n",
        "        grad_each = grad_vc / len(ctx)\n",
        "        for ci in ctx:\n",
        "            W_in[ci] -= lr * grad_each\n",
        "    print(f\"[CBOW] epoch {ep+1}/{epochs}, loss={total_loss/len(cbow_pairs):.4f}\")\n",
        "\n",
        "# Эмбеддинги слов — строки W_in\n",
        "embeddings_cbow = W_in.copy()\n"
      ]
    },
    {
      "cell_type": "code",
      "execution_count": 8,
      "metadata": {},
      "outputs": [
        {
          "name": "stdout",
          "output_type": "stream",
          "text": [
            "[SkipGram] epoch 1/100, loss=6.3969\n",
            "[SkipGram] epoch 2/100, loss=6.3964\n",
            "[SkipGram] epoch 3/100, loss=6.3955\n",
            "[SkipGram] epoch 4/100, loss=6.3930\n",
            "[SkipGram] epoch 5/100, loss=6.3846\n",
            "[SkipGram] epoch 6/100, loss=6.3571\n",
            "[SkipGram] epoch 7/100, loss=6.3183\n",
            "[SkipGram] epoch 8/100, loss=6.2700\n",
            "[SkipGram] epoch 9/100, loss=6.2106\n",
            "[SkipGram] epoch 10/100, loss=6.1304\n",
            "[SkipGram] epoch 11/100, loss=6.0395\n",
            "[SkipGram] epoch 12/100, loss=5.9338\n",
            "[SkipGram] epoch 13/100, loss=5.8067\n",
            "[SkipGram] epoch 14/100, loss=5.6640\n",
            "[SkipGram] epoch 15/100, loss=5.5040\n",
            "[SkipGram] epoch 16/100, loss=5.3315\n",
            "[SkipGram] epoch 17/100, loss=5.1543\n",
            "[SkipGram] epoch 18/100, loss=4.9757\n",
            "[SkipGram] epoch 19/100, loss=4.7993\n",
            "[SkipGram] epoch 20/100, loss=4.6258\n",
            "[SkipGram] epoch 21/100, loss=4.4550\n",
            "[SkipGram] epoch 22/100, loss=4.2884\n",
            "[SkipGram] epoch 23/100, loss=4.1269\n",
            "[SkipGram] epoch 24/100, loss=3.9708\n",
            "[SkipGram] epoch 25/100, loss=3.8238\n",
            "[SkipGram] epoch 26/100, loss=3.6953\n",
            "[SkipGram] epoch 27/100, loss=3.5954\n",
            "[SkipGram] epoch 28/100, loss=3.5302\n",
            "[SkipGram] epoch 29/100, loss=3.5014\n",
            "[SkipGram] epoch 30/100, loss=3.5136\n",
            "[SkipGram] epoch 31/100, loss=3.5706\n",
            "[SkipGram] epoch 32/100, loss=3.6504\n",
            "[SkipGram] epoch 33/100, loss=3.7236\n",
            "[SkipGram] epoch 34/100, loss=3.7555\n",
            "[SkipGram] epoch 35/100, loss=3.7336\n",
            "[SkipGram] epoch 36/100, loss=3.7038\n",
            "[SkipGram] epoch 37/100, loss=3.6795\n",
            "[SkipGram] epoch 38/100, loss=3.6632\n",
            "[SkipGram] epoch 39/100, loss=3.6585\n",
            "[SkipGram] epoch 40/100, loss=3.6654\n",
            "[SkipGram] epoch 41/100, loss=3.6836\n",
            "[SkipGram] epoch 42/100, loss=3.7110\n",
            "[SkipGram] epoch 43/100, loss=3.7388\n",
            "[SkipGram] epoch 44/100, loss=3.7591\n",
            "[SkipGram] epoch 45/100, loss=3.7762\n",
            "[SkipGram] epoch 46/100, loss=3.7941\n",
            "[SkipGram] epoch 47/100, loss=3.8120\n",
            "[SkipGram] epoch 48/100, loss=3.8318\n",
            "[SkipGram] epoch 49/100, loss=3.8587\n",
            "[SkipGram] epoch 50/100, loss=3.8927\n",
            "[SkipGram] epoch 51/100, loss=3.9342\n",
            "[SkipGram] epoch 52/100, loss=3.9837\n",
            "[SkipGram] epoch 53/100, loss=4.0423\n",
            "[SkipGram] epoch 54/100, loss=4.1106\n",
            "[SkipGram] epoch 55/100, loss=4.1877\n",
            "[SkipGram] epoch 56/100, loss=4.2690\n",
            "[SkipGram] epoch 57/100, loss=4.3509\n",
            "[SkipGram] epoch 58/100, loss=4.4355\n",
            "[SkipGram] epoch 59/100, loss=4.5243\n",
            "[SkipGram] epoch 60/100, loss=4.6574\n",
            "[SkipGram] epoch 61/100, loss=4.7647\n",
            "[SkipGram] epoch 62/100, loss=4.8534\n",
            "[SkipGram] epoch 63/100, loss=4.9512\n",
            "[SkipGram] epoch 64/100, loss=5.0647\n",
            "[SkipGram] epoch 65/100, loss=5.1627\n",
            "[SkipGram] epoch 66/100, loss=5.2612\n",
            "[SkipGram] epoch 67/100, loss=5.3742\n",
            "[SkipGram] epoch 68/100, loss=5.5124\n",
            "[SkipGram] epoch 69/100, loss=5.6538\n",
            "[SkipGram] epoch 70/100, loss=5.8027\n",
            "[SkipGram] epoch 71/100, loss=6.0260\n",
            "[SkipGram] epoch 72/100, loss=6.2413\n",
            "[SkipGram] epoch 73/100, loss=6.3642\n",
            "[SkipGram] epoch 74/100, loss=6.6077\n",
            "[SkipGram] epoch 75/100, loss=6.9971\n",
            "[SkipGram] epoch 76/100, loss=7.0461\n",
            "[SkipGram] epoch 77/100, loss=7.5662\n",
            "[SkipGram] epoch 78/100, loss=8.1024\n",
            "[SkipGram] epoch 79/100, loss=9.0580\n",
            "[SkipGram] epoch 80/100, loss=9.2007\n",
            "[SkipGram] epoch 81/100, loss=9.4445\n",
            "[SkipGram] epoch 82/100, loss=9.5918\n",
            "[SkipGram] epoch 83/100, loss=9.8846\n",
            "[SkipGram] epoch 84/100, loss=9.9470\n",
            "[SkipGram] epoch 85/100, loss=10.3023\n",
            "[SkipGram] epoch 86/100, loss=10.9570\n",
            "[SkipGram] epoch 87/100, loss=11.4642\n",
            "[SkipGram] epoch 88/100, loss=11.9005\n",
            "[SkipGram] epoch 89/100, loss=12.6679\n",
            "[SkipGram] epoch 90/100, loss=13.7961\n",
            "[SkipGram] epoch 91/100, loss=14.4399\n",
            "[SkipGram] epoch 92/100, loss=15.4583\n",
            "[SkipGram] epoch 93/100, loss=16.8191\n",
            "[SkipGram] epoch 94/100, loss=17.5560\n",
            "[SkipGram] epoch 95/100, loss=18.4958\n",
            "[SkipGram] epoch 96/100, loss=19.2495\n",
            "[SkipGram] epoch 97/100, loss=19.6597\n",
            "[SkipGram] epoch 98/100, loss=20.0124\n",
            "[SkipGram] epoch 99/100, loss=21.0680\n",
            "[SkipGram] epoch 100/100, loss=21.3260\n"
          ]
        }
      ],
      "source": [
        "# Строим пары для Skip‑Gram: (центр -> каждый контекст)\n",
        "skipgram_pairs = []\n",
        "for s in sentences:\n",
        "    idxs = [word_to_idx[w] for w in s if w in word_to_idx]\n",
        "    for i, center in enumerate(idxs):\n",
        "        left = max(0, i - window)\n",
        "        right = min(len(idxs), i + window + 1)\n",
        "        ctxs = [idxs[j] for j in range(left, right) if j != i]\n",
        "        for y in ctxs:\n",
        "            skipgram_pairs.append((center, y))\n",
        "\n",
        "random.shuffle(skipgram_pairs)\n",
        "skipgram_pairs = skipgram_pairs[:2000]\n",
        "\n",
        "# Обучение Skip‑Gram (numpy, тот же softmax + кросс‑энтропия)\n",
        "W_in_sg = 0.01 * np.random.randn(vocab_size, embed_dim).astype(np.float32)\n",
        "W_out_sg = 0.01 * np.random.randn(vocab_size, embed_dim).astype(np.float32)\n",
        "\n",
        "for ep in range(epochs):\n",
        "    total_loss = 0.0\n",
        "    for center, y in skipgram_pairs:\n",
        "        v_center = W_in_sg[center]\n",
        "        logits = W_out_sg @ v_center\n",
        "        probs = softmax(logits)\n",
        "        loss = -np.log(probs[y] + 1e-12)\n",
        "        total_loss += loss\n",
        "\n",
        "        grad_logits = probs\n",
        "        grad_logits[y] -= 1.0\n",
        "        W_out_sg -= lr * np.outer(grad_logits, v_center)\n",
        "        grad_vc = W_out_sg.T @ grad_logits\n",
        "        W_in_sg[center] -= lr * grad_vc\n",
        "    print(f\"[SkipGram] epoch {ep+1}/{epochs}, loss={total_loss/len(skipgram_pairs):.4f}\")\n",
        "\n",
        "embeddings_sg = W_in_sg.copy()\n"
      ]
    },
    {
      "cell_type": "markdown",
      "metadata": {},
      "source": [
        "### Визуализация словарных эмбеддингов (CBOW и Skip‑Gram)\n",
        "Снизим размерность эмбеддингов до 2D через PCA (на `numpy`) и отобразим слова. Покажем топ‑N частотных слов, чтобы подписи были читабельными.\n"
      ]
    },
    {
      "cell_type": "code",
      "execution_count": 9,
      "metadata": {},
      "outputs": [
        {
          "data": {
            "application/vnd.plotly.v1+json": {
              "config": {
                "plotlyServerURL": "https://plot.ly"
              },
              "data": [
                {
                  "hovertemplate": "x=%{x}<br>y=%{y}<br>text=%{text}<extra></extra>",
                  "legendgroup": "",
                  "marker": {
                    "color": "#636efa",
                    "symbol": "circle"
                  },
                  "mode": "markers+text",
                  "name": "",
                  "orientation": "v",
                  "showlegend": false,
                  "text": [
                    "accident",
                    "airplane",
                    "annihilated",
                    "aftershock",
                    "apocalypse",
                    "ablaze",
                    "all",
                    "ambulance",
                    "annihilation",
                    "iran",
                    "like",
                    "when",
                    "set",
                    "who",
                    "shot",
                    "how",
                    "people",
                    "armageddon",
                    "after",
                    "one",
                    "what",
                    "puerto",
                    "trump",
                    "another",
                    "army",
                    "there",
                    "rico",
                    "now",
                    "jesus",
                    "amp",
                    "hit",
                    "iranian",
                    "shooting",
                    "want",
                    "know",
                    "where",
                    "say",
                    "think",
                    "some",
                    "military",
                    "new",
                    "during",
                    "magnitude",
                    "only",
                    "see",
                    "two",
                    "good",
                    "more",
                    "look",
                    "day",
                    "ukrainian",
                    "much",
                    "houses",
                    "which",
                    "don",
                    "back",
                    "air",
                    "get",
                    "saw",
                    "kyma",
                    "why",
                    "really",
                    "time",
                    "also",
                    "most",
                    "state",
                    "night",
                    "today",
                    "still",
                    "through",
                    "world",
                    "name",
                    "right",
                    "long",
                    "way",
                    "earthquake",
                    "thinking",
                    "never",
                    "missile",
                    "commercial",
                    "surface",
                    "innocent",
                    "any",
                    "makes",
                    "zombie",
                    "riding",
                    "golden",
                    "horse",
                    "love",
                    "caused",
                    "man",
                    "here",
                    "fire",
                    "hospital",
                    "days",
                    "please",
                    "even",
                    "call",
                    "home",
                    "need",
                    "ukraine",
                    "killed",
                    "other",
                    "puertorico",
                    "going",
                    "team",
                    "high",
                    "anyone",
                    "part",
                    "music",
                    "alongside",
                    "bts",
                    "media",
                    "made",
                    "cameroon",
                    "office",
                    "incident",
                    "thing",
                    "whole",
                    "system"
                  ],
                  "textposition": "top center",
                  "type": "scatter",
                  "x": {
                    "bdata": "kcfqwSTEpcLjrxxA+XwsQM/0zUAIN6xAfcU/QIN3F8AWL+2/nGfzwKdG0j8BRVLAcAPRQJrcpL/T95vBsrq2PnYhOr+n9WhAUa3XP+g2O8BgHLS+G8RXP2cjXsCYKsY+YyH5P7KdB0BmZyJAVev7P/JnD7+yqVVAGQcwP8Pfn8DG5krBa/kXP2Gi1r6gMmE/CJfkP9YPVz9I0ek/VFRMwFBVVT85oNk/a6QnQFKChkAei0K/Nj0nv5o/UL9yliI/XeW5P189cb+e0wTBHh2xvt5EzD/DlKK/amoIQGnfdT94k46+vufMPqUt3r9mZEW/CuxEwJFQY7++/ww/mXojP/dFUUBWavg/MvsCv0WgiD8aVp+/UtmZP8pckj/YJ08+G1x8v1Za4b1YAic/XC6xP/xmvr6WaB++wKjwvzq0f8D7gjfAk4CewP8i0byyCag/5d/4Pz95nL/fYEO/bAHRPyyJsj8hMdY/Yr7xPpIywr89y9s+zgZWPsV9yL+GCZY+nhvRvxMsoT/Pw4K/jYRyPrVJ2b94U9i/joBfv9BYMb8UvQhATGbXP7BZkj/9sgHA4gHxPzT64D+WABxA94/GPzYdOz+yHkQ/CHYyP6V/BEAVivi/OdoUvWvTQD+G3y6+",
                    "dtype": "f4"
                  },
                  "xaxis": "x",
                  "y": {
                    "bdata": "8O/2QdhcFsFpGFE/1skIQVJGlUGWIkxAuTAyP5m/B0C7/rg/ROPxPirhNUB5572/EMRpwH1NgMBuGDbAZbsDwMsHg0AyNpE/7Y7Nv80ffkB6vwJAinEFvwTqKcB/JIO/XZcZvsqT3z/9Bh89THg0QHKP0D4di9e/gVP0vgztIr+umF1A0occQFFoPr7W350//uoIwEEY1z5gLYC/tTvZPzQfDb+Lkdm/gyqmvwZtUUD/+dC+9QAkPx1b/L8lE1LAU6MYwO1GjD7e0l5AHtL2P22j5LyoBCs/OM+/v5L7dT6l+Lq//zmNP10Xhz5AMae/O7QWwBj84r4BJMC+wmHlPwrOH8DIJMS+f4MDQOUhi7+XLDE/UcUaQPpxBT9BS7U+ztN4v/iVFD8KplpAgv3sPm+rDT/QOrm/UlOCP9zpV0DPUEM/ZGpWvx0S5L6fbUs+OWOBQOkfCT7NFOI/2DyTv9bj2j8JH/S/zkEBv705Vr+p521A088Jv6JLmb+fBM2+P/QbP7TB/79lYw++1nmHP9IzXD/kJY4/JKDMv0CdA0C90FE/AiIVvzQqIT/gpT2/2Z2Bv+OuYD+GFWi/+oEQQMbx2D1lNPQ+q22sPkKOTj8zFoq/f6Q/v192cD/w8aG+",
                    "dtype": "f4"
                  },
                  "yaxis": "y"
                }
              ],
              "layout": {
                "legend": {
                  "tracegroupgap": 0
                },
                "template": {
                  "data": {
                    "bar": [
                      {
                        "error_x": {
                          "color": "#2a3f5f"
                        },
                        "error_y": {
                          "color": "#2a3f5f"
                        },
                        "marker": {
                          "line": {
                            "color": "#E5ECF6",
                            "width": 0.5
                          },
                          "pattern": {
                            "fillmode": "overlay",
                            "size": 10,
                            "solidity": 0.2
                          }
                        },
                        "type": "bar"
                      }
                    ],
                    "barpolar": [
                      {
                        "marker": {
                          "line": {
                            "color": "#E5ECF6",
                            "width": 0.5
                          },
                          "pattern": {
                            "fillmode": "overlay",
                            "size": 10,
                            "solidity": 0.2
                          }
                        },
                        "type": "barpolar"
                      }
                    ],
                    "carpet": [
                      {
                        "aaxis": {
                          "endlinecolor": "#2a3f5f",
                          "gridcolor": "white",
                          "linecolor": "white",
                          "minorgridcolor": "white",
                          "startlinecolor": "#2a3f5f"
                        },
                        "baxis": {
                          "endlinecolor": "#2a3f5f",
                          "gridcolor": "white",
                          "linecolor": "white",
                          "minorgridcolor": "white",
                          "startlinecolor": "#2a3f5f"
                        },
                        "type": "carpet"
                      }
                    ],
                    "choropleth": [
                      {
                        "colorbar": {
                          "outlinewidth": 0,
                          "ticks": ""
                        },
                        "type": "choropleth"
                      }
                    ],
                    "contour": [
                      {
                        "colorbar": {
                          "outlinewidth": 0,
                          "ticks": ""
                        },
                        "colorscale": [
                          [
                            0,
                            "#0d0887"
                          ],
                          [
                            0.1111111111111111,
                            "#46039f"
                          ],
                          [
                            0.2222222222222222,
                            "#7201a8"
                          ],
                          [
                            0.3333333333333333,
                            "#9c179e"
                          ],
                          [
                            0.4444444444444444,
                            "#bd3786"
                          ],
                          [
                            0.5555555555555556,
                            "#d8576b"
                          ],
                          [
                            0.6666666666666666,
                            "#ed7953"
                          ],
                          [
                            0.7777777777777778,
                            "#fb9f3a"
                          ],
                          [
                            0.8888888888888888,
                            "#fdca26"
                          ],
                          [
                            1,
                            "#f0f921"
                          ]
                        ],
                        "type": "contour"
                      }
                    ],
                    "contourcarpet": [
                      {
                        "colorbar": {
                          "outlinewidth": 0,
                          "ticks": ""
                        },
                        "type": "contourcarpet"
                      }
                    ],
                    "heatmap": [
                      {
                        "colorbar": {
                          "outlinewidth": 0,
                          "ticks": ""
                        },
                        "colorscale": [
                          [
                            0,
                            "#0d0887"
                          ],
                          [
                            0.1111111111111111,
                            "#46039f"
                          ],
                          [
                            0.2222222222222222,
                            "#7201a8"
                          ],
                          [
                            0.3333333333333333,
                            "#9c179e"
                          ],
                          [
                            0.4444444444444444,
                            "#bd3786"
                          ],
                          [
                            0.5555555555555556,
                            "#d8576b"
                          ],
                          [
                            0.6666666666666666,
                            "#ed7953"
                          ],
                          [
                            0.7777777777777778,
                            "#fb9f3a"
                          ],
                          [
                            0.8888888888888888,
                            "#fdca26"
                          ],
                          [
                            1,
                            "#f0f921"
                          ]
                        ],
                        "type": "heatmap"
                      }
                    ],
                    "histogram": [
                      {
                        "marker": {
                          "pattern": {
                            "fillmode": "overlay",
                            "size": 10,
                            "solidity": 0.2
                          }
                        },
                        "type": "histogram"
                      }
                    ],
                    "histogram2d": [
                      {
                        "colorbar": {
                          "outlinewidth": 0,
                          "ticks": ""
                        },
                        "colorscale": [
                          [
                            0,
                            "#0d0887"
                          ],
                          [
                            0.1111111111111111,
                            "#46039f"
                          ],
                          [
                            0.2222222222222222,
                            "#7201a8"
                          ],
                          [
                            0.3333333333333333,
                            "#9c179e"
                          ],
                          [
                            0.4444444444444444,
                            "#bd3786"
                          ],
                          [
                            0.5555555555555556,
                            "#d8576b"
                          ],
                          [
                            0.6666666666666666,
                            "#ed7953"
                          ],
                          [
                            0.7777777777777778,
                            "#fb9f3a"
                          ],
                          [
                            0.8888888888888888,
                            "#fdca26"
                          ],
                          [
                            1,
                            "#f0f921"
                          ]
                        ],
                        "type": "histogram2d"
                      }
                    ],
                    "histogram2dcontour": [
                      {
                        "colorbar": {
                          "outlinewidth": 0,
                          "ticks": ""
                        },
                        "colorscale": [
                          [
                            0,
                            "#0d0887"
                          ],
                          [
                            0.1111111111111111,
                            "#46039f"
                          ],
                          [
                            0.2222222222222222,
                            "#7201a8"
                          ],
                          [
                            0.3333333333333333,
                            "#9c179e"
                          ],
                          [
                            0.4444444444444444,
                            "#bd3786"
                          ],
                          [
                            0.5555555555555556,
                            "#d8576b"
                          ],
                          [
                            0.6666666666666666,
                            "#ed7953"
                          ],
                          [
                            0.7777777777777778,
                            "#fb9f3a"
                          ],
                          [
                            0.8888888888888888,
                            "#fdca26"
                          ],
                          [
                            1,
                            "#f0f921"
                          ]
                        ],
                        "type": "histogram2dcontour"
                      }
                    ],
                    "mesh3d": [
                      {
                        "colorbar": {
                          "outlinewidth": 0,
                          "ticks": ""
                        },
                        "type": "mesh3d"
                      }
                    ],
                    "parcoords": [
                      {
                        "line": {
                          "colorbar": {
                            "outlinewidth": 0,
                            "ticks": ""
                          }
                        },
                        "type": "parcoords"
                      }
                    ],
                    "pie": [
                      {
                        "automargin": true,
                        "type": "pie"
                      }
                    ],
                    "scatter": [
                      {
                        "fillpattern": {
                          "fillmode": "overlay",
                          "size": 10,
                          "solidity": 0.2
                        },
                        "type": "scatter"
                      }
                    ],
                    "scatter3d": [
                      {
                        "line": {
                          "colorbar": {
                            "outlinewidth": 0,
                            "ticks": ""
                          }
                        },
                        "marker": {
                          "colorbar": {
                            "outlinewidth": 0,
                            "ticks": ""
                          }
                        },
                        "type": "scatter3d"
                      }
                    ],
                    "scattercarpet": [
                      {
                        "marker": {
                          "colorbar": {
                            "outlinewidth": 0,
                            "ticks": ""
                          }
                        },
                        "type": "scattercarpet"
                      }
                    ],
                    "scattergeo": [
                      {
                        "marker": {
                          "colorbar": {
                            "outlinewidth": 0,
                            "ticks": ""
                          }
                        },
                        "type": "scattergeo"
                      }
                    ],
                    "scattergl": [
                      {
                        "marker": {
                          "colorbar": {
                            "outlinewidth": 0,
                            "ticks": ""
                          }
                        },
                        "type": "scattergl"
                      }
                    ],
                    "scattermap": [
                      {
                        "marker": {
                          "colorbar": {
                            "outlinewidth": 0,
                            "ticks": ""
                          }
                        },
                        "type": "scattermap"
                      }
                    ],
                    "scattermapbox": [
                      {
                        "marker": {
                          "colorbar": {
                            "outlinewidth": 0,
                            "ticks": ""
                          }
                        },
                        "type": "scattermapbox"
                      }
                    ],
                    "scatterpolar": [
                      {
                        "marker": {
                          "colorbar": {
                            "outlinewidth": 0,
                            "ticks": ""
                          }
                        },
                        "type": "scatterpolar"
                      }
                    ],
                    "scatterpolargl": [
                      {
                        "marker": {
                          "colorbar": {
                            "outlinewidth": 0,
                            "ticks": ""
                          }
                        },
                        "type": "scatterpolargl"
                      }
                    ],
                    "scatterternary": [
                      {
                        "marker": {
                          "colorbar": {
                            "outlinewidth": 0,
                            "ticks": ""
                          }
                        },
                        "type": "scatterternary"
                      }
                    ],
                    "surface": [
                      {
                        "colorbar": {
                          "outlinewidth": 0,
                          "ticks": ""
                        },
                        "colorscale": [
                          [
                            0,
                            "#0d0887"
                          ],
                          [
                            0.1111111111111111,
                            "#46039f"
                          ],
                          [
                            0.2222222222222222,
                            "#7201a8"
                          ],
                          [
                            0.3333333333333333,
                            "#9c179e"
                          ],
                          [
                            0.4444444444444444,
                            "#bd3786"
                          ],
                          [
                            0.5555555555555556,
                            "#d8576b"
                          ],
                          [
                            0.6666666666666666,
                            "#ed7953"
                          ],
                          [
                            0.7777777777777778,
                            "#fb9f3a"
                          ],
                          [
                            0.8888888888888888,
                            "#fdca26"
                          ],
                          [
                            1,
                            "#f0f921"
                          ]
                        ],
                        "type": "surface"
                      }
                    ],
                    "table": [
                      {
                        "cells": {
                          "fill": {
                            "color": "#EBF0F8"
                          },
                          "line": {
                            "color": "white"
                          }
                        },
                        "header": {
                          "fill": {
                            "color": "#C8D4E3"
                          },
                          "line": {
                            "color": "white"
                          }
                        },
                        "type": "table"
                      }
                    ]
                  },
                  "layout": {
                    "annotationdefaults": {
                      "arrowcolor": "#2a3f5f",
                      "arrowhead": 0,
                      "arrowwidth": 1
                    },
                    "autotypenumbers": "strict",
                    "coloraxis": {
                      "colorbar": {
                        "outlinewidth": 0,
                        "ticks": ""
                      }
                    },
                    "colorscale": {
                      "diverging": [
                        [
                          0,
                          "#8e0152"
                        ],
                        [
                          0.1,
                          "#c51b7d"
                        ],
                        [
                          0.2,
                          "#de77ae"
                        ],
                        [
                          0.3,
                          "#f1b6da"
                        ],
                        [
                          0.4,
                          "#fde0ef"
                        ],
                        [
                          0.5,
                          "#f7f7f7"
                        ],
                        [
                          0.6,
                          "#e6f5d0"
                        ],
                        [
                          0.7,
                          "#b8e186"
                        ],
                        [
                          0.8,
                          "#7fbc41"
                        ],
                        [
                          0.9,
                          "#4d9221"
                        ],
                        [
                          1,
                          "#276419"
                        ]
                      ],
                      "sequential": [
                        [
                          0,
                          "#0d0887"
                        ],
                        [
                          0.1111111111111111,
                          "#46039f"
                        ],
                        [
                          0.2222222222222222,
                          "#7201a8"
                        ],
                        [
                          0.3333333333333333,
                          "#9c179e"
                        ],
                        [
                          0.4444444444444444,
                          "#bd3786"
                        ],
                        [
                          0.5555555555555556,
                          "#d8576b"
                        ],
                        [
                          0.6666666666666666,
                          "#ed7953"
                        ],
                        [
                          0.7777777777777778,
                          "#fb9f3a"
                        ],
                        [
                          0.8888888888888888,
                          "#fdca26"
                        ],
                        [
                          1,
                          "#f0f921"
                        ]
                      ],
                      "sequentialminus": [
                        [
                          0,
                          "#0d0887"
                        ],
                        [
                          0.1111111111111111,
                          "#46039f"
                        ],
                        [
                          0.2222222222222222,
                          "#7201a8"
                        ],
                        [
                          0.3333333333333333,
                          "#9c179e"
                        ],
                        [
                          0.4444444444444444,
                          "#bd3786"
                        ],
                        [
                          0.5555555555555556,
                          "#d8576b"
                        ],
                        [
                          0.6666666666666666,
                          "#ed7953"
                        ],
                        [
                          0.7777777777777778,
                          "#fb9f3a"
                        ],
                        [
                          0.8888888888888888,
                          "#fdca26"
                        ],
                        [
                          1,
                          "#f0f921"
                        ]
                      ]
                    },
                    "colorway": [
                      "#636efa",
                      "#EF553B",
                      "#00cc96",
                      "#ab63fa",
                      "#FFA15A",
                      "#19d3f3",
                      "#FF6692",
                      "#B6E880",
                      "#FF97FF",
                      "#FECB52"
                    ],
                    "font": {
                      "color": "#2a3f5f"
                    },
                    "geo": {
                      "bgcolor": "white",
                      "lakecolor": "white",
                      "landcolor": "#E5ECF6",
                      "showlakes": true,
                      "showland": true,
                      "subunitcolor": "white"
                    },
                    "hoverlabel": {
                      "align": "left"
                    },
                    "hovermode": "closest",
                    "mapbox": {
                      "style": "light"
                    },
                    "paper_bgcolor": "white",
                    "plot_bgcolor": "#E5ECF6",
                    "polar": {
                      "angularaxis": {
                        "gridcolor": "white",
                        "linecolor": "white",
                        "ticks": ""
                      },
                      "bgcolor": "#E5ECF6",
                      "radialaxis": {
                        "gridcolor": "white",
                        "linecolor": "white",
                        "ticks": ""
                      }
                    },
                    "scene": {
                      "xaxis": {
                        "backgroundcolor": "#E5ECF6",
                        "gridcolor": "white",
                        "gridwidth": 2,
                        "linecolor": "white",
                        "showbackground": true,
                        "ticks": "",
                        "zerolinecolor": "white"
                      },
                      "yaxis": {
                        "backgroundcolor": "#E5ECF6",
                        "gridcolor": "white",
                        "gridwidth": 2,
                        "linecolor": "white",
                        "showbackground": true,
                        "ticks": "",
                        "zerolinecolor": "white"
                      },
                      "zaxis": {
                        "backgroundcolor": "#E5ECF6",
                        "gridcolor": "white",
                        "gridwidth": 2,
                        "linecolor": "white",
                        "showbackground": true,
                        "ticks": "",
                        "zerolinecolor": "white"
                      }
                    },
                    "shapedefaults": {
                      "line": {
                        "color": "#2a3f5f"
                      }
                    },
                    "ternary": {
                      "aaxis": {
                        "gridcolor": "white",
                        "linecolor": "white",
                        "ticks": ""
                      },
                      "baxis": {
                        "gridcolor": "white",
                        "linecolor": "white",
                        "ticks": ""
                      },
                      "bgcolor": "#E5ECF6",
                      "caxis": {
                        "gridcolor": "white",
                        "linecolor": "white",
                        "ticks": ""
                      }
                    },
                    "title": {
                      "x": 0.05
                    },
                    "xaxis": {
                      "automargin": true,
                      "gridcolor": "white",
                      "linecolor": "white",
                      "ticks": "",
                      "title": {
                        "standoff": 15
                      },
                      "zerolinecolor": "white",
                      "zerolinewidth": 2
                    },
                    "yaxis": {
                      "automargin": true,
                      "gridcolor": "white",
                      "linecolor": "white",
                      "ticks": "",
                      "title": {
                        "standoff": 15
                      },
                      "zerolinecolor": "white",
                      "zerolinewidth": 2
                    }
                  }
                },
                "title": {
                  "text": "Слова в пространстве эмбеддингов (CBOW)"
                },
                "xaxis": {
                  "anchor": "y",
                  "domain": [
                    0,
                    1
                  ],
                  "title": {
                    "text": "x"
                  }
                },
                "yaxis": {
                  "anchor": "x",
                  "domain": [
                    0,
                    1
                  ],
                  "title": {
                    "text": "y"
                  }
                }
              }
            }
          },
          "metadata": {},
          "output_type": "display_data"
        },
        {
          "data": {
            "application/vnd.plotly.v1+json": {
              "config": {
                "plotlyServerURL": "https://plot.ly"
              },
              "data": [
                {
                  "hovertemplate": "x=%{x}<br>y=%{y}<br>text=%{text}<extra></extra>",
                  "legendgroup": "",
                  "marker": {
                    "color": "#636efa",
                    "symbol": "circle"
                  },
                  "mode": "markers+text",
                  "name": "",
                  "orientation": "v",
                  "showlegend": false,
                  "text": [
                    "accident",
                    "airplane",
                    "annihilated",
                    "aftershock",
                    "apocalypse",
                    "ablaze",
                    "all",
                    "ambulance",
                    "annihilation",
                    "iran",
                    "like",
                    "when",
                    "set",
                    "who",
                    "shot",
                    "how",
                    "people",
                    "armageddon",
                    "after",
                    "one",
                    "what",
                    "puerto",
                    "trump",
                    "another",
                    "army",
                    "there",
                    "rico",
                    "now",
                    "jesus",
                    "amp",
                    "hit",
                    "iranian",
                    "shooting",
                    "want",
                    "know",
                    "where",
                    "say",
                    "think",
                    "some",
                    "military",
                    "new",
                    "during",
                    "magnitude",
                    "only",
                    "see",
                    "two",
                    "good",
                    "more",
                    "look",
                    "day",
                    "ukrainian",
                    "much",
                    "houses",
                    "which",
                    "don",
                    "back",
                    "air",
                    "get",
                    "saw",
                    "kyma",
                    "why",
                    "really",
                    "time",
                    "also",
                    "most",
                    "state",
                    "night",
                    "today",
                    "still",
                    "through",
                    "world",
                    "name",
                    "right",
                    "long",
                    "way",
                    "earthquake",
                    "thinking",
                    "never",
                    "missile",
                    "commercial",
                    "surface",
                    "innocent",
                    "any",
                    "makes",
                    "zombie",
                    "riding",
                    "golden",
                    "horse",
                    "love",
                    "caused",
                    "man",
                    "here",
                    "fire",
                    "hospital",
                    "days",
                    "please",
                    "even",
                    "call",
                    "home",
                    "need",
                    "ukraine",
                    "killed",
                    "other",
                    "puertorico",
                    "going",
                    "team",
                    "high",
                    "anyone",
                    "part",
                    "music",
                    "alongside",
                    "bts",
                    "media",
                    "made",
                    "cameroon",
                    "office",
                    "incident",
                    "thing",
                    "whole",
                    "system"
                  ],
                  "textposition": "top center",
                  "type": "scatter",
                  "x": {
                    "bdata": "M7y1xl1CrMc+YJtDlw0eQ+TlIUMWfzlDiEt5Q3uGU0ODWU5Dj60kQ9WdJkPoAx9DUrokQ+O6LEO7Mx1DYAsfQ6KbQkNh1n5D5skrQ5oJH0MoeytDt/4dQ+eQTEOM2SBDowW7QzotfkMOa61De+ggQ2vTUkObDzBDatU4Q72EKUN4zzNDn4sfQ/JSHUPrJB1DlmiHQ2x1I0Ov205DirEfQ6MKfUPhBTdDi3B7Q8RISkPEVWJDUsgnQ9T8XEOY2yFDVC8cQ0J4QENHYB5D//VMQ7uLfkPsUqND6LJuQ4ieHUMQMh5DyWg8Q9ZYJ0MrpBxDHBMdQ8hQIENuCiRDCOggQ3RPAkOhzIZDOciHQ4djW0MifqdDlJixQzgMLUOcUTNDKn2kQ/OoV0M0cXVDI00oQ4P5MEN6nRxDOeQfQ1rPMkPD+yVDgdgqQ0b5HkNVZB1DQxgdQ933TEMsVDVDXKkkQ82vZUNbBR1DG+ArQ2mIUkPHG3ZDIuA4Q9leTkMDDipDxR0eQ6fAPkP1O6tDZsYcQwr2S0MBCjxDU6emQ1tcM0MGtDxDL+YoQ1DHHEMmPmlDS2VSQwbecENIO1dD5gEuQ5wmWEOJF1JDvJc+Q0f0NkMpEB5DKOgrQ8XbHEMRziBD",
                    "dtype": "f4"
                  },
                  "xaxis": "x",
                  "y": {
                    "bdata": "ZoAxx3dYPEYcWBtDtlxYQj6vakJZr6pCnc27Qh9+sEIZIQ5DGWxHQh08YEJNR01CThpxQqyQSUJcFU5C0RtQQtjvQ0Lq2yZCLf+gQsosVUIPWE9CoZZdQtBdDkPmvm5CIBzNQUcpCkL5H8dBpxFRQmH9E0OWRo9C29ZDQnq+i0ItwLxC+qNPQvV6UEL7009Cd30PQtE1fEK4ThBDpThqQhE1LULmO8dC6UYeQtRzNkJMxA5CIr+TQoziPkLm2khCE0VNQgVQPkKelVNCobA1QqCzE0KDO9dBLWkaQppUTEJtM1FCNFc4QvEDSkKw/01C83RLQgBRRUKS24VCXxl2Ql9qIsJr/w5CF5UWQjanHUJ/DO9BQXykQbsQp0LQ60JCE3nyQZ8WMEKuziVCLDVIQnSktELIsktCZyBLQvsNvEIBD1FCmNZPQm5BU0IQIExCzUFMQtaE9EI5IL5CgaREQmdUKELHHEtCdPBBQt6nWUIWchVCgdFDQhwsOUImFJdCVFlQQsWDN0LQ59dBcKVTQuDUCEPRlC9CH+3bQUI3tUIZLTVCjPCJQn7xTUK3FCtCQkksQluhE0JdUj5CxoBIQupbK0LW/0RCV1gwQn+tx0IRO05CXGZOQmb1SkLEPlBC",
                    "dtype": "f4"
                  },
                  "yaxis": "y"
                }
              ],
              "layout": {
                "legend": {
                  "tracegroupgap": 0
                },
                "template": {
                  "data": {
                    "bar": [
                      {
                        "error_x": {
                          "color": "#2a3f5f"
                        },
                        "error_y": {
                          "color": "#2a3f5f"
                        },
                        "marker": {
                          "line": {
                            "color": "#E5ECF6",
                            "width": 0.5
                          },
                          "pattern": {
                            "fillmode": "overlay",
                            "size": 10,
                            "solidity": 0.2
                          }
                        },
                        "type": "bar"
                      }
                    ],
                    "barpolar": [
                      {
                        "marker": {
                          "line": {
                            "color": "#E5ECF6",
                            "width": 0.5
                          },
                          "pattern": {
                            "fillmode": "overlay",
                            "size": 10,
                            "solidity": 0.2
                          }
                        },
                        "type": "barpolar"
                      }
                    ],
                    "carpet": [
                      {
                        "aaxis": {
                          "endlinecolor": "#2a3f5f",
                          "gridcolor": "white",
                          "linecolor": "white",
                          "minorgridcolor": "white",
                          "startlinecolor": "#2a3f5f"
                        },
                        "baxis": {
                          "endlinecolor": "#2a3f5f",
                          "gridcolor": "white",
                          "linecolor": "white",
                          "minorgridcolor": "white",
                          "startlinecolor": "#2a3f5f"
                        },
                        "type": "carpet"
                      }
                    ],
                    "choropleth": [
                      {
                        "colorbar": {
                          "outlinewidth": 0,
                          "ticks": ""
                        },
                        "type": "choropleth"
                      }
                    ],
                    "contour": [
                      {
                        "colorbar": {
                          "outlinewidth": 0,
                          "ticks": ""
                        },
                        "colorscale": [
                          [
                            0,
                            "#0d0887"
                          ],
                          [
                            0.1111111111111111,
                            "#46039f"
                          ],
                          [
                            0.2222222222222222,
                            "#7201a8"
                          ],
                          [
                            0.3333333333333333,
                            "#9c179e"
                          ],
                          [
                            0.4444444444444444,
                            "#bd3786"
                          ],
                          [
                            0.5555555555555556,
                            "#d8576b"
                          ],
                          [
                            0.6666666666666666,
                            "#ed7953"
                          ],
                          [
                            0.7777777777777778,
                            "#fb9f3a"
                          ],
                          [
                            0.8888888888888888,
                            "#fdca26"
                          ],
                          [
                            1,
                            "#f0f921"
                          ]
                        ],
                        "type": "contour"
                      }
                    ],
                    "contourcarpet": [
                      {
                        "colorbar": {
                          "outlinewidth": 0,
                          "ticks": ""
                        },
                        "type": "contourcarpet"
                      }
                    ],
                    "heatmap": [
                      {
                        "colorbar": {
                          "outlinewidth": 0,
                          "ticks": ""
                        },
                        "colorscale": [
                          [
                            0,
                            "#0d0887"
                          ],
                          [
                            0.1111111111111111,
                            "#46039f"
                          ],
                          [
                            0.2222222222222222,
                            "#7201a8"
                          ],
                          [
                            0.3333333333333333,
                            "#9c179e"
                          ],
                          [
                            0.4444444444444444,
                            "#bd3786"
                          ],
                          [
                            0.5555555555555556,
                            "#d8576b"
                          ],
                          [
                            0.6666666666666666,
                            "#ed7953"
                          ],
                          [
                            0.7777777777777778,
                            "#fb9f3a"
                          ],
                          [
                            0.8888888888888888,
                            "#fdca26"
                          ],
                          [
                            1,
                            "#f0f921"
                          ]
                        ],
                        "type": "heatmap"
                      }
                    ],
                    "histogram": [
                      {
                        "marker": {
                          "pattern": {
                            "fillmode": "overlay",
                            "size": 10,
                            "solidity": 0.2
                          }
                        },
                        "type": "histogram"
                      }
                    ],
                    "histogram2d": [
                      {
                        "colorbar": {
                          "outlinewidth": 0,
                          "ticks": ""
                        },
                        "colorscale": [
                          [
                            0,
                            "#0d0887"
                          ],
                          [
                            0.1111111111111111,
                            "#46039f"
                          ],
                          [
                            0.2222222222222222,
                            "#7201a8"
                          ],
                          [
                            0.3333333333333333,
                            "#9c179e"
                          ],
                          [
                            0.4444444444444444,
                            "#bd3786"
                          ],
                          [
                            0.5555555555555556,
                            "#d8576b"
                          ],
                          [
                            0.6666666666666666,
                            "#ed7953"
                          ],
                          [
                            0.7777777777777778,
                            "#fb9f3a"
                          ],
                          [
                            0.8888888888888888,
                            "#fdca26"
                          ],
                          [
                            1,
                            "#f0f921"
                          ]
                        ],
                        "type": "histogram2d"
                      }
                    ],
                    "histogram2dcontour": [
                      {
                        "colorbar": {
                          "outlinewidth": 0,
                          "ticks": ""
                        },
                        "colorscale": [
                          [
                            0,
                            "#0d0887"
                          ],
                          [
                            0.1111111111111111,
                            "#46039f"
                          ],
                          [
                            0.2222222222222222,
                            "#7201a8"
                          ],
                          [
                            0.3333333333333333,
                            "#9c179e"
                          ],
                          [
                            0.4444444444444444,
                            "#bd3786"
                          ],
                          [
                            0.5555555555555556,
                            "#d8576b"
                          ],
                          [
                            0.6666666666666666,
                            "#ed7953"
                          ],
                          [
                            0.7777777777777778,
                            "#fb9f3a"
                          ],
                          [
                            0.8888888888888888,
                            "#fdca26"
                          ],
                          [
                            1,
                            "#f0f921"
                          ]
                        ],
                        "type": "histogram2dcontour"
                      }
                    ],
                    "mesh3d": [
                      {
                        "colorbar": {
                          "outlinewidth": 0,
                          "ticks": ""
                        },
                        "type": "mesh3d"
                      }
                    ],
                    "parcoords": [
                      {
                        "line": {
                          "colorbar": {
                            "outlinewidth": 0,
                            "ticks": ""
                          }
                        },
                        "type": "parcoords"
                      }
                    ],
                    "pie": [
                      {
                        "automargin": true,
                        "type": "pie"
                      }
                    ],
                    "scatter": [
                      {
                        "fillpattern": {
                          "fillmode": "overlay",
                          "size": 10,
                          "solidity": 0.2
                        },
                        "type": "scatter"
                      }
                    ],
                    "scatter3d": [
                      {
                        "line": {
                          "colorbar": {
                            "outlinewidth": 0,
                            "ticks": ""
                          }
                        },
                        "marker": {
                          "colorbar": {
                            "outlinewidth": 0,
                            "ticks": ""
                          }
                        },
                        "type": "scatter3d"
                      }
                    ],
                    "scattercarpet": [
                      {
                        "marker": {
                          "colorbar": {
                            "outlinewidth": 0,
                            "ticks": ""
                          }
                        },
                        "type": "scattercarpet"
                      }
                    ],
                    "scattergeo": [
                      {
                        "marker": {
                          "colorbar": {
                            "outlinewidth": 0,
                            "ticks": ""
                          }
                        },
                        "type": "scattergeo"
                      }
                    ],
                    "scattergl": [
                      {
                        "marker": {
                          "colorbar": {
                            "outlinewidth": 0,
                            "ticks": ""
                          }
                        },
                        "type": "scattergl"
                      }
                    ],
                    "scattermap": [
                      {
                        "marker": {
                          "colorbar": {
                            "outlinewidth": 0,
                            "ticks": ""
                          }
                        },
                        "type": "scattermap"
                      }
                    ],
                    "scattermapbox": [
                      {
                        "marker": {
                          "colorbar": {
                            "outlinewidth": 0,
                            "ticks": ""
                          }
                        },
                        "type": "scattermapbox"
                      }
                    ],
                    "scatterpolar": [
                      {
                        "marker": {
                          "colorbar": {
                            "outlinewidth": 0,
                            "ticks": ""
                          }
                        },
                        "type": "scatterpolar"
                      }
                    ],
                    "scatterpolargl": [
                      {
                        "marker": {
                          "colorbar": {
                            "outlinewidth": 0,
                            "ticks": ""
                          }
                        },
                        "type": "scatterpolargl"
                      }
                    ],
                    "scatterternary": [
                      {
                        "marker": {
                          "colorbar": {
                            "outlinewidth": 0,
                            "ticks": ""
                          }
                        },
                        "type": "scatterternary"
                      }
                    ],
                    "surface": [
                      {
                        "colorbar": {
                          "outlinewidth": 0,
                          "ticks": ""
                        },
                        "colorscale": [
                          [
                            0,
                            "#0d0887"
                          ],
                          [
                            0.1111111111111111,
                            "#46039f"
                          ],
                          [
                            0.2222222222222222,
                            "#7201a8"
                          ],
                          [
                            0.3333333333333333,
                            "#9c179e"
                          ],
                          [
                            0.4444444444444444,
                            "#bd3786"
                          ],
                          [
                            0.5555555555555556,
                            "#d8576b"
                          ],
                          [
                            0.6666666666666666,
                            "#ed7953"
                          ],
                          [
                            0.7777777777777778,
                            "#fb9f3a"
                          ],
                          [
                            0.8888888888888888,
                            "#fdca26"
                          ],
                          [
                            1,
                            "#f0f921"
                          ]
                        ],
                        "type": "surface"
                      }
                    ],
                    "table": [
                      {
                        "cells": {
                          "fill": {
                            "color": "#EBF0F8"
                          },
                          "line": {
                            "color": "white"
                          }
                        },
                        "header": {
                          "fill": {
                            "color": "#C8D4E3"
                          },
                          "line": {
                            "color": "white"
                          }
                        },
                        "type": "table"
                      }
                    ]
                  },
                  "layout": {
                    "annotationdefaults": {
                      "arrowcolor": "#2a3f5f",
                      "arrowhead": 0,
                      "arrowwidth": 1
                    },
                    "autotypenumbers": "strict",
                    "coloraxis": {
                      "colorbar": {
                        "outlinewidth": 0,
                        "ticks": ""
                      }
                    },
                    "colorscale": {
                      "diverging": [
                        [
                          0,
                          "#8e0152"
                        ],
                        [
                          0.1,
                          "#c51b7d"
                        ],
                        [
                          0.2,
                          "#de77ae"
                        ],
                        [
                          0.3,
                          "#f1b6da"
                        ],
                        [
                          0.4,
                          "#fde0ef"
                        ],
                        [
                          0.5,
                          "#f7f7f7"
                        ],
                        [
                          0.6,
                          "#e6f5d0"
                        ],
                        [
                          0.7,
                          "#b8e186"
                        ],
                        [
                          0.8,
                          "#7fbc41"
                        ],
                        [
                          0.9,
                          "#4d9221"
                        ],
                        [
                          1,
                          "#276419"
                        ]
                      ],
                      "sequential": [
                        [
                          0,
                          "#0d0887"
                        ],
                        [
                          0.1111111111111111,
                          "#46039f"
                        ],
                        [
                          0.2222222222222222,
                          "#7201a8"
                        ],
                        [
                          0.3333333333333333,
                          "#9c179e"
                        ],
                        [
                          0.4444444444444444,
                          "#bd3786"
                        ],
                        [
                          0.5555555555555556,
                          "#d8576b"
                        ],
                        [
                          0.6666666666666666,
                          "#ed7953"
                        ],
                        [
                          0.7777777777777778,
                          "#fb9f3a"
                        ],
                        [
                          0.8888888888888888,
                          "#fdca26"
                        ],
                        [
                          1,
                          "#f0f921"
                        ]
                      ],
                      "sequentialminus": [
                        [
                          0,
                          "#0d0887"
                        ],
                        [
                          0.1111111111111111,
                          "#46039f"
                        ],
                        [
                          0.2222222222222222,
                          "#7201a8"
                        ],
                        [
                          0.3333333333333333,
                          "#9c179e"
                        ],
                        [
                          0.4444444444444444,
                          "#bd3786"
                        ],
                        [
                          0.5555555555555556,
                          "#d8576b"
                        ],
                        [
                          0.6666666666666666,
                          "#ed7953"
                        ],
                        [
                          0.7777777777777778,
                          "#fb9f3a"
                        ],
                        [
                          0.8888888888888888,
                          "#fdca26"
                        ],
                        [
                          1,
                          "#f0f921"
                        ]
                      ]
                    },
                    "colorway": [
                      "#636efa",
                      "#EF553B",
                      "#00cc96",
                      "#ab63fa",
                      "#FFA15A",
                      "#19d3f3",
                      "#FF6692",
                      "#B6E880",
                      "#FF97FF",
                      "#FECB52"
                    ],
                    "font": {
                      "color": "#2a3f5f"
                    },
                    "geo": {
                      "bgcolor": "white",
                      "lakecolor": "white",
                      "landcolor": "#E5ECF6",
                      "showlakes": true,
                      "showland": true,
                      "subunitcolor": "white"
                    },
                    "hoverlabel": {
                      "align": "left"
                    },
                    "hovermode": "closest",
                    "mapbox": {
                      "style": "light"
                    },
                    "paper_bgcolor": "white",
                    "plot_bgcolor": "#E5ECF6",
                    "polar": {
                      "angularaxis": {
                        "gridcolor": "white",
                        "linecolor": "white",
                        "ticks": ""
                      },
                      "bgcolor": "#E5ECF6",
                      "radialaxis": {
                        "gridcolor": "white",
                        "linecolor": "white",
                        "ticks": ""
                      }
                    },
                    "scene": {
                      "xaxis": {
                        "backgroundcolor": "#E5ECF6",
                        "gridcolor": "white",
                        "gridwidth": 2,
                        "linecolor": "white",
                        "showbackground": true,
                        "ticks": "",
                        "zerolinecolor": "white"
                      },
                      "yaxis": {
                        "backgroundcolor": "#E5ECF6",
                        "gridcolor": "white",
                        "gridwidth": 2,
                        "linecolor": "white",
                        "showbackground": true,
                        "ticks": "",
                        "zerolinecolor": "white"
                      },
                      "zaxis": {
                        "backgroundcolor": "#E5ECF6",
                        "gridcolor": "white",
                        "gridwidth": 2,
                        "linecolor": "white",
                        "showbackground": true,
                        "ticks": "",
                        "zerolinecolor": "white"
                      }
                    },
                    "shapedefaults": {
                      "line": {
                        "color": "#2a3f5f"
                      }
                    },
                    "ternary": {
                      "aaxis": {
                        "gridcolor": "white",
                        "linecolor": "white",
                        "ticks": ""
                      },
                      "baxis": {
                        "gridcolor": "white",
                        "linecolor": "white",
                        "ticks": ""
                      },
                      "bgcolor": "#E5ECF6",
                      "caxis": {
                        "gridcolor": "white",
                        "linecolor": "white",
                        "ticks": ""
                      }
                    },
                    "title": {
                      "x": 0.05
                    },
                    "xaxis": {
                      "automargin": true,
                      "gridcolor": "white",
                      "linecolor": "white",
                      "ticks": "",
                      "title": {
                        "standoff": 15
                      },
                      "zerolinecolor": "white",
                      "zerolinewidth": 2
                    },
                    "yaxis": {
                      "automargin": true,
                      "gridcolor": "white",
                      "linecolor": "white",
                      "ticks": "",
                      "title": {
                        "standoff": 15
                      },
                      "zerolinecolor": "white",
                      "zerolinewidth": 2
                    }
                  }
                },
                "title": {
                  "text": "Слова в пространстве эмбеддингов (Skip‑Gram)"
                },
                "xaxis": {
                  "anchor": "y",
                  "domain": [
                    0,
                    1
                  ],
                  "title": {
                    "text": "x"
                  }
                },
                "yaxis": {
                  "anchor": "x",
                  "domain": [
                    0,
                    1
                  ],
                  "title": {
                    "text": "y"
                  }
                }
              }
            }
          },
          "metadata": {},
          "output_type": "display_data"
        }
      ],
      "source": [
        "# Берём топ частотных слов для подписей\n",
        "N_show = 120\n",
        "show_words = [w for w, _ in freq.most_common(N_show) if w in word_to_idx]\n",
        "show_idx = np.array([word_to_idx[w] for w in show_words], dtype=int)\n",
        "\n",
        "# PCA на numpy для CBOW\n",
        "E = embeddings_cbow\n",
        "Ec = E - E.mean(axis=0, keepdims=True)\n",
        "Uc, Sc, Vtc = np.linalg.svd(Ec, full_matrices=False)\n",
        "E2d_cbow = (Uc[:, :2] * Sc[:2])\n",
        "\n",
        "# PCA для Skip‑Gram\n",
        "Esg = embeddings_sg\n",
        "Esgc = Esg - Esg.mean(axis=0, keepdims=True)\n",
        "Usg, Ssg, Vtsg = np.linalg.svd(Esgc, full_matrices=False)\n",
        "E2d_sg = (Usg[:, :2] * Ssg[:2])\n",
        "\n",
        "# Визуализируем CBOW\n",
        "fig_cbow = px.scatter(x=E2d_cbow[show_idx,0], y=E2d_cbow[show_idx,1], text=show_words,\n",
        "                      title='Слова в пространстве эмбеддингов (CBOW)')\n",
        "fig_cbow.update_traces(textposition='top center')\n",
        "fig_cbow.show()\n",
        "\n",
        "# Визуализируем Skip‑Gram\n",
        "fig_sg = px.scatter(x=E2d_sg[show_idx,0], y=E2d_sg[show_idx,1], text=show_words,\n",
        "                    title='Слова в пространстве эмбеддингов (Skip‑Gram)')\n",
        "fig_sg.update_traces(textposition='top center')\n",
        "fig_sg.show()\n"
      ]
    },
    {
      "cell_type": "code",
      "execution_count": 10,
      "metadata": {},
      "outputs": [
        {
          "name": "stdout",
          "output_type": "stream",
          "text": [
            "\n",
            "=== CBOW похожие слова ===\n",
            "fire → armed(0.63), airport(0.60), homes(0.59), done(0.56), memories(0.53), damage(0.52), vehicles(0.51), event(0.51)\n",
            "earthquake → dropped(0.63), forecast(0.60), hit(0.56), usgs(0.54), aftershock(0.52), male(0.52), puerto(0.51), within(0.49)\n",
            "flood → theft(0.88), robbery(0.79), leaving(0.74), armed(0.72), oku(0.53), ambulance(0.52), shameless(0.50), black(0.50)\n",
            "storm — нет в словаре\n",
            "help → set(0.60), wish(0.59), usgs(0.57), please(0.57), money(0.56), qassemsoleimani(0.53), team(0.51), forecast(0.51)\n",
            "safe — нет в словаре\n",
            "\n",
            "=== SkipGram похожие слова ===\n",
            "fire → flood(0.98), marilyn(0.98), propaganda(0.98), jan(0.98), dealership(0.98), showing(0.98), through(0.97), everything(0.97)\n",
            "earthquake → video(0.71), hit(0.71), needs(0.70), outside(0.69), days(0.68), special(0.68), day(0.68), track(0.68)\n",
            "flood → showing(0.99), feel(0.99), build(0.99), everything(0.99), overbought(0.99), propaganda(0.99), through(0.99), marivan(0.99)\n",
            "storm — нет в словаре\n",
            "help → province(0.72), terrible(0.69), end(0.67), resulted(0.65), puerto(0.60), back(0.60), after(0.59), sequence(0.57)\n",
            "safe — нет в словаре\n"
          ]
        }
      ],
      "source": [
        "# Быстрый поиск похожих слов по косинусной близости\n",
        "\n",
        "def cosine_sim(a, b):\n",
        "    na = np.linalg.norm(a) + 1e-12\n",
        "    nb = np.linalg.norm(b) + 1e-12\n",
        "    return float(np.dot(a, b) / (na * nb))\n",
        "\n",
        "# Выберем несколько интересных слов, если они есть в словаре\n",
        "probe_words = ['fire','earthquake','flood','storm','help','safe']\n",
        "\n",
        "for model_name, E in [('CBOW', embeddings_cbow), ('SkipGram', embeddings_sg)]:\n",
        "    print(f\"\\n=== {model_name} похожие слова ===\")\n",
        "    for w in probe_words:\n",
        "        if w in word_to_idx:\n",
        "            wi = word_to_idx[w]\n",
        "            v = E[wi]\n",
        "            sims = []\n",
        "            for i in range(E.shape[0]):\n",
        "                if i == wi: \n",
        "                    continue\n",
        "                sims.append((idx_to_word[i], cosine_sim(v, E[i])))\n",
        "            sims.sort(key=lambda x: x[1], reverse=True)\n",
        "            print(w, '→', ', '.join([f\"{sw}({s:.2f})\" for sw,s in sims[:8]]))\n",
        "        else:\n",
        "            print(w, '— нет в словаре')\n"
      ]
    },
    {
      "cell_type": "markdown",
      "metadata": {},
      "source": [
        "## 6) Выводы и что дальше\n",
        "\n",
        "- **TF‑IDF** даёт разреженные векторы документов, хорошо работает как прочная «база», но не учитывает семантику (синонимы/контекст).  \n",
        "- **Word2Vec** (CBOW/Skip‑Gram) обучает плотные векторы слов, где близость отражает смысловую близость. Мы явно посчитали softmax и кросс‑энтропию, увидели обновления весов.  \n",
        "- Визуализация (PCA → Plotly) помогает интуитивно увидеть кластера документов и группировки слов.\n",
        "\n",
        "Идеи для расширения:\n",
        "- добавить стемминг/лемматизацию, более полный список стоп‑слов;  \n",
        "- протестировать разные окна контекста и размер эмбеддингов;  \n",
        "- попробовать негативную выборку (negative sampling) для ускорения обучения на большем корпусе;  \n",
        "- вместо PCA взять t‑SNE/UMAP (для больших данных — осторожнее с временем/ресурсами).\n",
        "\n",
        "Полезные ссылки:\n",
        "- Kaggle `Disaster Tweets`: https://www.kaggle.com/datasets/vstepanenko/disaster-tweets  \n",
        "- TF‑IDF разбор (Habr): https://habr.com/ru/articles/778048/  \n",
        "- Документация Plotly: https://plotly.com/python/  \n",
        "- Word2Vec оригинал: https://arxiv.org/abs/1301.3781 и https://arxiv.org/abs/1310.4546  \n",
        "- Gensim Word2Vec (для реальных проектов): https://radimrehurek.com/gensim/models/word2vec.html\n"
      ]
    },
    {
      "cell_type": "markdown",
      "metadata": {},
      "source": [
        "### Дополнительные эпохи обучения эмбеддингов\n",
        "\n",
        "Чтобы улучшить качество векторов, дообучим модели CBOW и Skip‑Gram ещё на несколько эпох, используя те же пары. После дообучения пересохраним `embeddings_cbow` и `embeddings_sg`.\n"
      ]
    },
    {
      "cell_type": "code",
      "execution_count": 11,
      "metadata": {},
      "outputs": [
        {
          "name": "stderr",
          "output_type": "stream",
          "text": [
            "C:\\Users\\bizy1\\AppData\\Local\\Temp\\ipykernel_39540\\1536931192.py:10: RuntimeWarning:\n",
            "\n",
            "overflow encountered in exp\n",
            "\n"
          ]
        },
        {
          "name": "stdout",
          "output_type": "stream",
          "text": [
            "[CBOW extra] epoch 1/6, loss=1.8244\n",
            "[CBOW extra] epoch 2/6, loss=2.0043\n",
            "[CBOW extra] epoch 3/6, loss=2.0913\n",
            "[CBOW extra] epoch 4/6, loss=2.2573\n",
            "[CBOW extra] epoch 5/6, loss=2.2415\n",
            "[CBOW extra] epoch 6/6, loss=2.2762\n",
            "[SkipGram extra] epoch 1/6, loss=22.0278\n",
            "[SkipGram extra] epoch 2/6, loss=22.6632\n",
            "[SkipGram extra] epoch 3/6, loss=22.8827\n",
            "[SkipGram extra] epoch 4/6, loss=23.2299\n",
            "[SkipGram extra] epoch 5/6, loss=23.6026\n",
            "[SkipGram extra] epoch 6/6, loss=23.8016\n"
          ]
        }
      ],
      "source": [
        "# Дообучение: ещё несколько эпох для CBOW и Skip‑Gram\n",
        "extra_epochs = 6  # добавим к уже пройденным\n",
        "\n",
        "# CBOW дообучение\n",
        "for ep in range(extra_epochs):\n",
        "    total_loss = 0.0\n",
        "    for ctx, center in cbow_pairs:\n",
        "        v_c = np.mean(W_in[ctx], axis=0)\n",
        "        logits = W_out @ v_c\n",
        "        probs = 1.0 / (1.0 + np.exp(-(logits - np.max(logits))))  # простая безопасная сигмоида для стабильности по компонентам\n",
        "        # Переход к softmax: нормируем\n",
        "        probs = np.exp(logits - np.max(logits))\n",
        "        probs = probs / (np.sum(probs) + 1e-12)\n",
        "        loss = -np.log(probs[center] + 1e-12)\n",
        "        total_loss += loss\n",
        "        grad_logits = probs\n",
        "        grad_logits[center] -= 1.0\n",
        "        W_out -= lr * np.outer(grad_logits, v_c)\n",
        "        grad_vc = W_out.T @ grad_logits\n",
        "        grad_each = grad_vc / len(ctx)\n",
        "        for ci in ctx:\n",
        "            W_in[ci] -= lr * grad_each\n",
        "    print(f\"[CBOW extra] epoch {ep+1}/{extra_epochs}, loss={total_loss/len(cbow_pairs):.4f}\")\n",
        "\n",
        "# Skip‑Gram дообучение\n",
        "for ep in range(extra_epochs):\n",
        "    total_loss = 0.0\n",
        "    for center, y in skipgram_pairs:\n",
        "        v_center = W_in_sg[center]\n",
        "        logits = W_out_sg @ v_center\n",
        "        probs = np.exp(logits - np.max(logits))\n",
        "        probs = probs / (np.sum(probs) + 1e-12)\n",
        "        loss = -np.log(probs[y] + 1e-12)\n",
        "        total_loss += loss\n",
        "        grad_logits = probs\n",
        "        grad_logits[y] -= 1.0\n",
        "        W_out_sg -= lr * np.outer(grad_logits, v_center)\n",
        "        grad_vc = W_out_sg.T @ grad_logits\n",
        "        W_in_sg[center] -= lr * grad_vc\n",
        "    print(f\"[SkipGram extra] epoch {ep+1}/{extra_epochs}, loss={total_loss/len(skipgram_pairs):.4f}\")\n",
        "\n",
        "# Обновим эмбеддинги после дообучения\n",
        "embeddings_cbow = W_in.copy()\n",
        "embeddings_sg = W_in_sg.copy()\n"
      ]
    },
    {
      "cell_type": "markdown",
      "metadata": {},
      "source": [
        "## Дополнение: простая классификация на основе Word2Vec\n",
        "\n",
        "Идея максимально простая и прозрачная:\n",
        "- для каждого документа берём средний вектор слов (из обученных эмбеддингов CBOW/Skip‑Gram);\n",
        "- обучаем логистическую регрессию (1 слой: `sigmoid(XW+b)`) на `numpy` с кросс‑энтропией;\n",
        "- смотрим точность на отложенной выборке.\n",
        "\n",
        "Без функций/классов — всё «в лоб», небольшим количеством кода.\n"
      ]
    },
    {
      "cell_type": "code",
      "execution_count": 12,
      "metadata": {},
      "outputs": [
        {
          "data": {
            "text/plain": [
              "((11370, 30), (11370, 30), (11370,))"
            ]
          },
          "execution_count": 12,
          "metadata": {},
          "output_type": "execute_result"
        }
      ],
      "source": [
        "# Документные эмбеддинги как среднее словарных векторов (CBOW и Skip‑Gram)\n",
        "embed_dim = embeddings_cbow.shape[1]\n",
        "X_doc_cbow = np.zeros((len(df), embed_dim), dtype=np.float32)\n",
        "X_doc_sg   = np.zeros((len(df), embed_dim), dtype=np.float32)\n",
        "\n",
        "for i, toks in enumerate(df['tokens']):\n",
        "    idxs = [word_to_idx[w] for w in toks if w in word_to_idx]\n",
        "    if len(idxs) > 0:\n",
        "        X_doc_cbow[i] = embeddings_cbow[idxs].mean(axis=0)\n",
        "        X_doc_sg[i]   = embeddings_sg[idxs].mean(axis=0)\n",
        "    else:\n",
        "        X_doc_cbow[i] = 0.0\n",
        "        X_doc_sg[i]   = 0.0\n",
        "\n",
        "y = df['target'].astype(np.float32).values\n",
        "\n",
        "X_doc_cbow.shape, X_doc_sg.shape, y.shape\n"
      ]
    },
    {
      "cell_type": "code",
      "execution_count": 13,
      "metadata": {},
      "outputs": [
        {
          "name": "stdout",
          "output_type": "stream",
          "text": [
            "[CBOW LR] epoch 50/200, loss=0.4425\n",
            "[CBOW LR] epoch 100/200, loss=0.4413\n",
            "[CBOW LR] epoch 150/200, loss=0.4411\n",
            "[CBOW LR] epoch 200/200, loss=0.4411\n",
            "CBOW Test accuracy: 0.798 | TP=10 TN=1805 FP=16 FN=443\n"
          ]
        }
      ],
      "source": [
        "# Логистическая регрессия на эмбеддингах CBOW (numpy)\n",
        "perm = np.random.permutation(len(df))\n",
        "train_size = int(0.8 * len(df))\n",
        "train_idx, test_idx = perm[:train_size], perm[train_size:]\n",
        "\n",
        "Xtr = X_doc_cbow[train_idx]\n",
        "Xte = X_doc_cbow[test_idx]\n",
        "ytr = y[train_idx]\n",
        "yte = y[test_idx]\n",
        "\n",
        "# Стандартизация (по обучающей выборке)\n",
        "mu = Xtr.mean(axis=0)\n",
        "sigma = Xtr.std(axis=0) + 1e-8\n",
        "Xtr = (Xtr - mu) / sigma\n",
        "Xte = (Xte - mu) / sigma\n",
        "\n",
        "# Инициализация весов и обучение (полный батч)\n",
        "W = np.zeros(embed_dim, dtype=np.float32)\n",
        "b = 0.0\n",
        "lr = 0.5\n",
        "epochs = 200\n",
        "\n",
        "for ep in range(epochs):\n",
        "    z = Xtr @ W + b\n",
        "    p = 1.0 / (1.0 + np.exp(-z))\n",
        "    loss = -np.mean(ytr*np.log(p + 1e-12) + (1 - ytr)*np.log(1 - p + 1e-12))\n",
        "    grad = (p - ytr)\n",
        "    dW = Xtr.T @ grad / Xtr.shape[0]\n",
        "    db = grad.mean()\n",
        "    W -= lr * dW\n",
        "    b -= lr * db\n",
        "    if (ep + 1) % 50 == 0:\n",
        "        print(f\"[CBOW LR] epoch {ep+1}/{epochs}, loss={loss:.4f}\")\n",
        "\n",
        "# Оценка\n",
        "p_te = 1.0 / (1.0 + np.exp(- (Xte @ W + b)))\n",
        "pred = (p_te >= 0.5).astype(np.int32)\n",
        "acc = (pred == yte).mean()\n",
        "\n",
        "TP = int(((pred == 1) & (yte == 1)).sum())\n",
        "TN = int(((pred == 0) & (yte == 0)).sum())\n",
        "FP = int(((pred == 1) & (yte == 0)).sum())\n",
        "FN = int(((pred == 0) & (yte == 1)).sum())\n",
        "\n",
        "print(f\"CBOW Test accuracy: {acc:.3f} | TP={TP} TN={TN} FP={FP} FN={FN}\")\n"
      ]
    },
    {
      "cell_type": "code",
      "execution_count": 14,
      "metadata": {},
      "outputs": [
        {
          "name": "stdout",
          "output_type": "stream",
          "text": [
            "[SG LR] epoch 50/200, loss=0.4842\n",
            "[SG LR] epoch 100/200, loss=0.4841\n",
            "[SG LR] epoch 150/200, loss=0.4840\n",
            "[SG LR] epoch 200/200, loss=0.4839\n",
            "Skip‑Gram Test accuracy: 0.825 | TP=0 TN=1875 FP=0 FN=399\n"
          ]
        }
      ],
      "source": [
        "# Логистическая регрессия на эмбеддингах Skip‑Gram (numpy) — такой же код\n",
        "perm = np.random.permutation(len(df))\n",
        "train_size = int(0.8 * len(df))\n",
        "train_idx, test_idx = perm[:train_size], perm[train_size:]\n",
        "\n",
        "Xtr = X_doc_sg[train_idx]\n",
        "Xte = X_doc_sg[test_idx]\n",
        "ytr = y[train_idx]\n",
        "yte = y[test_idx]\n",
        "\n",
        "mu = Xtr.mean(axis=0)\n",
        "sigma = Xtr.std(axis=0) + 1e-8\n",
        "Xtr = (Xtr - mu) / sigma\n",
        "Xte = (Xte - mu) / sigma\n",
        "\n",
        "W = np.zeros(embed_dim, dtype=np.float32)\n",
        "b = 0.0\n",
        "lr = 0.5\n",
        "epochs = 200\n",
        "\n",
        "for ep in range(epochs):\n",
        "    z = Xtr @ W + b\n",
        "    p = 1.0 / (1.0 + np.exp(-z))\n",
        "    loss = -np.mean(ytr*np.log(p + 1e-12) + (1 - ytr)*np.log(1 - p + 1e-12))\n",
        "    grad = (p - ytr)\n",
        "    dW = Xtr.T @ grad / Xtr.shape[0]\n",
        "    db = grad.mean()\n",
        "    W -= lr * dW\n",
        "    b -= lr * db\n",
        "    if (ep + 1) % 50 == 0:\n",
        "        print(f\"[SG LR] epoch {ep+1}/{epochs}, loss={loss:.4f}\")\n",
        "\n",
        "p_te = 1.0 / (1.0 + np.exp(- (Xte @ W + b)))\n",
        "pred = (p_te >= 0.5).astype(np.int32)\n",
        "acc = (pred == yte).mean()\n",
        "\n",
        "TP = int(((pred == 1) & (yte == 1)).sum())\n",
        "TN = int(((pred == 0) & (yte == 0)).sum())\n",
        "FP = int(((pred == 1) & (yte == 0)).sum())\n",
        "FN = int(((pred == 0) & (yte == 1)).sum())\n",
        "\n",
        "print(f\"Skip‑Gram Test accuracy: {acc:.3f} | TP={TP} TN={TN} FP={FP} FN={FN}\")\n"
      ]
    }
  ],
  "metadata": {
    "kernelspec": {
      "display_name": "b2b",
      "language": "python",
      "name": "python3"
    },
    "language_info": {
      "codemirror_mode": {
        "name": "ipython",
        "version": 3
      },
      "file_extension": ".py",
      "mimetype": "text/x-python",
      "name": "python",
      "nbconvert_exporter": "python",
      "pygments_lexer": "ipython3",
      "version": "3.12.9"
    }
  },
  "nbformat": 4,
  "nbformat_minor": 2
}
