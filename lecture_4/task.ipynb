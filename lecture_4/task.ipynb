{
 "cells": [
  {
   "cell_type": "markdown",
   "id": "f78edd68",
   "metadata": {},
   "source": [
    "вывод отформатированного треугольника паскаля\n",
    "\n",
    "до 4 уровня включительно"
   ]
  },
  {
   "cell_type": "code",
   "execution_count": 53,
   "id": "3d18db8d",
   "metadata": {},
   "outputs": [],
   "source": [
    "from rich import print as rich_print"
   ]
  },
  {
   "cell_type": "code",
   "execution_count": 54,
   "id": "0dd9aa18",
   "metadata": {},
   "outputs": [],
   "source": [
    "def calc_pascal_triangular(rows: int) -> list[list[int]]:\n",
    "  triangular = []\n",
    "  \n",
    "  for i in range(rows):\n",
    "\n",
    "    row = [1]*(i+1)\n",
    "\n",
    "    for j in range(1, i):\n",
    "\n",
    "        row[j] = triangular[i-1][j-1] + triangular[i-1][j]\n",
    "\n",
    "    triangular.append(row)\n",
    "\n",
    "  return triangular"
   ]
  },
  {
   "cell_type": "code",
   "execution_count": 55,
   "id": "8e0a4cee",
   "metadata": {},
   "outputs": [
    {
     "data": {
      "text/html": [
       "<pre style=\"white-space:pre;overflow-x:auto;line-height:normal;font-family:Menlo,'DejaVu Sans Mono',consolas,'Courier New',monospace\"><span style=\"font-weight: bold\">[[</span><span style=\"color: #008080; text-decoration-color: #008080; font-weight: bold\">1</span><span style=\"font-weight: bold\">]</span>, <span style=\"font-weight: bold\">[</span><span style=\"color: #008080; text-decoration-color: #008080; font-weight: bold\">1</span>, <span style=\"color: #008080; text-decoration-color: #008080; font-weight: bold\">1</span><span style=\"font-weight: bold\">]</span>, <span style=\"font-weight: bold\">[</span><span style=\"color: #008080; text-decoration-color: #008080; font-weight: bold\">1</span>, <span style=\"color: #008080; text-decoration-color: #008080; font-weight: bold\">2</span>, <span style=\"color: #008080; text-decoration-color: #008080; font-weight: bold\">1</span><span style=\"font-weight: bold\">]</span>, <span style=\"font-weight: bold\">[</span><span style=\"color: #008080; text-decoration-color: #008080; font-weight: bold\">1</span>, <span style=\"color: #008080; text-decoration-color: #008080; font-weight: bold\">3</span>, <span style=\"color: #008080; text-decoration-color: #008080; font-weight: bold\">3</span>, <span style=\"color: #008080; text-decoration-color: #008080; font-weight: bold\">1</span><span style=\"font-weight: bold\">]]</span>\n",
       "</pre>\n"
      ],
      "text/plain": [
       "\u001b[1m[\u001b[0m\u001b[1m[\u001b[0m\u001b[1;36m1\u001b[0m\u001b[1m]\u001b[0m, \u001b[1m[\u001b[0m\u001b[1;36m1\u001b[0m, \u001b[1;36m1\u001b[0m\u001b[1m]\u001b[0m, \u001b[1m[\u001b[0m\u001b[1;36m1\u001b[0m, \u001b[1;36m2\u001b[0m, \u001b[1;36m1\u001b[0m\u001b[1m]\u001b[0m, \u001b[1m[\u001b[0m\u001b[1;36m1\u001b[0m, \u001b[1;36m3\u001b[0m, \u001b[1;36m3\u001b[0m, \u001b[1;36m1\u001b[0m\u001b[1m]\u001b[0m\u001b[1m]\u001b[0m\n"
      ]
     },
     "metadata": {},
     "output_type": "display_data"
    }
   ],
   "source": [
    "triangular = calc_pascal_triangular(4)\n",
    "\n",
    "rich_print(triangular)"
   ]
  },
  {
   "cell_type": "code",
   "execution_count": 60,
   "id": "e2269efa",
   "metadata": {},
   "outputs": [],
   "source": [
    "def print_pascal_triangular(triangular: list[list[int]]) -> None:\n",
    "  max_len = len(' '.join([str(num) for num in triangular[-1]]))\n",
    "\n",
    "  for row in triangular:\n",
    "\n",
    "    row_str_type = [str(num) for num in row]\n",
    "    print(\" \".join(row_str_type).center(max_len))"
   ]
  },
  {
   "cell_type": "code",
   "execution_count": 61,
   "id": "02a05430",
   "metadata": {},
   "outputs": [
    {
     "name": "stdout",
     "output_type": "stream",
     "text": [
      "   1   \n",
      "  1 1  \n",
      " 1 2 1 \n",
      "1 3 3 1\n"
     ]
    }
   ],
   "source": [
    "print_pascal_triangular(triangular)"
   ]
  }
 ],
 "metadata": {
  "kernelspec": {
   "display_name": "lecture-4",
   "language": "python",
   "name": "python3"
  },
  "language_info": {
   "codemirror_mode": {
    "name": "ipython",
    "version": 3
   },
   "file_extension": ".py",
   "mimetype": "text/x-python",
   "name": "python",
   "nbconvert_exporter": "python",
   "pygments_lexer": "ipython3",
   "version": "3.12.3"
  }
 },
 "nbformat": 4,
 "nbformat_minor": 5
}
